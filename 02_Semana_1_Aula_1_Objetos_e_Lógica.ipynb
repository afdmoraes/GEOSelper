{
  "nbformat": 4,
  "nbformat_minor": 0,
  "metadata": {
    "colab": {
      "provenance": [],
      "collapsed_sections": [],
      "include_colab_link": true
    },
    "kernelspec": {
      "name": "python3",
      "display_name": "Python 3"
    }
  },
  "cells": [
    {
      "cell_type": "markdown",
      "metadata": {
        "id": "view-in-github",
        "colab_type": "text"
      },
      "source": [
        "<a href=\"https://colab.research.google.com/github/afdmoraes/GEOSelper/blob/main/02_Semana_1_Aula_1_Objetos_e_L%C3%B3gica.ipynb\" target=\"_parent\"><img src=\"https://colab.research.google.com/assets/colab-badge.svg\" alt=\"Open In Colab\"/></a>"
      ]
    },
    {
      "cell_type": "markdown",
      "metadata": {
        "id": "2FrUDDadsNzU"
      },
      "source": [
        "# Curso de Programação para Sensoriamento Remoto\n",
        "---\n",
        "\n",
        "* Gilberto Ribeiro de Queiroz\n",
        "* Thales Sehn Körting\n",
        "\n",
        "## Tópicos desta aula\n",
        "\n",
        "* Objetos\n",
        "* Expressões\n",
        "* Variáveis\n",
        "* Comentários\n",
        "* Tipo Lógico e Operadores Lógicos\n",
        "* Expressões Lógicas\n"
      ]
    },
    {
      "cell_type": "markdown",
      "metadata": {
        "id": "M-sZSjBzjgUp"
      },
      "source": [
        "# **Objetos**\n",
        "\n",
        "---\n",
        "Um programa Python manipula o que chamamos de objetos.\n",
        "\n",
        "\n",
        "\n"
      ]
    },
    {
      "cell_type": "code",
      "metadata": {
        "id": "-zYyWlYdj1w6",
        "colab": {
          "base_uri": "https://localhost:8080/",
          "height": 35
        },
        "outputId": "fa2a9c35-630d-4426-df79-5acbb13d9eac"
      },
      "source": [
        "nome = \"Sensoriamento Remoto\"\n",
        "ano = 1972\n",
        "print(nome, ano)"
      ],
      "execution_count": null,
      "outputs": [
        {
          "output_type": "stream",
          "text": [
            "Sensoriamento Remoto 1972\n"
          ],
          "name": "stdout"
        }
      ]
    },
    {
      "cell_type": "markdown",
      "metadata": {
        "id": "9c2z60Ljj3A_"
      },
      "source": [
        "## Tipos de Dados: Definição\n",
        "\n",
        "* Todo objeto está associado a um tipo, que define as operações que podem ser realizadas sobre ele.\n",
        "* Um tipo de dado (*data type*) é definido por um conjunto de valores e um conjunto de operações sobre esses valores.\n",
        "* O *core* da linguagem Python contém um conjunto de tipos de dados chamados de fundamentais ou primitivos (*built-in types*), para manipulação de valores:\n",
        "  * numéricos\n",
        "  * lógicos (ou booleanos)\n",
        "  * strings (cadeia de caracteres)\n",
        "  * listas\n",
        "  * dicionários\n",
        "  * ...\n",
        "\n",
        "## Tipos de Dados: Constantes ou Literais\n",
        "\n",
        "* Os valores individuais de cada tipo são chamados de literais ou literais constantes."
      ]
    },
    {
      "cell_type": "code",
      "metadata": {
        "id": "TA3FermOj-NG"
      },
      "source": [
        "# O número inteiro\n",
        "473\n",
        "\n",
        "# O número real (ponto flutuante)\n",
        "4.1\n",
        "\n",
        "# O número complexo\n",
        "7+3j\n",
        "\n",
        "# O valor lógico verdadeiro\n",
        "True\n",
        "\n",
        "# A sequência de caracteres\n",
        "\"Satélite\"\n",
        "\n",
        "# A lista de números ímpares \n",
        "[1, 3, 5, 7]\n",
        "\n",
        "# O conjunto de sequência de caracteres\n",
        "{\"Landsat\", \"Sentinel\", \"CBERS\"}\n",
        "\n",
        "# O dicionário\n",
        "{\"latitude\" : -12, \"longitude\" : -54}\n",
        "\n",
        "# O valor nulo\n",
        "None"
      ],
      "execution_count": null,
      "outputs": []
    },
    {
      "cell_type": "markdown",
      "metadata": {
        "id": "X9be_KmwkQCm"
      },
      "source": [
        "## Tipos Numéricos: **int**\n",
        "\n",
        "O tipo *int* é capaz de representar números inteiros.\n"
      ]
    },
    {
      "cell_type": "code",
      "metadata": {
        "id": "Q-3M2vwZkQ-E",
        "colab": {
          "base_uri": "https://localhost:8080/",
          "height": 52
        },
        "outputId": "0da82764-179f-4be7-c213-e5f5051a548e"
      },
      "source": [
        "print(1003)\n",
        "\n",
        "print(9223372036854775808)"
      ],
      "execution_count": null,
      "outputs": [
        {
          "output_type": "stream",
          "text": [
            "1003\n",
            "9223372036854775808\n"
          ],
          "name": "stdout"
        }
      ]
    },
    {
      "cell_type": "markdown",
      "metadata": {
        "id": "pxfOpV2KkYed"
      },
      "source": [
        "## Tipos Numéricos: **float**\n",
        "\n",
        "O tipo float, ou ponto flutuante, é capaz de representar números reais com uma certa precisão numérica (64-bits)."
      ]
    },
    {
      "cell_type": "code",
      "metadata": {
        "id": "-2dzCSy2ka2H",
        "colab": {
          "base_uri": "https://localhost:8080/",
          "height": 69
        },
        "outputId": "a24a7ffc-b237-43bd-9d85-25a8541aa088"
      },
      "source": [
        "print(5.1)\n",
        "\n",
        "print(5.)\n",
        "\n",
        "print(1.2e12)"
      ],
      "execution_count": null,
      "outputs": [
        {
          "output_type": "stream",
          "text": [
            "5.1\n",
            "5.0\n",
            "1200000000000.0\n"
          ],
          "name": "stdout"
        }
      ]
    },
    {
      "cell_type": "markdown",
      "metadata": {
        "id": "NIKQUWWCkfWz"
      },
      "source": [
        "## Outros Tipos Numéricos\n",
        "\n",
        "* *complex*: números complexos.\n",
        "* *fractions*: racionais.\n",
        "* *decimal*: números em ponto flutuante com precisão definida pelo usuário.\n",
        "\n",
        "## Tipos de Dados: *Operações*\n",
        "\n",
        "* Para cada tipo de dado, existe um conjunto de operadores disponíveis.\n",
        "* Para os tipos numéricos, temos os operadores aritméticos básicos, cada um com sua notação.\n",
        "\n",
        "\n"
      ]
    },
    {
      "cell_type": "code",
      "metadata": {
        "id": "drrtM6jPktlM",
        "colab": {
          "base_uri": "https://localhost:8080/",
          "height": 87
        },
        "outputId": "16b1ed6a-bb74-4daf-c2f0-bfbf3fda89e6"
      },
      "source": [
        "# adição\n",
        "print(5 + 2)\n",
        "\n",
        "# subtração\n",
        "print(5 - 2)\n",
        "\n",
        "# multiplicação\n",
        "print(5 * 2)\n",
        "\n",
        "# divisão\n",
        "print(5 / 2)"
      ],
      "execution_count": null,
      "outputs": [
        {
          "output_type": "stream",
          "text": [
            "7\n",
            "3\n",
            "10\n",
            "2.5\n"
          ],
          "name": "stdout"
        }
      ]
    },
    {
      "cell_type": "code",
      "metadata": {
        "id": "FsH6H5OSwFrp",
        "colab": {
          "base_uri": "https://localhost:8080/",
          "height": 69
        },
        "outputId": "d56e55c5-0132-4fd9-a8b4-092242bae47a"
      },
      "source": [
        "# parte inteira da divisão\n",
        "print(5 // 2)\n",
        "\n",
        "# resto da divisão\n",
        "print(5 % 2)\n",
        "\n",
        "# potenciação\n",
        "print(5 ** 2)"
      ],
      "execution_count": null,
      "outputs": [
        {
          "output_type": "stream",
          "text": [
            "2\n",
            "1\n",
            "25\n"
          ],
          "name": "stdout"
        }
      ]
    },
    {
      "cell_type": "markdown",
      "metadata": {
        "id": "W7ao4rW_k4jI"
      },
      "source": [
        "# **Expressões**\n",
        "---\n",
        "\n",
        "Através da combinação das operações e operandos, podemos criar expressões, como as expressões matemáticas convencionais:"
      ]
    },
    {
      "cell_type": "code",
      "metadata": {
        "id": "82n1MfMXk5qv",
        "colab": {
          "base_uri": "https://localhost:8080/",
          "height": 35
        },
        "outputId": "6767133c-c3bc-43e2-8d14-6cddb4fa85ad"
      },
      "source": [
        "print(2 + 3 * 4 / 2)"
      ],
      "execution_count": null,
      "outputs": [
        {
          "output_type": "stream",
          "text": [
            "8.0\n"
          ],
          "name": "stdout"
        }
      ]
    },
    {
      "cell_type": "markdown",
      "metadata": {
        "id": "TBC2sAMtlM0x"
      },
      "source": [
        "## Função: *type(object)*\n",
        "\n",
        "Informa o tipo de um objeto (ou valor)"
      ]
    },
    {
      "cell_type": "code",
      "metadata": {
        "id": "jBCi60GilOKc",
        "colab": {
          "base_uri": "https://localhost:8080/",
          "height": 104
        },
        "outputId": "979d3f5d-9161-4de6-995b-a500263916eb"
      },
      "source": [
        "print(type(\"Landsat\"))\n",
        "\n",
        "print(type(30))\n",
        "\n",
        "print(type(22.5))\n",
        "\n",
        "print(type(5 / 2 + 4 * 5))\n",
        "\n",
        "print(type([1, 3, 5, 7 ]))"
      ],
      "execution_count": null,
      "outputs": [
        {
          "output_type": "stream",
          "text": [
            "<class 'str'>\n",
            "<class 'int'>\n",
            "<class 'float'>\n",
            "<class 'float'>\n",
            "<class 'list'>\n"
          ],
          "name": "stdout"
        }
      ]
    },
    {
      "cell_type": "markdown",
      "metadata": {
        "id": "vk8wW5KtlP4e"
      },
      "source": [
        "## Ordem de Avaliação de Expressões\n",
        "\n",
        "Considere a seguinte expressão\n",
        "```\n",
        "5.0 * 2.0 + 3.0 / 4.0\n",
        "```\n",
        "\n",
        "Qual o resultado dessa expressão? \n",
        "* 3.25\n",
        "* 10.75\n",
        "\n",
        "Por quê?\n",
        "```\n",
        "(5.0 * 2.0 + 3.0) / 4.0 -> 3.25\n",
        " 5.0 * 2.0 + 3.0  / 4.0 -> 10.75\n",
        "```\n",
        "\n",
        "Quando uma expressão contém mais de dois operadores, a ordem em que eles são avaliados é significante. Por isso, existe uma convenção bem definida da precedência de cada operador.\n",
        "\n",
        "No caso das operações aritméticas, a prioridade é a seguinte:\n",
        "\n",
        "1. multiplicação, divisão, potenciação e resto da divisão\n",
        "2. adição e subtração.\n",
        "\n",
        "Assim como na matemática, podemos usar parênteses para controlar essa prioridade."
      ]
    },
    {
      "cell_type": "markdown",
      "metadata": {
        "id": "zNu2oDkzlW9S"
      },
      "source": [
        "## Ordem de Avaliação de Expressões\n",
        "\n",
        "* Além das regras de precedência, temos também a ordem de aplicação.\n",
        "* Vários operadores são *infixos*, isto é, temos um literal ou variável ou expressão, seguido do operador, seguido por outro literal ou variável ou expressão.\n",
        "* Nas linguagens de programação, vários operadores possuem uma *associatividade* da esquerda para direita."
      ]
    },
    {
      "cell_type": "markdown",
      "metadata": {
        "id": "lAJZxU1DlYZM"
      },
      "source": [
        "## **Funções e Chamada de Funções**\n",
        "---\n",
        "\n",
        "* Apenas com o conjunto de operações básicas seria muito difícil programar.\n",
        "* Várias funcionalidades que iremos incluir na escrita dos nossos programas pressupõem a existência de algumas funções e procedimentos auxiliares, como as funções matemáticas.\n",
        "* Estas funcionalidades podem ser incluídas no nosso programa na forma de chamada de uma função (*function call*), que é uma forma de desviar o fluxo de controle do nosso programa para uma outra parte que irá realizar uma determinada computação, e depois irá retornar o fluxo de controle ao ponto onde foi chamada (ou invocada).\n",
        "* A chamada de uma função é feita colocando-se o nome da função e a lista de argumentos que será passada à função, para que ela realize sua computação."
      ]
    },
    {
      "cell_type": "code",
      "metadata": {
        "id": "7_DYVGshlbxz",
        "colab": {
          "base_uri": "https://localhost:8080/",
          "height": 87
        },
        "outputId": "d6f47d9c-3fd2-4894-97ca-6d84d86d96d4"
      },
      "source": [
        "# 'print' que já temos utilizado, é uma função\n",
        "print(\"Sensoriamento\", \"Remoto\", sep=\"-\")\n",
        "\n",
        "# int converte um número para o tipo inteiro\n",
        "print(int(22.5))\n",
        "\n",
        "# float converte um número para o tipo real (ponto flutuante)\n",
        "print(float(5))\n",
        "\n",
        "# type retorna o tipo de dados\n",
        "print(type([1, 3, 5, 7 ]))"
      ],
      "execution_count": null,
      "outputs": [
        {
          "output_type": "stream",
          "text": [
            "Sensoriamento-Remoto\n",
            "22\n",
            "5.0\n",
            "<class 'list'>\n"
          ],
          "name": "stdout"
        }
      ]
    },
    {
      "cell_type": "markdown",
      "metadata": {
        "id": "Z67Dr7XHliR1"
      },
      "source": [
        "## Tipos Numéricos: *Funções Matemáticas*\n",
        "\n",
        "* Além dos operadores básicos, temos diversas funções matemáticas disponíveis."
      ]
    },
    {
      "cell_type": "code",
      "metadata": {
        "id": "P-gAHBlnad9C",
        "colab": {
          "base_uri": "https://localhost:8080/",
          "height": 201
        },
        "outputId": "fb34b6d0-2970-424d-b5b7-ee61f840277a"
      },
      "source": [
        "import math \n",
        "# log10 é o logaritmo na base 10\n",
        "print(log10(10))"
      ],
      "execution_count": null,
      "outputs": [
        {
          "output_type": "error",
          "ename": "NameError",
          "evalue": "ignored",
          "traceback": [
            "\u001b[0;31m---------------------------------------------------------------------------\u001b[0m",
            "\u001b[0;31mNameError\u001b[0m                                 Traceback (most recent call last)",
            "\u001b[0;32m<ipython-input-14-f66428465c4a>\u001b[0m in \u001b[0;36m<module>\u001b[0;34m()\u001b[0m\n\u001b[1;32m      1\u001b[0m \u001b[0;32mimport\u001b[0m \u001b[0mmath\u001b[0m\u001b[0;34m\u001b[0m\u001b[0;34m\u001b[0m\u001b[0m\n\u001b[1;32m      2\u001b[0m \u001b[0;31m# log10 é o logaritmo na base 10\u001b[0m\u001b[0;34m\u001b[0m\u001b[0;34m\u001b[0m\u001b[0;34m\u001b[0m\u001b[0m\n\u001b[0;32m----> 3\u001b[0;31m \u001b[0mprint\u001b[0m\u001b[0;34m(\u001b[0m\u001b[0mlog10\u001b[0m\u001b[0;34m(\u001b[0m\u001b[0;36m10\u001b[0m\u001b[0;34m)\u001b[0m\u001b[0;34m)\u001b[0m\u001b[0;34m\u001b[0m\u001b[0;34m\u001b[0m\u001b[0m\n\u001b[0m",
            "\u001b[0;31mNameError\u001b[0m: name 'log10' is not defined"
          ]
        }
      ]
    },
    {
      "cell_type": "markdown",
      "metadata": {
        "id": "ilK3h529adXK"
      },
      "source": [
        "\n",
        "\n",
        "---\n",
        "\n"
      ]
    },
    {
      "cell_type": "code",
      "metadata": {
        "id": "ypSXRqPQljUp",
        "colab": {
          "base_uri": "https://localhost:8080/",
          "height": 69
        },
        "outputId": "2694bc77-217e-4d6e-c736-c98bf999afa4"
      },
      "source": [
        "# para utilizar algumas funções matemáticas, \n",
        "# precisamos importar a biblioteca math\n",
        "import math \n",
        "\n",
        "# abs retorna o valor absoluto (sem sinal)\n",
        "print(abs(-22.5))\n",
        "\n",
        "# ceil retorna o teto de um número x (o maior inteiro que não seja menor que x)\n",
        "print(math.ceil(1.2))\n",
        "\n",
        "# floor retorna o piso de um número x (o maior inteiro que não seja maior que x)\n",
        "print(math.floor(1.2))"
      ],
      "execution_count": null,
      "outputs": [
        {
          "output_type": "stream",
          "text": [
            "22.5\n",
            "2\n",
            "1\n"
          ],
          "name": "stdout"
        }
      ]
    },
    {
      "cell_type": "code",
      "metadata": {
        "id": "ATOwsrdDwVP1",
        "colab": {
          "base_uri": "https://localhost:8080/",
          "height": 87
        },
        "outputId": "82962c31-0341-4242-9f55-b2680ab41a09"
      },
      "source": [
        "# exp é a exponencial\n",
        "print(math.exp(2))\n",
        "\n",
        "# pow realiza a potenciação de x em y\n",
        "print(pow(2, 6))\n",
        "\n",
        "# log é o logaritmo natural\n",
        "print(math.log(10))\n",
        "\n",
        "# log10 é o logaritmo na base 10\n",
        "print(math.log10(10))"
      ],
      "execution_count": null,
      "outputs": [
        {
          "output_type": "stream",
          "text": [
            "7.38905609893065\n",
            "64\n",
            "2.302585092994046\n",
            "1.0\n"
          ],
          "name": "stdout"
        }
      ]
    },
    {
      "cell_type": "markdown",
      "metadata": {
        "id": "6TWcXg4plyTt"
      },
      "source": [
        "# **Variáveis**\n",
        "---\n",
        "\n",
        "* Um programa, além de manipular *valores constantes* ou *literais*, também manipula o que chamamos de *variáveis*.\n",
        "* Cada variável corresponde a uma posição de memória cujo conteúdo pode variar ao longo do tempo de execução de um programa.\n",
        "* Uma variável possui *um nome* usado como identificador e, em geral, é associada com um *tipo de dado*. "
      ]
    },
    {
      "cell_type": "code",
      "metadata": {
        "id": "Ia9lwz8Nl2DW",
        "colab": {
          "base_uri": "https://localhost:8080/",
          "height": 69
        },
        "outputId": "d358ef4c-9c75-40ae-d93a-f634ce1ef8f5"
      },
      "source": [
        "x = 5.2\n",
        "print(x)\n",
        "\n",
        "y = 5\n",
        "print(y)\n",
        "\n",
        "nome = \"Sensoriamento Remoto\"\n",
        "print(nome)"
      ],
      "execution_count": null,
      "outputs": [
        {
          "output_type": "stream",
          "text": [
            "5.2\n",
            "5\n",
            "Sensoriamento Remoto\n"
          ],
          "name": "stdout"
        }
      ]
    },
    {
      "cell_type": "markdown",
      "metadata": {
        "id": "NaL_FpQ3l5PT"
      },
      "source": [
        "## Atribuição\n",
        "\n",
        "* A atribuição é um comando que associa um valor de um determinado tipo de dados a uma variável.\n",
        "* Essa associação pode também ser o resultado de uma expressão.\n",
        "```\n",
        "identificador = expressão\n",
        "```\n",
        "* identificador é o nome da variável\n",
        "* expressão pode ser um valor, uma variável, o resultado de um comando ou de uma expressão"
      ]
    },
    {
      "cell_type": "markdown",
      "metadata": {
        "id": "KkFhvGbOl62n"
      },
      "source": [
        "## Variáveis: Considerações\n",
        "\n",
        "* Os tipos de dados nos abstraem da representação interna, ou seja, como os valores estão armazenados na memória do computador.\n",
        "* O conceito de variável nos abstrai da necessidade de lembrarmos das posições de memória onde armazenamos valores."
      ]
    },
    {
      "cell_type": "markdown",
      "metadata": {
        "id": "DCV8QWIFl9Ar"
      },
      "source": [
        "## Regras para Nomes de Variáveis\n",
        "\n",
        "* Cada linguagem de programação possui suas regras para nomenclatura das variáveis, inclusive para dizer se há diferenças entre nomes de variáveis com letras maiúsculas e minúsculas.\n",
        "* Em Python, os identificadores de variáveis podem ser qualquer cadeia de caracteres formada por letras, dígitos e *underscore* ( **_** ), desde que não comece com um dígito.\n",
        "* Além disso, existe a distinção entre caracteres maiúsculos e minúsculos."
      ]
    },
    {
      "cell_type": "markdown",
      "metadata": {
        "id": "CrDgH9skmErm"
      },
      "source": [
        "# **Comentários**\n",
        "---\n",
        "\n",
        "* Comentários são parte importante de qualquer programa, não sendo considerados instruções a serem executadas.\n",
        "* Eles servem para documentar o código do programa.\n",
        "* Temos uma notação especial para documentação de funções e classes."
      ]
    },
    {
      "cell_type": "markdown",
      "metadata": {
        "id": "LG-GyQh6fWni"
      },
      "source": [
        "## Exemplo: Calculando o NDVI"
      ]
    },
    {
      "cell_type": "code",
      "metadata": {
        "id": "PprfnT76mGgk",
        "colab": {
          "base_uri": "https://localhost:8080/",
          "height": 69
        },
        "outputId": "73677bcb-02af-41f8-98c5-15f5a2ec1ba6"
      },
      "source": [
        "# definir valores de NIR e Red\n",
        "NIR = 0.5\n",
        "Red = 0.3\n",
        "\n",
        "# mostrar dados de entrada na tela\n",
        "print(\"NIR: \", NIR)\n",
        "print(\"Red: \", Red)\n",
        "\n",
        "# calcular NDVI\n",
        "NDVI = (NIR - Red) / (NIR + Red)\n",
        "\n",
        "# mostrar resultado na tela\n",
        "print(\"NDVI: \", NDVI)"
      ],
      "execution_count": null,
      "outputs": [
        {
          "output_type": "stream",
          "text": [
            "NIR:  0.5\n",
            "Red:  0.3\n",
            "NDVI:  0.25\n"
          ],
          "name": "stdout"
        }
      ]
    },
    {
      "cell_type": "markdown",
      "metadata": {
        "id": "Scrc-2djnK2t"
      },
      "source": [
        "# **Tipo Lógico e Operadores Lógicos**\n",
        "---\n",
        "\n",
        "## Tipo bool: Definição\n",
        "\n",
        "* O tipo bool é usado para representar valores booleanos ou lógicos.\n",
        "* Este tipo possui apenas dois valores possíveis:\n",
        "  * TRUE (verdadeiro)\n",
        "  ```\n",
        "  True\n",
        "  ```\n",
        "  * FALSE (*falso*)\n",
        "  ```\n",
        "  False\n",
        "  ```\n",
        "* Podemos obter o tipo de um valor através do operador *type*:\n",
        "```\n",
        ">>> type(True)\n",
        "<type 'bool'>\n",
        "```\n",
        "\n",
        "* As operações usuais sobre os tipos booleanos são conhecidas como operações lógicas."
      ]
    },
    {
      "cell_type": "markdown",
      "metadata": {
        "id": "ig3NQZEAgAQ-"
      },
      "source": [
        "## Tipo bool: Operadores Lógicos\n",
        "\n",
        "* Os principais operadores vistos na Tabela verdade são:\n",
        "  * AND (e)\n",
        "  ```\n",
        "  and\n",
        "  ```\n",
        "  * OR (ou)\n",
        "  ```\n",
        "  or\n",
        "  ```\n",
        "  * NOT (não)\n",
        "  ```\n",
        "  not\n",
        "  ```"
      ]
    },
    {
      "cell_type": "code",
      "metadata": {
        "id": "dhnknvGLpepL",
        "colab": {
          "base_uri": "https://localhost:8080/",
          "height": 87
        },
        "outputId": "a3c0acdb-a489-4df2-98f2-5d9221e92e96"
      },
      "source": [
        "print(False and True)\n",
        "\n",
        "print(False or True)\n",
        "\n",
        "print(not True)\n",
        "\n",
        "print(not False)"
      ],
      "execution_count": null,
      "outputs": [
        {
          "output_type": "stream",
          "text": [
            "False\n",
            "True\n",
            "False\n",
            "True\n"
          ],
          "name": "stdout"
        }
      ]
    },
    {
      "cell_type": "markdown",
      "metadata": {
        "id": "PuEYXcivp17Q"
      },
      "source": [
        "## Tabela verdade\n",
        "* Operador *and*\n",
        "\n",
        "| p     | q     | p ^ q |\n",
        "|-------|-------|-------|\n",
        "| False | False | False |\n",
        "| False | True  | False |\n",
        "| True  | False | False |\n",
        "| True  | True  | True  |\n",
        "\n",
        "* Operador *or*\n",
        "\n",
        "| p     | q     | p v q |\n",
        "|-------|-------|-------|\n",
        "| False | False | False |\n",
        "| False | True  | True  |\n",
        "| True  | False | True  |\n",
        "| True  | True  | True  |\n",
        "\n",
        "* Operador *not*\n",
        "\n",
        "| p     | !p    |\n",
        "|-------|-------|\n",
        "| False | True  |\n",
        "| True  | False |"
      ]
    },
    {
      "cell_type": "markdown",
      "metadata": {
        "id": "SD2pq3IMpnnK"
      },
      "source": [
        "## Operadores Relacionais ou de Comparação\n",
        "\n",
        "* Os operadores relacionais, ou operadores de comparação, permitem comparar dois valores e produzir um valor booleano como resultado.\n",
        "* Esse tipo de operador, juntamente com os operadores lógicos, são essenciais nos comandos condicionais e nos testes condicionais dos laços de repetição."
      ]
    },
    {
      "cell_type": "code",
      "metadata": {
        "id": "_e7UtHvqpxde",
        "colab": {
          "base_uri": "https://localhost:8080/",
          "height": 87
        },
        "outputId": "f8e85aaf-cf5e-4c25-ca26-9173d5c10120"
      },
      "source": [
        "# operador igual verifica se 2 objetos são iguais\n",
        "print(5 == 4)\n",
        "print(5 == 5)\n",
        "\n",
        "# operador diferente verifica se 2 objetos são diferentes\n",
        "print(5 != 4)\n",
        "print(5 != 5)"
      ],
      "execution_count": null,
      "outputs": [
        {
          "output_type": "stream",
          "text": [
            "False\n",
            "True\n",
            "True\n",
            "False\n"
          ],
          "name": "stdout"
        }
      ]
    },
    {
      "cell_type": "code",
      "metadata": {
        "id": "MdWsNvZFnQRA",
        "colab": {
          "base_uri": "https://localhost:8080/",
          "height": 87
        },
        "outputId": "e034fe95-f86e-4c3e-e177-a9a758d1795b"
      },
      "source": [
        "# operador menor que, verifica se um objeto é menor que outro\n",
        "print(5 < 5)\n",
        "print(4 < 5)\n",
        "\n",
        "# operador menor ou igual a, semelhante ao anterior, incluindo o igual\n",
        "print(5 <= 5)\n",
        "print(6 <= 5)"
      ],
      "execution_count": null,
      "outputs": [
        {
          "output_type": "stream",
          "text": [
            "False\n",
            "True\n",
            "True\n",
            "False\n"
          ],
          "name": "stdout"
        }
      ]
    },
    {
      "cell_type": "code",
      "metadata": {
        "id": "nBMI4xl0nSlA",
        "colab": {
          "base_uri": "https://localhost:8080/",
          "height": 87
        },
        "outputId": "70c8db8f-1394-4d4d-a6e0-2db7078f3009"
      },
      "source": [
        "# operador maior que, verifica se um objeto é maior que outro\n",
        "print(5 > 4)\n",
        "print(4 > 5)\n",
        "\n",
        "# operador maior ou igual a, semelhante ao anterior, incluindo o igual\n",
        "print(5 >= 5)\n",
        "print(5 >= 6)"
      ],
      "execution_count": null,
      "outputs": [
        {
          "output_type": "stream",
          "text": [
            "True\n",
            "False\n",
            "True\n",
            "False\n"
          ],
          "name": "stdout"
        }
      ]
    },
    {
      "cell_type": "code",
      "metadata": {
        "id": "gEjPj31riC01",
        "colab": {
          "base_uri": "https://localhost:8080/",
          "height": 87
        },
        "outputId": "3600b6f4-67c2-4ae1-b237-35a9d7e6923f"
      },
      "source": [
        "# mais exemplos de uso de operadores relacionais\n",
        "print(5 > 4.1)\n",
        "\n",
        "print(\"Land\" < \"Landsat\")\n",
        "\n",
        "print(\"Land Cover\" > \"Landsat\")\n",
        "\n",
        "print(5 != 4.1)"
      ],
      "execution_count": null,
      "outputs": [
        {
          "output_type": "stream",
          "text": [
            "True\n",
            "True\n",
            "False\n",
            "True\n"
          ],
          "name": "stdout"
        }
      ]
    },
    {
      "cell_type": "markdown",
      "metadata": {
        "id": "Le_NDxIOpyUL"
      },
      "source": [
        "# **Expressões Lógicas**\n",
        "---\n",
        "\n",
        "Anos bissextos ocorrem a cada quatro anos, exceto anos múltiplos de 100 que não são múltiplos de 400. \n",
        "\n",
        "*Saber se um ano é bissexto é importante no contexto de Sensoriamento Remoto, pois isso impacta nas datas de aquisição das imagens pelos satélites.*\n"
      ]
    },
    {
      "cell_type": "code",
      "metadata": {
        "id": "Vy_fG3fNp8SZ",
        "colab": {
          "base_uri": "https://localhost:8080/",
          "height": 52
        },
        "outputId": "cc89a52a-480a-46d2-fdff-fcbf7e31ebe2"
      },
      "source": [
        "# a função input permite ao usuário inserir um valor durante a execução\n",
        "ano = int(input(\"Ano: \"))\n",
        "\n",
        "# a expressão lógica a seguir verifica se um número é bissexto\n",
        "bissexto = (ano %   4 == 0 and \\\n",
        "            ano % 100 != 0) or \\\n",
        "            ano % 400 == 0\n",
        "            \n",
        "print(\"O ano\", ano, \"é bissexto?\", bissexto)"
      ],
      "execution_count": null,
      "outputs": [
        {
          "output_type": "stream",
          "text": [
            "Ano: 2020\n",
            "O ano 2020 é bissexto? True\n"
          ],
          "name": "stdout"
        }
      ]
    },
    {
      "cell_type": "markdown",
      "metadata": {
        "id": "FeeHULJiqAsM"
      },
      "source": [
        "## Estrutura Condicional\n",
        "\n",
        "* Uma estrutura condicional, ou comando condicional, permite alterar a sequência de execução de um programa dependendo do resultado de uma expressão lógica.\n",
        "* As estruturas condicionais podem ser *aninhadas*, isto é, podem ser instruções dentro das cláusulas *if*, *else* e *elif*.\n",
        "* A seção de código, ou bloco de comandos dentro das cláusulas, if, else e elif podem conter diversas instruções.\n",
        "* Atente-se para a **identação** das instruções.\n",
        "\n",
        "![picture](https://drive.google.com/uc?id=1MgGx5_TmTU1nrD8M3fi5sXegvVBQBLkb)"
      ]
    },
    {
      "cell_type": "code",
      "metadata": {
        "id": "eGNqerWWqGJI",
        "colab": {
          "base_uri": "https://localhost:8080/",
          "height": 69
        },
        "outputId": "ca40d007-4ca2-4410-827f-63da8f0e14d5"
      },
      "source": [
        "# exemplo de estrutura condicional simples\n",
        "\n",
        "# leitura de um valor de NDVI\n",
        "ndvi = float(input(\"NDVI: \"))\n",
        "\n",
        "# início da estrutura condicional\n",
        "if (ndvi > 0.3) and (ndvi < 0.8):\n",
        "    print(\"vegetação densa!\")      # repare os espaços no início desta linha\n",
        "    # o espaço em vermelho\n",
        "    # é a identação\n",
        "print(\"NDVI:\", ndvi)\n"
      ],
      "execution_count": null,
      "outputs": [
        {
          "output_type": "stream",
          "text": [
            "NDVI: 0.5\n",
            "vegetação densa!\n",
            "NDVI: 0.5\n"
          ],
          "name": "stdout"
        }
      ]
    },
    {
      "cell_type": "code",
      "metadata": {
        "id": "AR2ozspVqMh5",
        "colab": {
          "base_uri": "https://localhost:8080/",
          "height": 69
        },
        "outputId": "a5428a00-4f5d-4bf6-eed7-c6dc959f3f0e"
      },
      "source": [
        "# exemplo de estrutura condicional composta\n",
        "\n",
        "# leitura de um valor de NDVI\n",
        "ndvi = float(input(\"NDVI:\"))\n",
        "\n",
        "if (ndvi > 0.3) and (ndvi < 0.8):\n",
        "  print(\"vegetação densa!\")\n",
        "else:\n",
        "  print(\"pouca vegetação!\")\n",
        "  \n",
        "print(\"NDVI:\", ndvi)\n"
      ],
      "execution_count": null,
      "outputs": [
        {
          "output_type": "stream",
          "text": [
            "NDVI:1.1\n",
            "pouca vegetação!\n",
            "NDVI: 1.1\n"
          ],
          "name": "stdout"
        }
      ]
    },
    {
      "cell_type": "code",
      "metadata": {
        "id": "R84DlN5OqRdg",
        "colab": {
          "base_uri": "https://localhost:8080/",
          "height": 69
        },
        "outputId": "8d4128f9-2b65-4d12-be8d-a4c4d26dd660"
      },
      "source": [
        "# exemplo de comandos condicionais encadeados\n",
        "\n",
        "# leitura de um valor de NDVI\n",
        "ndvi = float(input(\"NDVI:\"))\n",
        "\n",
        "if (ndvi < -1.0) or (ndvi > 1.0):\n",
        "  print(\"NDVI fora do intervalo!\")\n",
        "elif (ndvi > 0.3) and (ndvi < 0.8):\n",
        "  print(\"vegetação densa!\")\n",
        "else:\n",
        "  print(\"pouca vegetação!\")\n",
        "  \n",
        "print(\"NDVI:\", ndvi)"
      ],
      "execution_count": null,
      "outputs": [
        {
          "output_type": "stream",
          "text": [
            "NDVI:0.7\n",
            "vegetação densa!\n",
            "NDVI: 0.7\n"
          ],
          "name": "stdout"
        }
      ]
    },
    {
      "cell_type": "markdown",
      "metadata": {
        "id": "wNNpQnnRmLBs"
      },
      "source": [
        "# Considerações\n",
        "\n",
        "* Aprendemos diversos conceitos sobre linguagens de programação:\n",
        "  * Tipos de Dados\n",
        "  * Valores Literais ou Constantes\n",
        "  * Operadores\n",
        "  * Expressões\n",
        "  * Ordem de avaliação das expressões\n",
        "  * Funções e Chamada de Funções\n",
        "  * Variáveis\n",
        "  * Comentários\n",
        "* Sobre a parte de Lógica:\n",
        "  * O tipo lógico e as expressões lógicas são muito utilizadas na construção de programas.\n",
        "  * Todos devem dominar a tabela verdade dos operadores *and*, *or* e *not*.\n",
        "  * As estruturas condicionais e de repetição são importantes para controlar o fluxo de execução de um programa."
      ]
    },
    {
      "cell_type": "markdown",
      "metadata": {
        "id": "OLVq7QacmNMe"
      },
      "source": [
        "# Referências\n",
        "\n",
        "* The Python Standard Library: https://docs.python.org/3/library/\n",
        "\n",
        "* Lista completa das funções básicas de Python:  https://docs.python.org/3/library/functions.html"
      ]
    }
  ]
}