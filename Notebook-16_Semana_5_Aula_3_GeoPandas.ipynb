{
  "nbformat": 4,
  "nbformat_minor": 0,
  "metadata": {
    "colab": {
      "provenance": [],
      "include_colab_link": true
    },
    "kernelspec": {
      "name": "python3",
      "display_name": "Python 3"
    }
  },
  "cells": [
    {
      "cell_type": "markdown",
      "metadata": {
        "id": "view-in-github",
        "colab_type": "text"
      },
      "source": [
        "<a href=\"https://colab.research.google.com/github/afdmoraes/GEOSelper/blob/main/Notebook-16_Semana_5_Aula_3_GeoPandas.ipynb\" target=\"_parent\"><img src=\"https://colab.research.google.com/assets/colab-badge.svg\" alt=\"Open In Colab\"/></a>"
      ]
    },
    {
      "cell_type": "markdown",
      "metadata": {
        "id": "2FrUDDadsNzU"
      },
      "source": [
        "# Curso de Programação para Sensoriamento Remoto\n",
        "---\n",
        "\n",
        "* Gilberto Ribeiro de Queiroz\n",
        "* Thales Sehn Körting\n",
        "\n",
        "## Tópicos desta aula\n",
        "\n",
        "* Manipulação de dados vetoriais com a biblioteca `GeoPandas`\n",
        "\n"
      ]
    },
    {
      "cell_type": "markdown",
      "metadata": {
        "id": "Ne9GWgJ1ehUB"
      },
      "source": [
        "# GeoPandas"
      ]
    },
    {
      "cell_type": "markdown",
      "metadata": {
        "id": "BPxBhxn3_J3d"
      },
      "source": [
        "Atualmente existem inúmeros formatos para codificação de dados geoespaciais vetoriais: `GeoJSON`, `GML`, `KML`, `ESRI Shapefile`, `Geomedia`, `Atlas BNA`, entre outros. Além desses formatos de arquivo ainda encontramos dados geoespaciais armazenados e gerenciados por Sistemas Gerenciadores de Bancos de Dados (SGBD) como `MySQL`, `PostgreSQL`, `IBM DB2`, `Oracle` e `Microsoft SQL Server`. Uma forte tendência é a disponibilização de dados através de serviços Web, como o ``OGC WFS`` (*Web Feature Service*). Por conta disso, é importante usarmos tecnologias que nos abstraiam ao máximo dos detalhes de cada um desses formatos e sistemas.\n",
        "\n",
        "<br/>\n",
        "\n",
        "O [GeoPandas](https://geopandas.org/) é uma biblioteca que adiciona ao `Pandas` suporte a objetos geográficos e que permite realizar a leitura e escrita de dados vetoriais. Ele possui facilidades para tratar colunas com dados geométricos, incluindo operações espaciais e criação de mapas para visualização. Os tipos geométricos são suportados através da biblioteca [Shapely](https://github.com/Toblerity/Shapely) e o acesso a dados é realizado através da biblioteca [Fiona](http://toblerity.org/fiona). A visualização apoia-se na `Matplotlib` e na biblioteca `Descartes`.\n",
        "\n",
        "<br/>\n",
        "\n",
        "As duas estruturas fornecidas por esta biblioteca são:\n",
        "\n",
        "- `GeoSeries`: um vetor contendo uma representação geométrica em conformidade com os tipos da *OGC Simple Feature*: `Point`, `LineString`, `Polygon`, `MultiPoint`, `MultiLineString`, `MultiPolygon`. Essa estrutura possui as mesmas operações da classe `Series` do `Pandas` além de operações espaciais como cálculo de área, perímetro, distâncias, relacionamentos espaciais, operações de conjunto (união, intersecção, diferença), *buffer*, entre outras, todas suportadas pela `Shapely`.\n",
        "\n",
        "|     |  Localizacao              |\n",
        "|-----|---------------------------|\n",
        "| 0   | POINT (-47.607 -5.673)    |\n",
        "| 1   | POINT (-47.606 -5.581)    |\n",
        "| 2   | POINT (-47.734 -5.562)    |\n",
        "| 3   | POINT (-47.605 -5.58)     |\n",
        "| 4   | POINT (-47.606 -5.677)    |\n",
        "\n",
        "<br/>\n",
        "\n",
        "- `GeoDataFrame`: `DataFrame` com uma coluna geométrica.\n",
        "\n",
        "|   |  municipio              | estado    | regiao | pais   | satelite | bioma   | timestamp           | satelite_r | geometry               |\n",
        "|---|-------------------------|-----------|--------|--------|----------|--------|---------------------|------------|------------------------|\n",
        "| 0 | Sítio Novo Do Tocantins | Tocantins | N      | Brazil | NPP_375  | Cerrado | 2016/02/12 17:05:45 | f          | POINT (-47.607 -5.673) |\n",
        "| 1 | Sítio Novo Do Tocantins | Tocantins | N      | Brazil | NPP_375  | Cerrado | 2016/07/17 04:00:00 | f          | POINT (-47.606 -5.581) |\n",
        "| 2 | Sítio Novo Do Tocantins | Tocantins | N      | Brazil | AQUA_M-T | Cerrado | 2016/01/15 16:40:14 | t          | POINT (-47.734 -5.562) |\n",
        "| 3 | Sítio Novo Do Tocantins | Tocantins | N      | Brazil | NPP_375  | Cerrado | 2016/01/15 16:40:14 | t          | POINT (-47.605 -5.58)  |\n",
        "| 4 | Sítio Novo Do Tocantins | Tocantins | N      | Brazil | NPP_375  | Cerrado | 2016/02/12 17:05:45 | f          | POINT (-47.606 -5.677) |"
      ]
    },
    {
      "cell_type": "markdown",
      "metadata": {
        "id": "nNQMmiP_UApQ"
      },
      "source": [
        "# Dados de Entrada"
      ]
    },
    {
      "cell_type": "markdown",
      "metadata": {
        "id": "K3vEk3i0UCq0"
      },
      "source": [
        "Para explorar as funcionalidades do `GeoPandas` serão utilizados os seguintes conjuntos de dados geográficos:\n",
        "\n",
        "- [Focos de Queimada 2017](https://drive.google.com/file/d/1YMr53fqUbbQJHGT1_UC9s0u5CJnJqOn7/view?usp=sharing) (**Figura 6a**): conjunto de pontos extraídos a partir do [Banco de Dados de Queimadas](http://queimadas.dgi.inpe.br/queimadas/bdqueimadas>) (Fonte original: INPE).\n",
        "\n",
        "\n",
        "- [Malha das Unidades Federativas - 2017](https://drive.google.com/file/d/1P1eA1cBRnw8clyRLJBvff3tZZ7e-z9l7/view?usp=sharing) (**Figura 6b**): conjunto de feições com elementos geométricos do tipo polígono (Fonte: IBGE).\n",
        "\n",
        "- [Malha Municipal - 2017](https://drive.google.com/file/d/1OXPz8pKQY4BIxi3zuz33pcu82dzOpkhe/view?usp=sharing) (**Figura 6c**): conjunto de feições com elementos geométricos do tipo polígono (Fonte: IBGE).\n",
        "\n",
        "- [Biomas](https://drive.google.com/file/d/1C5oF4DsqwRWXzM2Z7P5gTWLh94s_JtwG/view?usp=sharing): mapa com os polígonos dos biomas brasileiros (Fonte: IBGE).\n",
        "\n",
        "<br/>\n",
        "\n",
        "<center><img src=\"https://drive.google.com/uc?id=1qFNm-2oBg9hiYcSjUVkXn3e6LcKu2iS8\" width=\"640\"></center>\n",
        "\n",
        "<center><b>Figura 6</b> - Conjuntos de dados usados nesta seção.</center>\n",
        "\n",
        "<br/>\n",
        "\n",
        "**Atenção:** Os dados de focos foram modificados para o propósito da aula e, portanto, se necessário o acesso aos dados oficiais, utilize as ferramentas de extração do [Banco de Dados de Queimadas](http://queimadas.dgi.inpe.br/queimadas/bdqueimadas) disponível no site do INPE.\n",
        "\n",
        "<br/>\n",
        "\n",
        "Os arquivos encontram-se no formato `ESRI Shapfile`. Estes arquivos podem ser carregados em um ``SIG`` como o QGIS ou TerraView (**Figura 7**). Neste caso, cada *shapefile* será carregado na forma de uma camada (ou mapa). Um mapa é uma representação, em escala, de uma seleção de entidades abstratas relacionadas com a superfície da Terra. Na imagem abaixo é apresentada a visualização dos dados no TerraView. Note que cada conjunto de dados foi carregado como uma camada (canto superior esquerdo).\n",
        "\n",
        "<br/>\n",
        "\n",
        "<center><img src=\"https://drive.google.com/uc?id=13INqgcmknB0qaOZD4bbvZeiVKPAHOzOq\" width=\"640\"></center>\n",
        "\n",
        "<center><b>Figura 7</b> - Visualização integrada dos dados na interface gráfica do aplicativo TerraView.</center>"
      ]
    },
    {
      "cell_type": "markdown",
      "metadata": {
        "id": "yJh4uNVYgiD4"
      },
      "source": [
        "# Instalando o GeoPandas"
      ]
    },
    {
      "cell_type": "markdown",
      "metadata": {
        "id": "RNrywv17gkVx"
      },
      "source": [
        "Para utilizar a biblioteca `GeoPandas` no Google Colab, teremos que instalar esta biblioteca primeiro. Para isso, utilizaremos o `pip`, que é um utilitário que permite instalar os pacotes Python. O comando abaixo deverá instalar o `GeoPandas` e algumas bibliotecas auxiliares utilizadas por ele:\n"
      ]
    },
    {
      "cell_type": "code",
      "metadata": {
        "id": "kjbaClVBuHx7",
        "colab": {
          "base_uri": "https://localhost:8080/"
        },
        "outputId": "87b79cab-e43a-42d3-f19a-71791fc34ccb"
      },
      "source": [
        "!apt install libspatialindex-dev\n",
        "!pip install rtree"
      ],
      "execution_count": null,
      "outputs": [
        {
          "output_type": "stream",
          "text": [
            "Reading package lists... Done\n",
            "Building dependency tree       \n",
            "Reading state information... Done\n",
            "The following additional packages will be installed:\n",
            "  libspatialindex-c4v5 libspatialindex4v5\n",
            "The following NEW packages will be installed:\n",
            "  libspatialindex-c4v5 libspatialindex-dev libspatialindex4v5\n",
            "0 upgraded, 3 newly installed, 0 to remove and 30 not upgraded.\n",
            "Need to get 555 kB of archives.\n",
            "After this operation, 3,308 kB of additional disk space will be used.\n",
            "Get:1 http://archive.ubuntu.com/ubuntu bionic/universe amd64 libspatialindex4v5 amd64 1.8.5-5 [219 kB]\n",
            "Get:2 http://archive.ubuntu.com/ubuntu bionic/universe amd64 libspatialindex-c4v5 amd64 1.8.5-5 [51.7 kB]\n",
            "Get:3 http://archive.ubuntu.com/ubuntu bionic/universe amd64 libspatialindex-dev amd64 1.8.5-5 [285 kB]\n",
            "Fetched 555 kB in 0s (4,511 kB/s)\n",
            "Selecting previously unselected package libspatialindex4v5:amd64.\n",
            "(Reading database ... 160980 files and directories currently installed.)\n",
            "Preparing to unpack .../libspatialindex4v5_1.8.5-5_amd64.deb ...\n",
            "Unpacking libspatialindex4v5:amd64 (1.8.5-5) ...\n",
            "Selecting previously unselected package libspatialindex-c4v5:amd64.\n",
            "Preparing to unpack .../libspatialindex-c4v5_1.8.5-5_amd64.deb ...\n",
            "Unpacking libspatialindex-c4v5:amd64 (1.8.5-5) ...\n",
            "Selecting previously unselected package libspatialindex-dev:amd64.\n",
            "Preparing to unpack .../libspatialindex-dev_1.8.5-5_amd64.deb ...\n",
            "Unpacking libspatialindex-dev:amd64 (1.8.5-5) ...\n",
            "Setting up libspatialindex4v5:amd64 (1.8.5-5) ...\n",
            "Setting up libspatialindex-c4v5:amd64 (1.8.5-5) ...\n",
            "Setting up libspatialindex-dev:amd64 (1.8.5-5) ...\n",
            "Processing triggers for libc-bin (2.27-3ubuntu1.2) ...\n",
            "/sbin/ldconfig.real: /usr/local/lib/python3.7/dist-packages/ideep4py/lib/libmkldnn.so.0 is not a symbolic link\n",
            "\n",
            "Collecting rtree\n",
            "\u001b[?25l  Downloading https://files.pythonhosted.org/packages/51/05/5a67111cee91d2165a2bcb855f442186e3d76ddef834596cc84d4875c401/Rtree-0.9.7-cp37-cp37m-manylinux2010_x86_64.whl (994kB)\n",
            "\u001b[K     |████████████████████████████████| 1.0MB 11.1MB/s \n",
            "\u001b[?25hInstalling collected packages: rtree\n",
            "Successfully installed rtree-0.9.7\n"
          ],
          "name": "stdout"
        }
      ]
    },
    {
      "cell_type": "code",
      "metadata": {
        "id": "DEcKCgFOgkuK",
        "colab": {
          "base_uri": "https://localhost:8080/"
        },
        "outputId": "300af760-0755-4c5d-a04e-7b48ffc829f0"
      },
      "source": [
        "!pip install --upgrade geopandas"
      ],
      "execution_count": null,
      "outputs": [
        {
          "output_type": "stream",
          "text": [
            "Collecting geopandas\n",
            "\u001b[?25l  Downloading https://files.pythonhosted.org/packages/d7/bf/e9cefb69d39155d122b6ddca53893b61535fa6ffdad70bf5ef708977f53f/geopandas-0.9.0-py2.py3-none-any.whl (994kB)\n",
            "\u001b[K     |████████████████████████████████| 1.0MB 13.6MB/s \n",
            "\u001b[?25hCollecting pyproj>=2.2.0\n",
            "\u001b[?25l  Downloading https://files.pythonhosted.org/packages/b1/72/d52e9ca81caef056062d71991b0e9b1d16af042245627c5d0e4916a36c4f/pyproj-3.0.1-cp37-cp37m-manylinux2010_x86_64.whl (6.5MB)\n",
            "\u001b[K     |████████████████████████████████| 6.5MB 33.8MB/s \n",
            "\u001b[?25hCollecting fiona>=1.8\n",
            "\u001b[?25l  Downloading https://files.pythonhosted.org/packages/47/c2/67d1d0acbaaee3b03e5e22e3b96c33219cb5dd392531c9ff9cee7c2eb3e4/Fiona-1.8.18-cp37-cp37m-manylinux1_x86_64.whl (14.8MB)\n",
            "\u001b[K     |████████████████████████████████| 14.8MB 283kB/s \n",
            "\u001b[?25hRequirement already satisfied, skipping upgrade: pandas>=0.24.0 in /usr/local/lib/python3.7/dist-packages (from geopandas) (1.1.5)\n",
            "Requirement already satisfied, skipping upgrade: shapely>=1.6 in /usr/local/lib/python3.7/dist-packages (from geopandas) (1.7.1)\n",
            "Requirement already satisfied, skipping upgrade: certifi in /usr/local/lib/python3.7/dist-packages (from pyproj>=2.2.0->geopandas) (2020.12.5)\n",
            "Requirement already satisfied, skipping upgrade: click<8,>=4.0 in /usr/local/lib/python3.7/dist-packages (from fiona>=1.8->geopandas) (7.1.2)\n",
            "Collecting munch\n",
            "  Downloading https://files.pythonhosted.org/packages/cc/ab/85d8da5c9a45e072301beb37ad7f833cd344e04c817d97e0cc75681d248f/munch-2.5.0-py2.py3-none-any.whl\n",
            "Collecting cligj>=0.5\n",
            "  Downloading https://files.pythonhosted.org/packages/42/1e/947eadf10d6804bf276eb8a038bd5307996dceaaa41cfd21b7a15ec62f5d/cligj-0.7.1-py3-none-any.whl\n",
            "Requirement already satisfied, skipping upgrade: six>=1.7 in /usr/local/lib/python3.7/dist-packages (from fiona>=1.8->geopandas) (1.15.0)\n",
            "Requirement already satisfied, skipping upgrade: attrs>=17 in /usr/local/lib/python3.7/dist-packages (from fiona>=1.8->geopandas) (20.3.0)\n",
            "Collecting click-plugins>=1.0\n",
            "  Downloading https://files.pythonhosted.org/packages/e9/da/824b92d9942f4e472702488857914bdd50f73021efea15b4cad9aca8ecef/click_plugins-1.1.1-py2.py3-none-any.whl\n",
            "Requirement already satisfied, skipping upgrade: python-dateutil>=2.7.3 in /usr/local/lib/python3.7/dist-packages (from pandas>=0.24.0->geopandas) (2.8.1)\n",
            "Requirement already satisfied, skipping upgrade: pytz>=2017.2 in /usr/local/lib/python3.7/dist-packages (from pandas>=0.24.0->geopandas) (2018.9)\n",
            "Requirement already satisfied, skipping upgrade: numpy>=1.15.4 in /usr/local/lib/python3.7/dist-packages (from pandas>=0.24.0->geopandas) (1.19.5)\n",
            "Installing collected packages: pyproj, munch, cligj, click-plugins, fiona, geopandas\n",
            "Successfully installed click-plugins-1.1.1 cligj-0.7.1 fiona-1.8.18 geopandas-0.9.0 munch-2.5.0 pyproj-3.0.1\n"
          ],
          "name": "stdout"
        }
      ]
    },
    {
      "cell_type": "code",
      "metadata": {
        "id": "5Clh7tReAdhs",
        "colab": {
          "base_uri": "https://localhost:8080/"
        },
        "outputId": "84c5a14e-24c0-4749-83fb-c30567edf519"
      },
      "source": [
        "!pip install --upgrade mapclassify"
      ],
      "execution_count": null,
      "outputs": [
        {
          "output_type": "stream",
          "text": [
            "Collecting mapclassify\n",
            "  Downloading https://files.pythonhosted.org/packages/22/8e/d968c0945d41bb02de0efaa92e31e43a817dc52d30e82b4dfdda407a1903/mapclassify-2.4.2-py3-none-any.whl\n",
            "Requirement already satisfied, skipping upgrade: pandas>=1.0 in /usr/local/lib/python3.7/dist-packages (from mapclassify) (1.1.5)\n",
            "Requirement already satisfied, skipping upgrade: scikit-learn in /usr/local/lib/python3.7/dist-packages (from mapclassify) (0.22.2.post1)\n",
            "Requirement already satisfied, skipping upgrade: networkx in /usr/local/lib/python3.7/dist-packages (from mapclassify) (2.5)\n",
            "Requirement already satisfied, skipping upgrade: scipy>=1.0 in /usr/local/lib/python3.7/dist-packages (from mapclassify) (1.4.1)\n",
            "Requirement already satisfied, skipping upgrade: numpy>=1.3 in /usr/local/lib/python3.7/dist-packages (from mapclassify) (1.19.5)\n",
            "Requirement already satisfied, skipping upgrade: pytz>=2017.2 in /usr/local/lib/python3.7/dist-packages (from pandas>=1.0->mapclassify) (2018.9)\n",
            "Requirement already satisfied, skipping upgrade: python-dateutil>=2.7.3 in /usr/local/lib/python3.7/dist-packages (from pandas>=1.0->mapclassify) (2.8.1)\n",
            "Requirement already satisfied, skipping upgrade: joblib>=0.11 in /usr/local/lib/python3.7/dist-packages (from scikit-learn->mapclassify) (1.0.1)\n",
            "Requirement already satisfied, skipping upgrade: decorator>=4.3.0 in /usr/local/lib/python3.7/dist-packages (from networkx->mapclassify) (4.4.2)\n",
            "Requirement already satisfied, skipping upgrade: six>=1.5 in /usr/local/lib/python3.7/dist-packages (from python-dateutil>=2.7.3->pandas>=1.0->mapclassify) (1.15.0)\n",
            "Installing collected packages: mapclassify\n",
            "Successfully installed mapclassify-2.4.2\n"
          ],
          "name": "stdout"
        }
      ]
    },
    {
      "cell_type": "markdown",
      "metadata": {
        "id": "8aUJMhngE8Bs"
      },
      "source": [
        "# Importando o Pandas"
      ]
    },
    {
      "cell_type": "markdown",
      "metadata": {
        "id": "jj1mCRGBE_09"
      },
      "source": [
        "Por convenção importamos as funcionalidades do `GeoPandas` da seguinte forma:"
      ]
    },
    {
      "cell_type": "code",
      "metadata": {
        "id": "m79BiPwoFEDY"
      },
      "source": [
        "%matplotlib inline\n",
        "\n",
        "import geopandas as gpd"
      ],
      "execution_count": null,
      "outputs": []
    },
    {
      "cell_type": "markdown",
      "metadata": {
        "id": "n_9n6jrehnk8"
      },
      "source": [
        "Verifique a sua versão usada com o seguinte comando:"
      ]
    },
    {
      "cell_type": "code",
      "metadata": {
        "id": "YyVE1GcChpEJ",
        "colab": {
          "base_uri": "https://localhost:8080/",
          "height": 35
        },
        "outputId": "b5694b82-5ef7-46a6-b564-af87fcb626c1"
      },
      "source": [
        "gpd.__version__"
      ],
      "execution_count": null,
      "outputs": [
        {
          "output_type": "execute_result",
          "data": {
            "application/vnd.google.colaboratory.intrinsic+json": {
              "type": "string"
            },
            "text/plain": [
              "'0.9.0'"
            ]
          },
          "metadata": {
            "tags": []
          },
          "execution_count": 5
        }
      ]
    },
    {
      "cell_type": "markdown",
      "metadata": {
        "id": "pAErZPMrhs2d"
      },
      "source": [
        "# Copie os arquivos para o Google Colab"
      ]
    },
    {
      "cell_type": "markdown",
      "metadata": {
        "id": "d78ShguCiB08"
      },
      "source": [
        "**1.** Descompacte os arquivos indicados na `Seção Dados de Entrada` no seu disco local.\n",
        "\n",
        "<br/>\n",
        "\n",
        "**2.** Na sua área de dados do Colab, crie as seguintes pastas:\n",
        "\n",
        "* focos_2017\n",
        "* biomas\n",
        "* br_municipios\n",
        "* br_unidades_da_federacao\n",
        "\n",
        "**Atenção:** Não inclua acentos ou caracteres especiais nos nomes das pastas.\n",
        "\n",
        "Após esse passo, você obterá uma estrutura similar à indicada na **Figura 8**.\n",
        "\n",
        "\n",
        "\n",
        "<center><img src=\"https://drive.google.com/uc?id=1xSDE9TiwKscVoOhi1EKDOhk2T2LKYoSp\" width=\"360\"></center>\n",
        "\n",
        "<center><b>Figura 8</b> - Pasta do Google Colab</center>\n",
        "\n",
        "</br>\n",
        "\n",
        "**3.** Copie os arquivos que compõe cada conjunto de ESRI Shapefile para as respectivas pastas.\n",
        "\n",
        "<br/>\n",
        "\n",
        "A **Figura 9** mostra como ficará um desses diretórios, o de municípios.\n",
        "\n",
        "<center><img src=\"https://drive.google.com/uc?id=10iXBqyi4laP9CtE94jXblK3R37JMXL2e\" width=\"360\"></center>\n",
        "\n",
        "<center><b>Figura 9</b> - Pasta br_municipios e os arquivos que compoẽm o conjunto <i>shapefile</i>.</center>"
      ]
    },
    {
      "cell_type": "markdown",
      "metadata": {
        "id": "ZtyIXBWAmAhP"
      },
      "source": [
        "# Abertura de Arquivos `ESRI Shapefile`"
      ]
    },
    {
      "cell_type": "markdown",
      "metadata": {
        "id": "SihcCyYymDR2"
      },
      "source": [
        "Para abrir um arquivo `ESRI Shapefile` e associar os dados a um `GeoDataFrame` basta utilizar a função `read_file`, como mostrado a seguir:"
      ]
    },
    {
      "cell_type": "code",
      "metadata": {
        "id": "aJBTdI98mK5K"
      },
      "source": [
        "focos = gpd.read_file('./focos_2017/focos_2017.shp', encoding='utf-8')"
      ],
      "execution_count": null,
      "outputs": []
    },
    {
      "cell_type": "markdown",
      "metadata": {
        "id": "w5CA2UpJmT7S"
      },
      "source": [
        "O comando acima irá criar um ``GeoDataFrame`` associado ao identificador `focos`.\n",
        "\n",
        "<br/>\n",
        "\n",
        "Podemos apresentar as primeiras linhas do `GeoDataFrame` através do método `head()`:"
      ]
    },
    {
      "cell_type": "code",
      "metadata": {
        "id": "u32foJUrmaB3"
      },
      "source": [
        "focos.head()"
      ],
      "execution_count": null,
      "outputs": []
    },
    {
      "cell_type": "markdown",
      "metadata": {
        "id": "2ttle11BmjDb"
      },
      "source": [
        "Para saber o número de focos carregados no `GeoDataFrame`, podemos utilizar a função interna do Python `len`, como fizemos para os tipos `lista` e `tupla`:"
      ]
    },
    {
      "cell_type": "code",
      "metadata": {
        "id": "p2E1Aaqwmn2h"
      },
      "source": [
        "len(focos)"
      ],
      "execution_count": null,
      "outputs": []
    },
    {
      "cell_type": "markdown",
      "metadata": {
        "id": "wUX5CuVCp2tt"
      },
      "source": [
        "Podemos descobrir os tipos de dados das colunas do `GeoDataFrame` através do atributo `dtypes`:"
      ]
    },
    {
      "cell_type": "code",
      "metadata": {
        "id": "NBbxDUOvp5MT"
      },
      "source": [
        "focos.dtypes"
      ],
      "execution_count": null,
      "outputs": []
    },
    {
      "cell_type": "markdown",
      "metadata": {
        "id": "JE2QapmNp8ew"
      },
      "source": [
        "# Visualizando dados na forma de mapas"
      ]
    },
    {
      "cell_type": "markdown",
      "metadata": {
        "id": "h7Z1XUt9qRmZ"
      },
      "source": [
        "Podemos visualizar os focos de queimada em um mapa utilizando a operação `plot` do `GeoDataFrame`:"
      ]
    },
    {
      "cell_type": "code",
      "metadata": {
        "id": "mMt_14bEqUv0"
      },
      "source": [
        "focos.plot(marker='x', color='red', markersize=5, figsize=(10, 10));"
      ],
      "execution_count": null,
      "outputs": []
    },
    {
      "cell_type": "markdown",
      "metadata": {
        "id": "vflEPG8nqXgO"
      },
      "source": [
        "O `GeoPandas` utiliza a `Matplotlib` para construção das visualizações e possui diversas facilidades para construção de mapas."
      ]
    },
    {
      "cell_type": "markdown",
      "metadata": {
        "id": "4WszuK9KqazY"
      },
      "source": [
        "# Explorando o Conjunto de Dados de Focos"
      ]
    },
    {
      "cell_type": "markdown",
      "metadata": {
        "id": "H-dvN4xEqfhM"
      },
      "source": [
        "### **Q1.** Visualizar os focos de queimada do Estado de Minas Gerais."
      ]
    },
    {
      "cell_type": "markdown",
      "metadata": {
        "id": "MFwidMmrqjEl"
      },
      "source": [
        "O `operador []` permite selecionarmos apenas as linhas contendo focos do Estado de Minas Gerais. Assim, podemos criar um novo `GeoDataFrame` chamado `focos_mg`:"
      ]
    },
    {
      "cell_type": "code",
      "metadata": {
        "id": "e05ejDAXqoGA"
      },
      "source": [
        "focos_mg = focos[focos.uf == 'MINAS GERAIS']"
      ],
      "execution_count": null,
      "outputs": []
    },
    {
      "cell_type": "markdown",
      "metadata": {
        "id": "bZ7op9k-qp2N"
      },
      "source": [
        "Em seguida, podemos utilizar a operação `plot` para desenhar as geometrias desse novo `GeoDataFrame`:"
      ]
    },
    {
      "cell_type": "code",
      "metadata": {
        "id": "IyRtcFsOqtas"
      },
      "source": [
        "focos_mg.plot(marker='x', color='red', markersize=5, figsize=(20, 10));"
      ],
      "execution_count": null,
      "outputs": []
    },
    {
      "cell_type": "markdown",
      "metadata": {
        "id": "QhMH30fFq27k"
      },
      "source": [
        "### **Q2.**  Visualizar os focos de queimada do Estado de Minas Gerais no mês de novembro."
      ]
    },
    {
      "cell_type": "markdown",
      "metadata": {
        "id": "FvjOQDOnq6Gy"
      },
      "source": [
        "Podemos alterar o formato de uma coluna contendo um texto (string) no formato `data-hora` para uma coluna do tipo `datetime` do `Python` para facilitar a manipulação dos dados desta coluna. Vamos fazer isso com a coluna `data_obser`:"
      ]
    },
    {
      "cell_type": "code",
      "metadata": {
        "id": "QdJSsoezq_-R"
      },
      "source": [
        "import pandas as pd\n",
        "\n",
        "focos['data_obser'] = pd.to_datetime(focos['data_obser'])"
      ],
      "execution_count": null,
      "outputs": []
    },
    {
      "cell_type": "code",
      "metadata": {
        "id": "DLxyzpj4rCQc"
      },
      "source": [
        "focos.dtypes"
      ],
      "execution_count": null,
      "outputs": []
    },
    {
      "cell_type": "markdown",
      "metadata": {
        "id": "bL7Viy7JrEfu"
      },
      "source": [
        "Repare que agora a coluna `data_obser` é do tipo `datetime64`, que nos permitirá utilizar operações de data e hora nesta coluna.\n",
        "\n",
        "<br/>\n",
        "\n",
        "Agora, podemos realizar novamente a filtragem dos dados:"
      ]
    },
    {
      "cell_type": "code",
      "metadata": {
        "id": "k0lXAs2NrLVd"
      },
      "source": [
        "focos_mg = focos[focos.uf == 'MINAS GERAIS']\n",
        "\n",
        "focos_mg_nov = focos_mg[focos_mg.data_obser.dt.month == 11]"
      ],
      "execution_count": null,
      "outputs": []
    },
    {
      "cell_type": "markdown",
      "metadata": {
        "id": "MddN-wUirNd6"
      },
      "source": [
        "Finalmente, podemos criar o mapa:"
      ]
    },
    {
      "cell_type": "code",
      "metadata": {
        "id": "Ze5VxwJtrPT7"
      },
      "source": [
        "focos_mg_nov.plot(marker='x', color='red', markersize=5, figsize=(20, 10));"
      ],
      "execution_count": null,
      "outputs": []
    },
    {
      "cell_type": "markdown",
      "metadata": {
        "id": "QNqPB8gprVnH"
      },
      "source": [
        "### **Q3.**  Adicionar o limite do Estado de Minas Gerais ao mapa criado em *Q2*."
      ]
    },
    {
      "cell_type": "markdown",
      "metadata": {
        "id": "Y2i2B5CArYPl"
      },
      "source": [
        "Vamos criar um novo `GeoDataFrame` a partir do arquivo `BRUFE250GC_SIR.shp`:"
      ]
    },
    {
      "cell_type": "code",
      "metadata": {
        "id": "m1KYf2V-rbsc"
      },
      "source": [
        "uf = gpd.read_file('./br_unidades_da_federacao/BRUFE250GC_SIR.shp', encoding='utf-8')"
      ],
      "execution_count": null,
      "outputs": []
    },
    {
      "cell_type": "code",
      "metadata": {
        "id": "rN4j9OHqrc_x"
      },
      "source": [
        "uf.head()"
      ],
      "execution_count": null,
      "outputs": []
    },
    {
      "cell_type": "code",
      "metadata": {
        "id": "YH4yG-haA6Io"
      },
      "source": [
        "uf.plot(column='NM_ESTADO', legend=True, figsize=(20, 20))"
      ],
      "execution_count": null,
      "outputs": []
    },
    {
      "cell_type": "markdown",
      "metadata": {
        "id": "_qMkC79Hre8i"
      },
      "source": [
        "Podemos agora selecionar a feição do Estado de Minas Gerais no `GeoDataFrame` `uf` e criar um `plot` e, em seguida, podemos reutilizar a mesma área de desenho (`ax`) para plotar os focos:\n"
      ]
    },
    {
      "cell_type": "code",
      "metadata": {
        "id": "mm0a-MP9rtiN"
      },
      "source": [
        "ax = uf[uf.NM_ESTADO == 'MINAS GERAIS'].plot(color='white', edgecolor='k')\n",
        "\n",
        "focos_mg_nov.plot(ax=ax, marker='x', color='red', markersize=5)"
      ],
      "execution_count": null,
      "outputs": []
    },
    {
      "cell_type": "markdown",
      "metadata": {
        "id": "5YDAHhfAsm0u"
      },
      "source": [
        "### **Q4.**  Qual a distribuição dos focos ao longo dos meses do ano em 2017?"
      ]
    },
    {
      "cell_type": "markdown",
      "metadata": {
        "id": "Z7xuFb5Gsot3"
      },
      "source": [
        "Para responder esta pergunta podemos utilizar o operador de agregação (sumarização) `groupby`, disponível em um `DataFrame`.\n",
        "\n",
        "<br/>\n",
        "\n",
        "Neste caso, precisaremos informar:\n",
        "\n",
        "* O critério da agregação: a parte contendo o número do mês na coluna com a data e hora da detecção do foco (coluna `data_obser`).\n",
        "\n",
        "* Utilizar uma das colunas para realizar a contagem através do operador `count`.\n"
      ]
    },
    {
      "cell_type": "code",
      "metadata": {
        "id": "rVUqnKhmr25x"
      },
      "source": [
        "focos_mes = focos.groupby(focos.data_obser.dt.month).uf.count()\n",
        "\n",
        "focos_mes"
      ],
      "execution_count": null,
      "outputs": []
    },
    {
      "cell_type": "markdown",
      "metadata": {
        "id": "QjQz96dzs16-"
      },
      "source": [
        "O objeto `focos_mes` retornado na operação acima corresponde a um `pandas.core.series.Series`:"
      ]
    },
    {
      "cell_type": "code",
      "metadata": {
        "id": "bOkRMIP9s4VZ"
      },
      "source": [
        "type(focos_mes)"
      ],
      "execution_count": null,
      "outputs": []
    },
    {
      "cell_type": "markdown",
      "metadata": {
        "id": "ZpA2N5_Bs8Tc"
      },
      "source": [
        "Na saída acima podemos notar o seguinte:\n",
        "\n",
        "* O nome da série é ``uf``, por conta da coluna usada para realizar a contagem.\n",
        "\n",
        "* Os índices da série correspondem aos índices numéricos dos meses do ano.\n",
        "\n",
        "<br/>\n",
        "\n",
        "Podemos re-indexar a série pelo nome do mês do ano. Para isso, podemos construir uma função `lambda` e aplicá-la através do operador `map` a cada um dos valores numéricos do índice do ano. Para transformar o mês do ano em um nome, utilizaremos o módulo `calendar` da biblioteca padrão do Python."
      ]
    },
    {
      "cell_type": "code",
      "metadata": {
        "id": "bWaZWqRntDcy"
      },
      "source": [
        "import calendar\n",
        "\n",
        "novo_indice = map(lambda v : calendar.month_abbr[v], focos_mes.index)\n",
        "\n",
        "l = list(novo_indice)\n",
        "\n",
        "l"
      ],
      "execution_count": null,
      "outputs": []
    },
    {
      "cell_type": "markdown",
      "metadata": {
        "id": "GHFJRMEstGWO"
      },
      "source": [
        "Agora podemos construir explicitamente a nova série através do construtor `pd.Series`:"
      ]
    },
    {
      "cell_type": "code",
      "metadata": {
        "id": "hQiRjGpXtIOb"
      },
      "source": [
        "focos_mes = pd.Series(data=focos_mes.values, index=l)\n",
        "\n",
        "focos_mes"
      ],
      "execution_count": null,
      "outputs": []
    },
    {
      "cell_type": "markdown",
      "metadata": {
        "id": "i6utbKTmtLxO"
      },
      "source": [
        "Podemos também ajustar o nome da série e o rótulo do índice:"
      ]
    },
    {
      "cell_type": "code",
      "metadata": {
        "id": "xZA3OBCUtM5w"
      },
      "source": [
        "focos_mes.name= 'Número Focos/Mês'\n",
        "\n",
        "focos_mes.index.name='mes'\n",
        "\n",
        "focos_mes"
      ],
      "execution_count": null,
      "outputs": []
    },
    {
      "cell_type": "markdown",
      "metadata": {
        "id": "X25wptMFtPTH"
      },
      "source": [
        "Podemos apresentar um gráfico de barras com o total de focos por mês:"
      ]
    },
    {
      "cell_type": "code",
      "metadata": {
        "id": "VOARqBfAtRDI"
      },
      "source": [
        "focos_mes.plot.bar(legend=True, fontsize=20);"
      ],
      "execution_count": null,
      "outputs": []
    },
    {
      "cell_type": "markdown",
      "metadata": {
        "id": "7vRB32ZBtXXs"
      },
      "source": [
        "Podemos melhorar nosso gráfico controlando as diversas opções de plotagem fornecidas pela `Matplotlib`:"
      ]
    },
    {
      "cell_type": "code",
      "metadata": {
        "id": "Buir3qkztZ6k"
      },
      "source": [
        "ax = focos_mes.plot(kind='bar', legend=True, fontsize=20, figsize=(20,10));\n",
        "ax.set_title('Focos Mensal - 2017', fontsize=36);\n",
        "ax.set_xlabel('Mes', fontsize=24);\n",
        "ax.set_ylabel('#Focos', fontsize=24);\n",
        "ax.legend(loc=2, prop={'size': 20});"
      ],
      "execution_count": null,
      "outputs": []
    },
    {
      "cell_type": "markdown",
      "metadata": {
        "id": "XoDyfMXethDe"
      },
      "source": [
        "### **Q5.**  Qual a distribuição dos focos no mês de Janeiro de 2017 por bioma?"
      ]
    },
    {
      "cell_type": "markdown",
      "metadata": {
        "id": "MbSKXRRutjBz"
      },
      "source": [
        "Como o `GeoDataFrame` `focos` não possui informação sobre o bioma, podemos utilizar o `mapa de biomas` para realizar uma operação de junção entre as informações de focos e biomas. Para isso, vamos criar inicialmente um `GeoDataFrame` a partir do arquivo contendo os biomas:"
      ]
    },
    {
      "cell_type": "code",
      "metadata": {
        "id": "6aFIE30htsk1"
      },
      "source": [
        "biomas = gpd.read_file('./biomas/biomas.shp', encoding='utf-8')"
      ],
      "execution_count": null,
      "outputs": []
    },
    {
      "cell_type": "code",
      "metadata": {
        "id": "UNns20aE_jYw"
      },
      "source": [
        "biomas = gpd.read_file('./biomas/biomas.shp', encoding='utf-8')\n",
        "\n",
        "biomas.plot(column='Bioma', legend=True, figsize=(16, 8))"
      ],
      "execution_count": null,
      "outputs": []
    },
    {
      "cell_type": "markdown",
      "metadata": {
        "id": "zSrCoJcktwKF"
      },
      "source": [
        "Esse mapa de biomas encontra-se numa projeção diferente do mapa de focos. No entanto, para realizar operações espaciais entre diferentes `GeoDataFrames`, as geometrias nessas estruturas precisam estar no mesmo sistema de referência espacial. Por isso, vamos reprojetar as geometrias do mapa de biomas para a mesma do de focos, isto é, para um sistema identificado pelo código `EPSG:4326`:"
      ]
    },
    {
      "cell_type": "code",
      "metadata": {
        "id": "NsGPLppgttrx"
      },
      "source": [
        "biomas = biomas.to_crs('EPSG:4326')"
      ],
      "execution_count": null,
      "outputs": []
    },
    {
      "cell_type": "markdown",
      "metadata": {
        "id": "zzgioeDkt3NQ"
      },
      "source": [
        "Agora que temos as geometrias dos dois `GeoDataFrames` no mesmo sistema de referência espacial, podemos realizar a junção das informações utilizando a função `sjoin`, que irá combinar as linhas dos dois `GeoDataFrames` através de um relacionamento espacial:"
      ]
    },
    {
      "cell_type": "code",
      "metadata": {
        "id": "CmX1HJZEt7Wy"
      },
      "source": [
        "focos_jan = focos[focos.data_obser.dt.month == 1]\n",
        "\n",
        "focos_jan_biomas = gpd.sjoin(focos_jan, biomas, how='inner', op='intersects')"
      ],
      "execution_count": null,
      "outputs": []
    },
    {
      "cell_type": "markdown",
      "metadata": {
        "id": "N6w8spMet8_m"
      },
      "source": [
        "A operação acima irá criar um novo `GeoDataFrame` denominado `focos_biomas` que irá conter todas as colunas do `GeoDataFrame` `focos` além das das colunas **não-geométricas** do `GeoDataDrame` `biomas`:"
      ]
    },
    {
      "cell_type": "code",
      "metadata": {
        "id": "EjyXwy63wPIM"
      },
      "source": [
        "focos_jan_biomas.head()"
      ],
      "execution_count": null,
      "outputs": []
    },
    {
      "cell_type": "markdown",
      "metadata": {
        "id": "o1RoYek0wWMA"
      },
      "source": [
        "Agora, podemos utilizar o operador `groupby` para agrupar as linhas do novo `GeoDataFrame` `focos_biomas` pela coluna `Bioma` e, então, calcular a contagem de focos por bioma:"
      ]
    },
    {
      "cell_type": "code",
      "metadata": {
        "id": "TEu9UwuPwaip"
      },
      "source": [
        "focos_bioma = focos_jan_biomas.groupby('Bioma').Bioma.count()\n",
        "\n",
        "focos_bioma"
      ],
      "execution_count": null,
      "outputs": []
    },
    {
      "cell_type": "markdown",
      "metadata": {
        "id": "98F3z1Bgwcj3"
      },
      "source": [
        "Podemos acertar o nome da série e do índice:"
      ]
    },
    {
      "cell_type": "code",
      "metadata": {
        "id": "QbR9mHuwweaT"
      },
      "source": [
        "focos_bioma.index.name = 'Biomas'\n",
        "focos_bioma.name = 'Numero Focos por Bioma'\n",
        "\n",
        "focos_bioma"
      ],
      "execution_count": null,
      "outputs": []
    },
    {
      "cell_type": "markdown",
      "metadata": {
        "id": "0g3o8oOSwgNf"
      },
      "source": [
        "Podemos agora desenhar um gráfico circular:"
      ]
    },
    {
      "cell_type": "code",
      "metadata": {
        "id": "34KYZbsuwh0-"
      },
      "source": [
        "explode=[0.1, 0.0, 0.0, 0.0, 0.0, 0.0]\n",
        "\n",
        "ax = focos_bioma.plot(kind='pie',\n",
        "                      explode=explode,\n",
        "                      autopct='%1.1f%%',\n",
        "                      figsize=(8,8), fontsize='14');\n",
        "\n",
        "ax.set_title('Focos por Bioma - Janeiro de 2017', fontsize=20);\n",
        "\n",
        "ax.set_ylabel('');"
      ],
      "execution_count": null,
      "outputs": []
    },
    {
      "cell_type": "markdown",
      "metadata": {
        "id": "RUb6l4RQwj_E"
      },
      "source": [
        "### **Q6.** Qual a frequência mensal de queimadas por bioma no Estado de Minas Gerais?"
      ]
    },
    {
      "cell_type": "markdown",
      "metadata": {
        "id": "309b7Gs5wl5M"
      },
      "source": [
        "Vammos criar uma seleção dos focos de queimada de 2017 contendo apenas aqueles do Estado de Minas Gerais:"
      ]
    },
    {
      "cell_type": "code",
      "metadata": {
        "id": "WlbQcf_CwpPH"
      },
      "source": [
        "focos_mg = focos[focos.uf == 'MINAS GERAIS']"
      ],
      "execution_count": null,
      "outputs": []
    },
    {
      "cell_type": "markdown",
      "metadata": {
        "id": "rMc0SwwjEqdg"
      },
      "source": [
        "Apenas para facilitar nosso trabalho, vamos adicionar uma nova coluna chamada `mes` no `GeoDataFrame` `focos_mg`:"
      ]
    },
    {
      "cell_type": "code",
      "metadata": {
        "id": "pVXANUvZEzpa"
      },
      "source": [
        "focos_mg['mes'] = focos_mg['data_obser'].dt.month\n",
        "\n",
        "focos_mg.head()"
      ],
      "execution_count": null,
      "outputs": []
    },
    {
      "cell_type": "code",
      "metadata": {
        "id": "rTv2bil2FKQP"
      },
      "source": [
        "focos_mg_biomas = gpd.sjoin(focos_mg, biomas, how='inner', op='intersects')"
      ],
      "execution_count": null,
      "outputs": []
    },
    {
      "cell_type": "markdown",
      "metadata": {
        "id": "P-ET_kfBwrOf"
      },
      "source": [
        "Vamos apresentar as informações em uma `pivot_table`:"
      ]
    },
    {
      "cell_type": "code",
      "metadata": {
        "id": "zmDCcP4Mwtac"
      },
      "source": [
        "pvt = pd.pivot_table(focos_mg_biomas, values='id', index=['Bioma'],\n",
        "                     columns=['mes'], aggfunc='count',\n",
        "                     fill_value=0, margins=True)\n",
        "\n",
        "pvt.columns=['jan', 'fev', 'mar', 'abr', 'mai', 'jun', 'jul', 'ago', 'set', 'out', 'nov', 'dez', 'total']\n",
        "\n",
        "pvt"
      ],
      "execution_count": null,
      "outputs": []
    },
    {
      "cell_type": "markdown",
      "metadata": {
        "id": "rN4-pO4Qww-U"
      },
      "source": [
        "Vamos remover a totalização nas linhas e colunas para obter uma estatística descritiva:"
      ]
    },
    {
      "cell_type": "code",
      "metadata": {
        "id": "-0lYRPxMwyft"
      },
      "source": [
        "pvt = pd.pivot_table(focos_mg_biomas, values='id', index=['Bioma'],\n",
        "                     columns=['mes'], aggfunc='count',\n",
        "                     fill_value=0)\n",
        "\n",
        "pvt.columns=['jan', 'fev', 'mar', 'abr', 'mai', 'jun', 'jul', 'ago', 'set', 'out', 'nov', 'dez']\n",
        "\n",
        "pvt"
      ],
      "execution_count": null,
      "outputs": []
    },
    {
      "cell_type": "code",
      "metadata": {
        "id": "QmpW2cu4w0xB"
      },
      "source": [
        "pvt.describe()"
      ],
      "execution_count": null,
      "outputs": []
    },
    {
      "cell_type": "markdown",
      "metadata": {
        "id": "8Q7E894Ebnbc"
      },
      "source": [
        "# Considerações Finais\n",
        "---"
      ]
    },
    {
      "cell_type": "markdown",
      "metadata": {
        "id": "PSHoIJVGbsV2"
      },
      "source": [
        "A combinação das bibliotecas GeoPandas e Matplotlib permite a criação de muitas ferramentas de análise de geometrias combinadas com seus atributos."
      ]
    }
  ]
}