{
  "nbformat": 4,
  "nbformat_minor": 0,
  "metadata": {
    "colab": {
      "provenance": [],
      "include_colab_link": true
    },
    "kernelspec": {
      "name": "python3",
      "display_name": "Python 3"
    }
  },
  "cells": [
    {
      "cell_type": "markdown",
      "metadata": {
        "id": "view-in-github",
        "colab_type": "text"
      },
      "source": [
        "<a href=\"https://colab.research.google.com/github/afdmoraes/GEOSelper/blob/main/Semana_1_Aula_2_Repeti%C3%A7%C3%A3o.ipynb\" target=\"_parent\"><img src=\"https://colab.research.google.com/assets/colab-badge.svg\" alt=\"Open In Colab\"/></a>"
      ]
    },
    {
      "cell_type": "markdown",
      "metadata": {
        "id": "2FrUDDadsNzU"
      },
      "source": [
        "# Curso de Programação para Sensoriamento Remoto\n",
        "---\n",
        "\n",
        "* Gilberto Ribeiro de Queiroz\n",
        "* Thales Sehn Körting\n",
        "\n",
        "## Tópicos desta aula\n",
        "\n",
        "* Estruturas de Repetição\n",
        "* Strings\n",
        "* Operações com Strings\n",
        "* Formatação de Strings\n",
        "* Sequências (Strings, Tuplas e Listas)\n",
        "\n"
      ]
    },
    {
      "cell_type": "markdown",
      "metadata": {
        "id": "fm2CYzhPUNJ4"
      },
      "source": [
        "# Estruturas de Repetição​\n",
        "---\n"
      ]
    },
    {
      "cell_type": "markdown",
      "metadata": {
        "id": "Ae39vqW_abDP"
      },
      "source": [
        "**Problema:** Escrever um programa para converter temperaturas, em graus Fahrenheit, na escala Celsius.\n",
        "\n",
        "\n",
        "![picture](https://drive.google.com/uc?id=1UHqyTlhm8MKEzJoCR-2iMTa-6_fWHEhl)"
      ]
    },
    {
      "cell_type": "markdown",
      "metadata": {
        "id": "ErhkKrzDW0sH"
      },
      "source": [
        "Como implementar esse programa?​"
      ]
    },
    {
      "cell_type": "markdown",
      "metadata": {
        "id": "Y4AE7qaMW4Y7"
      },
      "source": [
        "## Comandos de Repetição​"
      ]
    },
    {
      "cell_type": "markdown",
      "metadata": {
        "id": "O5BWBStuaU3m"
      },
      "source": [
        "* Muitas das computações que realizamos em um programa são naturalmente repetitivas.​\n",
        "\n",
        "* Nas linguagens imperativas, encontramos estruturas específicas para essa finalidade, que são chamadas de comandos de repetição ou laços (*loops*) ou estruturas de repetição.​\n",
        "\n",
        "* Através desses comandos, podemos realizar uma computação até que uma certa condição seja satisfeita.​"
      ]
    },
    {
      "cell_type": "markdown",
      "metadata": {
        "id": "ovn5cSgyYfP-"
      },
      "source": [
        "## Estrutura de Repetição - Fluxograma​"
      ]
    },
    {
      "cell_type": "markdown",
      "metadata": {
        "id": "C8fKFZdmaMh7"
      },
      "source": [
        "![picture](https://drive.google.com/uc?id=1rwiTIqaotKQUdxN4OMv1fYp3t89tze0b)\n",
        "\n"
      ]
    },
    {
      "cell_type": "markdown",
      "metadata": {
        "id": "Q7djJnAjn41O"
      },
      "source": [
        "## Exemplo - Escrita repetitiva na tela​\n",
        "\n",
        "\n",
        "**Problema:** Crie um programa para escrever os números de `1` a `5`."
      ]
    },
    {
      "cell_type": "code",
      "metadata": {
        "id": "85Ayq2Yhn4G7"
      },
      "source": [
        "print(1)\n",
        "print(2)\n",
        "print(3)\n",
        "print(4)\n",
        "print(5)"
      ],
      "execution_count": null,
      "outputs": []
    },
    {
      "cell_type": "markdown",
      "metadata": {
        "id": "Mt7kCbIkoafw"
      },
      "source": [
        "[link text](https://)**Problema:** Crie um programa para escrever os números de `1` a `100`."
      ]
    },
    {
      "cell_type": "code",
      "metadata": {
        "id": "3H-jEQ6godRE"
      },
      "source": [
        "for i in range(1, 101):\n",
        "    print(i)"
      ],
      "execution_count": null,
      "outputs": []
    },
    {
      "cell_type": "markdown",
      "metadata": {
        "id": "s0huizY1om8T"
      },
      "source": [
        "## Laços do tipo `for​`"
      ]
    },
    {
      "cell_type": "markdown",
      "metadata": {
        "id": "CmRwmeJho6Aj"
      },
      "source": [
        "Esse tipo de laço é muito útil quando estamos lidando com **sequências** (como strings, listas, e tuplas) ou **iteráveis**.​"
      ]
    },
    {
      "cell_type": "markdown",
      "metadata": {
        "id": "oxLkjxqho0Wn"
      },
      "source": [
        "Sintaxe:\n",
        "\n",
        "```\n",
        "for variavel-it in iterável:\n",
        "    instrução-1\n",
        "    instrução-2\n",
        "    ...\n",
        "    instrução-n\n",
        "```"
      ]
    },
    {
      "cell_type": "markdown",
      "metadata": {
        "id": "RplJaq4ApLaK"
      },
      "source": [
        "### Exemplos"
      ]
    },
    {
      "cell_type": "markdown",
      "metadata": {
        "id": "JKjFjcwhsglL"
      },
      "source": [
        "**1.** Escrever um programa para computar o seguinte somatório:\n",
        "\n",
        "$$\\sum_{i=1}^{5} i$$"
      ]
    },
    {
      "cell_type": "code",
      "metadata": {
        "id": "LPzZhcSUqbTr"
      },
      "source": [
        "soma = 0\n",
        "\n",
        "for i in range(1, 6):\n",
        "    soma = soma + i\n",
        "\n",
        "print(f\"soma: {soma}\")"
      ],
      "execution_count": null,
      "outputs": []
    },
    {
      "cell_type": "markdown",
      "metadata": {
        "id": "OftIrA3_n1Kh"
      },
      "source": [
        "**2.** Escrever um programa para converter a tabela abaixo de temperaturas em graus Fahrenheit na equivalente na escala Celsius.​\n",
        "\n",
        "![picture](https://drive.google.com/uc?id=1UHqyTlhm8MKEzJoCR-2iMTa-6_fWHEhl)"
      ]
    },
    {
      "cell_type": "code",
      "metadata": {
        "id": "6_JYA3bDpmcY"
      },
      "source": [
        "for fahr in range(0, 320, 20):\n",
        "    celsius = 5 * (fahr - 32) / 9\n",
        "\n",
        "    print(fahr, celsius)"
      ],
      "execution_count": null,
      "outputs": []
    },
    {
      "cell_type": "markdown",
      "metadata": {
        "id": "ETOoUzqFrfoD"
      },
      "source": [
        "## Laços do tipo `while`"
      ]
    },
    {
      "cell_type": "markdown",
      "metadata": {
        "id": "KL4De1CwrmkX"
      },
      "source": [
        "* Nesse tipo de laço, se a expressão lógica ou condição de repetição no início do laço for verdadeira, os comandos (ou instruções) dentro da estrutura de repetição são executados de maneira sequencial.\n",
        "\n",
        "* Ao final da execução dos comandos, internos ao laço, o fluxo de controle do programa volta ao início, para nova avaliação da expressão lógica.\n",
        "\n",
        "* Se a expressão for satisfeita novamente (verdadeira), o corpo do laço é novamente executado, até que a repetição seja interrompida quando a expressão resultar em um valor falso."
      ]
    },
    {
      "cell_type": "markdown",
      "metadata": {
        "id": "SMDFkyQTsTwu"
      },
      "source": [
        "Sintaxe:\n",
        "\n",
        "```\n",
        "while <condição>:\n",
        "    instrução-1\n",
        "    instrução-2\n",
        "    ...\n",
        "    instrução-n\n",
        "```"
      ]
    },
    {
      "cell_type": "markdown",
      "metadata": {
        "id": "CDm1p9JpspRA"
      },
      "source": [
        "### Exemplos"
      ]
    },
    {
      "cell_type": "markdown",
      "metadata": {
        "id": "QdgIaooUsvG2"
      },
      "source": [
        "**1.** Escrever um programa para computar o seguinte somatório:\n",
        "\n",
        "$$\\sum_{i=1}^{5} i$$"
      ]
    },
    {
      "cell_type": "code",
      "metadata": {
        "id": "m56ZgaXMstKN"
      },
      "source": [
        "i = 1\n",
        "soma = 0\n",
        "\n",
        "while i <= 5:\n",
        "    soma = soma + i\n",
        "    i = i + 1\n",
        "\n",
        "print(\"Soma Final:\", soma)\n",
        "print(\"Valor final de i:\", i)"
      ],
      "execution_count": null,
      "outputs": []
    },
    {
      "cell_type": "markdown",
      "metadata": {
        "id": "Vwt2l1rJtMrv"
      },
      "source": [
        "**2.** Escrever um programa para converter a tabela abaixo de temperaturas em graus Fahrenheit na equivalente na escala Celsius.​\n",
        "\n",
        "![picture](https://drive.google.com/uc?id=1UHqyTlhm8MKEzJoCR-2iMTa-6_fWHEhl)"
      ]
    },
    {
      "cell_type": "code",
      "metadata": {
        "id": "0xtf4zRMtPyM"
      },
      "source": [
        "t_min = 0     # temperatura mínima\n",
        "t_max = 300   # temperatra máxima\n",
        "delta_t = 20  # delta de temperatura a cada passo\n",
        "\n",
        "fahr = t_min  # temperatura Fahrenheit inicial\n",
        "\n",
        "while fahr <= t_max:\n",
        "    celsius = 5 * (fahr - 32) / 9\n",
        "\n",
        "    print(fahr, celsius)\n",
        "\n",
        "    fahr = fahr + delta_t"
      ],
      "execution_count": null,
      "outputs": []
    },
    {
      "cell_type": "markdown",
      "metadata": {
        "id": "6Bn0QMCuty1Q"
      },
      "source": [
        "## Prática"
      ]
    },
    {
      "cell_type": "markdown",
      "metadata": {
        "id": "xPpgG6IFt1sq"
      },
      "source": [
        "**1.** Escreva um programa em Python que leia um número inteiro $n$ entre `1` e `10` e compute o fatorial desse número. Lembre-se que o fatorial de um número $n$ é definindo como:​\n",
        "\n",
        "$$n! = \\prod_{i=1}^{n} i $$\n",
        "\n",
        "ou,\n",
        "\n",
        "$$\n",
        "\\begin{cases}\n",
        "fat(1) = 1, & \\text{se $n = 1$}\\\\\n",
        "fat(n) = n \\times fat(n - 1), & \\text{se $n > 1$}\n",
        "  \\end{cases}\n",
        "$$"
      ]
    },
    {
      "cell_type": "markdown",
      "metadata": {
        "id": "oDoOcSgsvOgH"
      },
      "source": [
        "**2.** A sequência de Fibonacci é uma sequência de números inteiros, começando por `0` e `1`, onde cada termo subsequente corresponde a soma dos dois anteriores:\n",
        "\n",
        "```\n",
        "0, 1, 1, 2, 3, 5, 8, 13, 21, 34, 55, 89, ...\n",
        "```\n",
        "\n",
        "A seguinte fórmula recursiva define esta sequência:​\n",
        "\n",
        "$F_n = F_{n-1} + F_{n-2}$, com $F_0 = 0$ e $F_1 = 1$\n",
        "\n",
        "​Faça um programa em Python que compute a sequência para um número $n$ qualquer."
      ]
    },
    {
      "cell_type": "markdown",
      "metadata": {
        "id": "KkNTBGu4wGfF"
      },
      "source": [
        "**3.** Escreva um programa em Python que leia dois números, $x$ e $y$, e calcule a função potência $x^y$, sem utilizar o operador `**` de Python ou alguma função da biblioteca padrão.​"
      ]
    },
    {
      "cell_type": "markdown",
      "metadata": {
        "id": "0Fzn7dxbwVmH"
      },
      "source": [
        "**4.** Escreva um programa em Python que verifique se um número é primo ou não."
      ]
    },
    {
      "cell_type": "markdown",
      "metadata": {
        "id": "68xeHDgIwYvB"
      },
      "source": [
        "**5.** Escreva um programa em Python que gere a tabela de multiplicação dos números de `1` a `10`.​"
      ]
    },
    {
      "cell_type": "markdown",
      "metadata": {
        "id": "b6be5tm7a1yf"
      },
      "source": [
        "# Strings e Operações com Strings\n",
        "---"
      ]
    },
    {
      "cell_type": "markdown",
      "metadata": {
        "id": "i3qMl_qva9a-"
      },
      "source": [
        "## Tipo `str`: Sequência de Caracteres​\n",
        "\n",
        "* O tipo `str` é capaz de representar uma *sequência de caracteres* ou *cadeia de caracteres* ou *string*.\n",
        "\n",
        "* Uma *string* pode ser expressa entre *aspas duplas* ou entre *aspas simples*:"
      ]
    },
    {
      "cell_type": "code",
      "metadata": {
        "id": "QVEq99Oga4xt"
      },
      "source": [
        "print(\"Thales\")"
      ],
      "execution_count": null,
      "outputs": []
    },
    {
      "cell_type": "markdown",
      "metadata": {
        "id": "R_OzZ4hEbUzP"
      },
      "source": [
        "ou:"
      ]
    },
    {
      "cell_type": "code",
      "metadata": {
        "id": "6ugA6t9ObQI1"
      },
      "source": [
        "print('Thales')"
      ],
      "execution_count": null,
      "outputs": []
    },
    {
      "cell_type": "markdown",
      "metadata": {
        "id": "PBZW859ibaAG"
      },
      "source": [
        "Para escrever literais string que expandem por múltiplas linhas, pode-se usar três aspas duplas ou três aspas simples, como mostrado no exemplo abaixo:"
      ]
    },
    {
      "cell_type": "code",
      "metadata": {
        "id": "NBAWp49rbT_v"
      },
      "source": [
        "print(\"\"\"Thales\n",
        "Sehn\n",
        "Körting\n",
        "\"\"\")"
      ],
      "execution_count": null,
      "outputs": []
    },
    {
      "cell_type": "markdown",
      "metadata": {
        "id": "6qT2-RIIb_3D"
      },
      "source": [
        "Repare que todos os caracteres e mudanças de linha são incluídos como parte do literal:"
      ]
    },
    {
      "cell_type": "code",
      "metadata": {
        "id": "NjfIZ1e9b_T-"
      },
      "source": [
        "print(\"\"\"Thales\n",
        "         Sehn\n",
        "         Körting\n",
        "\"\"\")"
      ],
      "execution_count": null,
      "outputs": []
    },
    {
      "cell_type": "markdown",
      "metadata": {
        "id": "fkFHVNOlcYPi"
      },
      "source": [
        "## Operações com Strings"
      ]
    },
    {
      "cell_type": "markdown",
      "metadata": {
        "id": "oze-ds_Mce25"
      },
      "source": [
        "### Concatenação de Strings: `s + t`"
      ]
    },
    {
      "cell_type": "markdown",
      "metadata": {
        "id": "SBcK7LcQcla0"
      },
      "source": [
        "O `operador+` para strings possui uma interpretação diferente dos tipos numéricos, ele realiza a *concatenação de duas strings*:​"
      ]
    },
    {
      "cell_type": "code",
      "metadata": {
        "id": "tes1N6FwcqxF"
      },
      "source": [
        "\"Thales\" + \"Körting\""
      ],
      "execution_count": null,
      "outputs": []
    },
    {
      "cell_type": "code",
      "metadata": {
        "id": "aB9n5SmbcwkS"
      },
      "source": [
        "\"Thales \" + \"Körting\""
      ],
      "execution_count": null,
      "outputs": []
    },
    {
      "cell_type": "code",
      "metadata": {
        "id": "T1r59GJGcz16"
      },
      "source": [
        "\"Thales \" + \"Sehn \" \"Körting\""
      ],
      "execution_count": null,
      "outputs": []
    },
    {
      "cell_type": "markdown",
      "metadata": {
        "id": "5bBrMugpdBse"
      },
      "source": [
        "* Uma string é uma *sequência imutável* de caracteres.\n",
        "\n",
        "* A concatenação de strings gera um novo objeto, isto é, uma nova string.\n",
        "\n",
        "* Portanto, cuidado ao utilizar o `operador+` repetidamente pois ele pode gerar um *overhead* desnecessário no seu programa. Há outras opções para realizar operações semelhantes, como por exemplo, usando o operador [str.join()](https://docs.python.org/3/library/stdtypes.html#str.join) ou [io.StringIO](https://docs.python.org/3/library/io.html)​.\n",
        "\n"
      ]
    },
    {
      "cell_type": "markdown",
      "metadata": {
        "id": "jLiZ4CCxdli_"
      },
      "source": [
        "### Repetição de Strings: `n * s`"
      ]
    },
    {
      "cell_type": "markdown",
      "metadata": {
        "id": "Dmryv_Aydo5U"
      },
      "source": [
        "Quando aplicado a um número inteiro $n$ e uma string `s`, o `operador*` funciona como se estivéssemos adicionando a string `s` a ela própria, $n$ vezes.\n",
        "\n",
        "A lógica é que assim como `3 * 2 = 2 + 2 + 2`, temos `3 * \"a\" = \"a\" + \"a\" + \"a\"`."
      ]
    },
    {
      "cell_type": "code",
      "metadata": {
        "id": "dNnOELeneK1G"
      },
      "source": [
        "\"Thales\" * 3"
      ],
      "execution_count": null,
      "outputs": []
    },
    {
      "cell_type": "code",
      "metadata": {
        "id": "uatHsLTqeU8C"
      },
      "source": [
        "4 * \"Thales\""
      ],
      "execution_count": null,
      "outputs": []
    },
    {
      "cell_type": "markdown",
      "metadata": {
        "id": "4VDlXroHeeC0"
      },
      "source": [
        "Para valores negativos, a expressão é equivalente a `0 * s`:"
      ]
    },
    {
      "cell_type": "code",
      "metadata": {
        "id": "4UPAsC4veWQK"
      },
      "source": [
        "-4 * \"Thales\""
      ],
      "execution_count": null,
      "outputs": []
    },
    {
      "cell_type": "markdown",
      "metadata": {
        "id": "6My1ojM0fpTi"
      },
      "source": [
        "### Pertinência: `x in s`"
      ]
    },
    {
      "cell_type": "markdown",
      "metadata": {
        "id": "Ta59GMArj9-n"
      },
      "source": [
        "`x in s`: retorna verdadeiro se a string `s` contém a sequência `x`."
      ]
    },
    {
      "cell_type": "code",
      "metadata": {
        "id": "bE08HiY9fyU7"
      },
      "source": [
        "\"i\" in \"imagem-cbers.tif\""
      ],
      "execution_count": null,
      "outputs": []
    },
    {
      "cell_type": "code",
      "metadata": {
        "id": "6jV-b0Pvf1f9"
      },
      "source": [
        "\"a\" in \"imagem-cbers.tif\""
      ],
      "execution_count": null,
      "outputs": []
    },
    {
      "cell_type": "code",
      "metadata": {
        "id": "GGyhh7W8f1ne"
      },
      "source": [
        "\"cbers\" in \"imagem-cbers.tif\""
      ],
      "execution_count": null,
      "outputs": []
    },
    {
      "cell_type": "code",
      "metadata": {
        "id": "5Leyrvm-f9w_"
      },
      "source": [
        "\"landsat\" in \"imagem-cbers.tif\""
      ],
      "execution_count": null,
      "outputs": []
    },
    {
      "cell_type": "markdown",
      "metadata": {
        "id": "z75ihIErf0in"
      },
      "source": [
        "### Impertinência: `x not in s​`"
      ]
    },
    {
      "cell_type": "markdown",
      "metadata": {
        "id": "zKo_lWOfj7ma"
      },
      "source": [
        "`x not in s`: retorna falso se a string `s` contém a sequência `x`."
      ]
    },
    {
      "cell_type": "code",
      "metadata": {
        "id": "P12ZbhWhgXQF"
      },
      "source": [
        "\"i\" not in \"imagem-cbers.tif\""
      ],
      "execution_count": null,
      "outputs": []
    },
    {
      "cell_type": "code",
      "metadata": {
        "id": "ekwwLeDKgXWf"
      },
      "source": [
        "\"a\" not in \"imagem-cbers.tif\""
      ],
      "execution_count": null,
      "outputs": []
    },
    {
      "cell_type": "code",
      "metadata": {
        "id": "istHpsQugXcg"
      },
      "source": [
        "\"cbers\" not in \"imagem-cbers.tif\""
      ],
      "execution_count": null,
      "outputs": []
    },
    {
      "cell_type": "code",
      "metadata": {
        "id": "CnAZUulbgXig"
      },
      "source": [
        "\".tif\" not in \"imagem-cbers.tif\""
      ],
      "execution_count": null,
      "outputs": []
    },
    {
      "cell_type": "markdown",
      "metadata": {
        "id": "pkyiIQtegq5h"
      },
      "source": [
        "### Comprimento da cadeia: `len(s)​`"
      ]
    },
    {
      "cell_type": "markdown",
      "metadata": {
        "id": "Oo-yEFOaj5M5"
      },
      "source": [
        "O operador `len(s)` retorna o número de caracteres (ou tamanho) da string `s`."
      ]
    },
    {
      "cell_type": "code",
      "metadata": {
        "id": "PIos21-QhEbx"
      },
      "source": [
        "len(\"Thales Sehn Körting\")"
      ],
      "execution_count": null,
      "outputs": []
    },
    {
      "cell_type": "code",
      "metadata": {
        "id": "CWoirahvhGn_"
      },
      "source": [
        "len(\"\")"
      ],
      "execution_count": null,
      "outputs": []
    },
    {
      "cell_type": "markdown",
      "metadata": {
        "id": "vOn0REpRhKwX"
      },
      "source": [
        "### Índice (*indexing*): `s[i]`\n",
        "\n",
        "O `operador[]` retorna o *i-th* caractere da string `s`.\n",
        "\n",
        "Exemplos:"
      ]
    },
    {
      "cell_type": "code",
      "metadata": {
        "id": "Z9KY-k9-hUU2"
      },
      "source": [
        "\"Thales Sehn Körting\"[3]"
      ],
      "execution_count": null,
      "outputs": []
    },
    {
      "cell_type": "markdown",
      "metadata": {
        "id": "p92Ojr5bhrQ1"
      },
      "source": [
        "O primeiro elemento possui índice `0`:"
      ]
    },
    {
      "cell_type": "code",
      "metadata": {
        "id": "P9FsEDIthXyX"
      },
      "source": [
        "\"Thales Sehn Körting\"[0]"
      ],
      "execution_count": null,
      "outputs": []
    },
    {
      "cell_type": "markdown",
      "metadata": {
        "id": "Xc4Jt1eGhuZR"
      },
      "source": [
        "Números negativos são usados para indexar a partir do final da string:"
      ]
    },
    {
      "cell_type": "code",
      "metadata": {
        "id": "w4zN7xluhZKQ"
      },
      "source": [
        "\"Thales Sehn Körting\"[-1]"
      ],
      "execution_count": null,
      "outputs": []
    },
    {
      "cell_type": "code",
      "metadata": {
        "id": "ZsXMwRVHiKJ9"
      },
      "source": [
        "\"Thales Sehn Körting\"[-3]"
      ],
      "execution_count": null,
      "outputs": []
    },
    {
      "cell_type": "markdown",
      "metadata": {
        "id": "X3Tnh_MzhvjA"
      },
      "source": [
        "Um índice fora do limite irá lançar uma exceção do tipo `IndexError`​:"
      ]
    },
    {
      "cell_type": "code",
      "metadata": {
        "id": "dewXkB97hbIB"
      },
      "source": [
        "\"Thales Sehn Körting\"[19]"
      ],
      "execution_count": null,
      "outputs": []
    },
    {
      "cell_type": "markdown",
      "metadata": {
        "id": "Tbn3c3ZSicLa"
      },
      "source": [
        "### *Slicing*: `s[i:j]`"
      ]
    },
    {
      "cell_type": "markdown",
      "metadata": {
        "id": "BpBKQHnkj2xI"
      },
      "source": [
        "O `operador[i:j]` extrai substrings de tamanho arbitrário."
      ]
    },
    {
      "cell_type": "code",
      "metadata": {
        "id": "7Ed5fujMimeZ"
      },
      "source": [
        "\"imagem-landsat.tif\"[0:3]"
      ],
      "execution_count": null,
      "outputs": []
    },
    {
      "cell_type": "markdown",
      "metadata": {
        "id": "CDgmna9mitLc"
      },
      "source": [
        "Se o valor antes do \":\" for omitido, subentende-se o valor `0`:"
      ]
    },
    {
      "cell_type": "code",
      "metadata": {
        "id": "UZ9q3lmdipMz"
      },
      "source": [
        "\"imagem-landsat.tif\"[:6]"
      ],
      "execution_count": null,
      "outputs": []
    },
    {
      "cell_type": "markdown",
      "metadata": {
        "id": "HRMHKB7NilpO"
      },
      "source": [
        "Se o valor após \":\" for omitido, subentende-se o valor `len(s)`:​"
      ]
    },
    {
      "cell_type": "code",
      "metadata": {
        "id": "_A74mNAxi4Gl"
      },
      "source": [
        "\"imagem-landsat.tif\"[7:]"
      ],
      "execution_count": null,
      "outputs": []
    },
    {
      "cell_type": "markdown",
      "metadata": {
        "id": "Zgsg5-l_jJ_c"
      },
      "source": [
        "Se omitirmos os valores de índices dos dois lados do sinal de \":\", retornamos uma cópia completa da string:"
      ]
    },
    {
      "cell_type": "code",
      "metadata": {
        "id": "80XCBwUgjRdo"
      },
      "source": [
        "\"imagem-landsat.tif\"[:]"
      ],
      "execution_count": null,
      "outputs": []
    },
    {
      "cell_type": "markdown",
      "metadata": {
        "id": "FlQqBwoQjAVM"
      },
      "source": [
        "**Obs.:** A lógica do intervalo aberto à direita é que seja possível fazer: `s[0:len(s)]​`."
      ]
    },
    {
      "cell_type": "markdown",
      "metadata": {
        "id": "mJozl7i6jptu"
      },
      "source": [
        "## Métodos de Strings"
      ]
    },
    {
      "cell_type": "markdown",
      "metadata": {
        "id": "50Oay2tujzl4"
      },
      "source": [
        "* Diversas operações sobre o tipo string encontram-se na forma de métodos.\n",
        "\n",
        "* Um método nada mais é do que uma notação especial para chamada de funções, onde a função irá operar sobre o próprio dado indicado na chamada.\n",
        "\n",
        "* A sintaxe dessas operações, em geral, serão da forma: `str.op(argumentos)`, onde:\n",
        "\n",
        "    * `str`: objeto.\n",
        "    * `.`: operador membro, que permite acessar atributos e métodos do objeto.\n",
        "    * `op`: nome de um método associado ao objeto.\n",
        "\n"
      ]
    },
    {
      "cell_type": "markdown",
      "metadata": {
        "id": "0OICuwLzph1p"
      },
      "source": [
        "### `s.find(sub[, start[, end]])`"
      ]
    },
    {
      "cell_type": "markdown",
      "metadata": {
        "id": "mZwGXCXLqWSX"
      },
      "source": [
        "* Procura a ocorrência da substring `sub` em `s`.\n",
        "\n",
        "* Retorna `-1` caso não encontre uma ocorrência.\n",
        "\n",
        "* Retorna a posição do primeiro caractere na string onde a ocorrência da substring é encontrada.​"
      ]
    },
    {
      "cell_type": "code",
      "metadata": {
        "id": "XCW_ptDZqhbz"
      },
      "source": [
        "\"Roberto Silva\".find(\"rto\")"
      ],
      "execution_count": null,
      "outputs": []
    },
    {
      "cell_type": "code",
      "metadata": {
        "id": "4zkgBfhcqoBr"
      },
      "source": [
        "\"Gilberto Campos\".find(\"rto\")"
      ],
      "execution_count": null,
      "outputs": []
    },
    {
      "cell_type": "code",
      "metadata": {
        "id": "a_WlPLrXqoHg"
      },
      "source": [
        "\"Thales Körting\".find(\"rto\")"
      ],
      "execution_count": null,
      "outputs": []
    },
    {
      "cell_type": "markdown",
      "metadata": {
        "id": "dAdVuy7ZrGOV"
      },
      "source": [
        "**Obs.:** Se você não precisar saber a posição da substring, use o operador `in`.​"
      ]
    },
    {
      "cell_type": "markdown",
      "metadata": {
        "id": "lvGPV4LorL9X"
      },
      "source": [
        "### `s.join(iterable)​`"
      ]
    },
    {
      "cell_type": "markdown",
      "metadata": {
        "id": "t_yjHUnoroFT"
      },
      "source": [
        "Retorna uma string formada pela concatenação de uma sequência de strings (*iterable*):"
      ]
    },
    {
      "cell_type": "code",
      "metadata": {
        "id": "v8mESXrWrrtJ"
      },
      "source": [
        "\"-\".join( [\"Thales\", \"Sehn\", \"Körting\"] )"
      ],
      "execution_count": null,
      "outputs": []
    },
    {
      "cell_type": "code",
      "metadata": {
        "id": "_a-bRJLAr__s"
      },
      "source": [
        "\" \".join( [\"Thales\", \"Sehn\", \"Körting\"] )"
      ],
      "execution_count": null,
      "outputs": []
    },
    {
      "cell_type": "code",
      "metadata": {
        "id": "VJXFEDyFsCD4"
      },
      "source": [
        "\"\".join( [\"Thales\", \"Sehn\", \"Körting\"] )"
      ],
      "execution_count": null,
      "outputs": []
    },
    {
      "cell_type": "markdown",
      "metadata": {
        "id": "Tnx7-DHdsINf"
      },
      "source": [
        "**Obs.:** A sequência de strings separadas por vírgula e delimitadas por `[` e `]` é uma lista.​"
      ]
    },
    {
      "cell_type": "markdown",
      "metadata": {
        "id": "0BEQq5Lgscvw"
      },
      "source": [
        "### `s.split(sep=None, maxsplit=1)`"
      ]
    },
    {
      "cell_type": "markdown",
      "metadata": {
        "id": "brIJJLmVse_N"
      },
      "source": [
        "Retorna uma lista de palavras usando o separador `sep` como delimitador.​"
      ]
    },
    {
      "cell_type": "code",
      "metadata": {
        "id": "3ML5ScsfsiIP"
      },
      "source": [
        "\"Thales Sehn Körting\".split()"
      ],
      "execution_count": null,
      "outputs": []
    },
    {
      "cell_type": "code",
      "metadata": {
        "id": "76CyhjBQspSg"
      },
      "source": [
        "\"Thales;Sehn;Körting\".split(\";\")"
      ],
      "execution_count": null,
      "outputs": []
    },
    {
      "cell_type": "code",
      "metadata": {
        "id": "sC12a70xswoN"
      },
      "source": [
        "\"1,2,,3,\".split(\",\")"
      ],
      "execution_count": null,
      "outputs": []
    },
    {
      "cell_type": "markdown",
      "metadata": {
        "id": "aFfs7caVs3Cu"
      },
      "source": [
        "**Obs.:** A sequência de strings separadas por vírgula delimitadas por `[` e `]` é uma lista.​"
      ]
    },
    {
      "cell_type": "markdown",
      "metadata": {
        "id": "9h8M862Hs-fM"
      },
      "source": [
        "### `s.replace(old, new[, count])​`"
      ]
    },
    {
      "cell_type": "markdown",
      "metadata": {
        "id": "TQdnSMRjtCSf"
      },
      "source": [
        "Retorna uma string onde toda a ocorrência da substring `old` em `s`, é substituída pela substring `new`.​\n",
        "\n",
        "O argumento opcional `count` limita o número de substituições.​"
      ]
    },
    {
      "cell_type": "code",
      "metadata": {
        "id": "c5khr1CutHAQ"
      },
      "source": [
        "\"Thales Sehn Körting\".replace(\"e\", \"@\")"
      ],
      "execution_count": null,
      "outputs": []
    },
    {
      "cell_type": "code",
      "metadata": {
        "id": "Emmak2DxtUiw"
      },
      "source": [
        "\"Thales Sehn Körting\".replace(\"e\", \"@\", 1)"
      ],
      "execution_count": null,
      "outputs": []
    },
    {
      "cell_type": "markdown",
      "metadata": {
        "id": "dJxhA7yEtnOS"
      },
      "source": [
        "### Outros Métodos de String"
      ]
    },
    {
      "cell_type": "markdown",
      "metadata": {
        "id": "L13IZ8LWtswg"
      },
      "source": [
        "* `str.isdigit()`: ​retorna `True` se todos os caracteres da string são dígitos, caso contrário, retorna `False`.\n",
        "\n",
        "* `str.islower()`: retorna `True` se todos os caracteres são minúsculos e exista pelo menos uma letra, caso contrário, retorna `False`.\n",
        "\n",
        "* `str.isupper()`: retorna `True` se todos os caracteres são maiúsculos e exista pelo menos uma letra, caso contrário, retorna `False`.\n",
        "\n",
        "* `str.lower()`: retorna uma cópia da string com todos os caracteres em minúsculo.\n",
        "\n",
        "* `str.upper()`: retorna uma cópia da string com todos os caracteres em maiúsculo.​\n",
        "\n",
        "Para uma lista completa, veja a [documentação do Python](https://docs.python.org/3/library/stdtypes.html#string-methods)."
      ]
    },
    {
      "cell_type": "markdown",
      "metadata": {
        "id": "6ERYBEqZuhuN"
      },
      "source": [
        "## Tipo `str`: Considerações"
      ]
    },
    {
      "cell_type": "markdown",
      "metadata": {
        "id": "XvzRiA8Uunz2"
      },
      "source": [
        "* O tipo `str` (string) é apenas um dos [tipos de sequência](https://docs.python.org/3/library/stdtypes.html#sequence-types-list-tuple-range) disponíveis em Python.\n",
        "\n",
        "* Existem diversas operações comuns entre os tipos denominados de sequência - *Tuplas*, *Listas*, e *Ranges*.\n",
        "\n",
        "* Strings são sequências imutáveis."
      ]
    },
    {
      "cell_type": "markdown",
      "metadata": {
        "id": "Hfcw0cEnrY1S"
      },
      "source": [
        "# Formatação de Strings\n",
        "---"
      ]
    },
    {
      "cell_type": "markdown",
      "metadata": {
        "id": "VjecFySd1F6p"
      },
      "source": [
        "## Estilo Antigo: usando o operador `%`"
      ]
    },
    {
      "cell_type": "markdown",
      "metadata": {
        "id": "mMkZw5kd159k"
      },
      "source": [
        "`%s`: substituição de strings"
      ]
    },
    {
      "cell_type": "code",
      "metadata": {
        "id": "wzTQZ_4y1gTp"
      },
      "source": [
        "nome = \"Thales Körting\"\n",
        "\n",
        "msg = \"Olá %s\" % nome\n",
        "\n",
        "msg"
      ],
      "execution_count": null,
      "outputs": []
    },
    {
      "cell_type": "markdown",
      "metadata": {
        "id": "EpzrapFx1_Wb"
      },
      "source": [
        "`%d`: substituição de números inteiros"
      ]
    },
    {
      "cell_type": "code",
      "metadata": {
        "id": "LAUmPpT51g0f"
      },
      "source": [
        "idade = 25\n",
        "\n",
        "msg = \"Idade: %d\" % idade\n",
        "\n",
        "msg"
      ],
      "execution_count": null,
      "outputs": []
    },
    {
      "cell_type": "markdown",
      "metadata": {
        "id": "ZeTSFhYQ2XtJ"
      },
      "source": [
        "`%f`: substituição de ponto flutuante"
      ]
    },
    {
      "cell_type": "code",
      "metadata": {
        "id": "6ECQlU5M2bqJ"
      },
      "source": [
        "salario = 1250.34\n",
        "\n",
        "msg = \"Salario: R$ %.3f\" % salario\n",
        "\n",
        "msg"
      ],
      "execution_count": null,
      "outputs": []
    },
    {
      "cell_type": "markdown",
      "metadata": {
        "id": "eHO1Cd4_2HWp"
      },
      "source": [
        "*Padding*:"
      ]
    },
    {
      "cell_type": "code",
      "metadata": {
        "id": "Rvz9FFbv2KUA"
      },
      "source": [
        "'%20s' % ('teste',)"
      ],
      "execution_count": null,
      "outputs": []
    },
    {
      "cell_type": "code",
      "metadata": {
        "id": "AAf2TWxC3QbB"
      },
      "source": [
        "'%05d' % (38,)"
      ],
      "execution_count": null,
      "outputs": []
    },
    {
      "cell_type": "markdown",
      "metadata": {
        "id": "bBtfMJ8i3f-5"
      },
      "source": [
        "## Novo Estilo: `str.format`"
      ]
    },
    {
      "cell_type": "code",
      "metadata": {
        "id": "ucPz9nIu3r8i"
      },
      "source": [
        "nome = \"Thales Körting\"\n",
        "\n",
        "\"Olá {}\".format(nome)"
      ],
      "execution_count": null,
      "outputs": []
    },
    {
      "cell_type": "code",
      "metadata": {
        "id": "hFx7k7gA33KJ"
      },
      "source": [
        "idade = 25\n",
        "\n",
        "\"Idade: {}\".format(idade)"
      ],
      "execution_count": null,
      "outputs": []
    },
    {
      "cell_type": "code",
      "metadata": {
        "id": "H_mrKHh_36es"
      },
      "source": [
        "salario = 1250.34\n",
        "\n",
        "\"Salario: R$ {:09.3f}\".format(salario)\n"
      ],
      "execution_count": null,
      "outputs": []
    },
    {
      "cell_type": "code",
      "metadata": {
        "id": "9MngvxJP4byY"
      },
      "source": [
        "\"Nome: {nome}, idade: {i}\".format(i=30, nome=\"Gilberto\")"
      ],
      "execution_count": null,
      "outputs": []
    },
    {
      "cell_type": "markdown",
      "metadata": {
        "id": "YxCka6CG4pvc"
      },
      "source": [
        "## Interpolação de Strings"
      ]
    },
    {
      "cell_type": "code",
      "metadata": {
        "id": "ZV0CzbfK4r6Q"
      },
      "source": [
        "i = 30\n",
        "\n",
        "nome = \"Gilberto\"\n",
        "\n",
        "f\"Nome: {nome}, idade: {i}\""
      ],
      "execution_count": null,
      "outputs": []
    },
    {
      "cell_type": "markdown",
      "metadata": {
        "id": "WbAyga4NvZ_B"
      },
      "source": [
        "## Leituras sugeridas\n",
        "\n",
        "* [PyFormat](https://pyformat.info)\n",
        "\n",
        "* [Custom String Formatting](https://docs.python.org/3/library/string.html#string-formatting)"
      ]
    },
    {
      "cell_type": "markdown",
      "metadata": {
        "id": "19IkAfyFyLHL"
      },
      "source": [
        "# Sequências: strings, tuplas e listas\n",
        "---"
      ]
    },
    {
      "cell_type": "markdown",
      "metadata": {
        "id": "V46sT-uSyR0b"
      },
      "source": [
        "* Uma sequência é um conjunto ordenado de $n$ valores: $a_0, a_1, a_2, ..., a_{n-1}$\n",
        "\n",
        "* Cada elemento de uma sequência é associado a um número: **índice** ou **posição**.\n",
        "\n",
        "* O primeiro índice é o **zero**.\n",
        "\n",
        "* Os três tipos básicos de sequências são:\n",
        "    * **Strings:** sequência de caracteres.\n",
        "    * **Tuplas:** sequência imutável de valores (ou itens).\n",
        "    * **Listas:** sequência de valores (ou itens), que pode crescer, encolher, ou alterar elementos."
      ]
    },
    {
      "cell_type": "markdown",
      "metadata": {
        "id": "pGCY30Kgy5E4"
      },
      "source": [
        "## Operações Comums"
      ]
    },
    {
      "cell_type": "markdown",
      "metadata": {
        "id": "F3FvphlTy8OU"
      },
      "source": [
        "| Operador | Descrição |\n",
        "|:---:|:---:|\n",
        "| `x in s` |`True` se um item de `s` for igual a `x`, `False` caso contrário |\n",
        "| `x not in s` |`False` se um item de `s` for igual a `x`, `True` caso contrário |\n",
        "| `s + t` | Concatenação de `s` e `t` |\n",
        "| `s[i]` | *i-th* item de `s` |\n",
        "| `s[i:j]` | Parte da sequência no intervalo `[i,j)` |\n",
        "| `len(s)` | Comprimento da sequência `s` |\n",
        "| `min(s)` | Menor item da sequência `s` | \n",
        "| `max(s)` | Maior item da sequência `s` |\n",
        "| `s.index(x)` | Índice da primeira ocorrência de `x` |\n",
        "| `s.count(x)` | Número total de ocorrências de `x` em `s` |\n",
        "\n",
        "Para maiores detalhes veja a [documentação oficial do Python](https://docs.python.org/3/library/stdtypes.html#common-sequence-operations)."
      ]
    },
    {
      "cell_type": "markdown",
      "metadata": {
        "id": "L6tqgExx0tSJ"
      },
      "source": [
        "## Strings: Sequência de Caracteres​"
      ]
    },
    {
      "cell_type": "code",
      "metadata": {
        "id": "GFUr5r9E0vn8"
      },
      "source": [
        "nome = \"Thales Sehn Körting\"\n",
        "\n",
        "letra = \"S\"\n",
        "\n",
        "if letra in nome:\n",
        "  print(\"Nome contém a letra 'S'!\")\n",
        "else:\n",
        "  print(\"Nome não contém a letra 'S'!\")"
      ],
      "execution_count": null,
      "outputs": []
    },
    {
      "cell_type": "code",
      "metadata": {
        "id": "8t5FsJry08vu"
      },
      "source": [
        "tamanho = len(nome)\n",
        "\n",
        "print(tamanho)"
      ],
      "execution_count": null,
      "outputs": []
    },
    {
      "cell_type": "code",
      "metadata": {
        "id": "ey0fgQ841APC"
      },
      "source": [
        "pos = nome.index(\"t\")\n",
        "\n",
        "print(pos)"
      ],
      "execution_count": null,
      "outputs": []
    },
    {
      "cell_type": "markdown",
      "metadata": {
        "id": "PZqv7cAf1Vdj"
      },
      "source": [
        "## Tuplas"
      ]
    },
    {
      "cell_type": "markdown",
      "metadata": {
        "id": "Lup1GLy91Ylw"
      },
      "source": [
        "As tuplas são expressas através de uma sequência cujos **itens** são **separados por vírgula** e, **delimitados** ou não por​ **parênteses**:"
      ]
    },
    {
      "cell_type": "code",
      "metadata": {
        "id": "dzsTo5f0qzBo"
      },
      "source": [
        "# Coordenadas do centróide da Cidade de São Paulo/Brasil\n",
        "centroide_sp = (-46.7165, -23.6830)\n",
        "\n",
        "print(centroide_sp)"
      ],
      "execution_count": null,
      "outputs": []
    },
    {
      "cell_type": "code",
      "metadata": {
        "id": "wuAA2up7q8e9"
      },
      "source": [
        "print(\"longitude: {} latitude: {}\".format(*centroide_sp))"
      ],
      "execution_count": null,
      "outputs": []
    },
    {
      "cell_type": "code",
      "metadata": {
        "id": "ixw3nNgPq_3q"
      },
      "source": [
        "print( len(centroide_sp) )"
      ],
      "execution_count": null,
      "outputs": []
    },
    {
      "cell_type": "code",
      "metadata": {
        "id": "VfA94hTzrBiP"
      },
      "source": [
        "longitude = centroide_sp[0]\n",
        "\n",
        "longitude"
      ],
      "execution_count": null,
      "outputs": []
    },
    {
      "cell_type": "code",
      "metadata": {
        "id": "tchIbzpLrDIY"
      },
      "source": [
        "latitude = centroide_sp[1]\n",
        "\n",
        "latitude"
      ],
      "execution_count": null,
      "outputs": []
    },
    {
      "cell_type": "markdown",
      "metadata": {
        "id": "QCsdsx6qrKvq"
      },
      "source": [
        "As tuplas podem ser aninhadas (*nested*):"
      ]
    },
    {
      "cell_type": "code",
      "metadata": {
        "id": "CW8BouJArNfD"
      },
      "source": [
        "# retângulo envolvente mínimo (rem) da Cidade de São Paulo\n",
        "rem_sp = ( (-46.8254, -24.0084), (-46.3648, -23.6830) )\n",
        "\n",
        "rem_sp"
      ],
      "execution_count": null,
      "outputs": []
    },
    {
      "cell_type": "code",
      "metadata": {
        "id": "4YM8apnnrUO7"
      },
      "source": [
        "canto_inferior_esquerdo = rem_sp[0]\n",
        "\n",
        "canto_inferior_esquerdo"
      ],
      "execution_count": null,
      "outputs": []
    },
    {
      "cell_type": "code",
      "metadata": {
        "id": "y1YBTD_0rVfk"
      },
      "source": [
        "canto_superior_direito = rem_sp[1]\n",
        "\n",
        "canto_superior_direito"
      ],
      "execution_count": null,
      "outputs": []
    },
    {
      "cell_type": "code",
      "metadata": {
        "id": "YmMuIcMerWrU"
      },
      "source": [
        "print(\"xmin:\", canto_inferior_esquerdo[0])"
      ],
      "execution_count": null,
      "outputs": []
    },
    {
      "cell_type": "markdown",
      "metadata": {
        "id": "bUsjzGuFroj4"
      },
      "source": [
        "Se tentarmos alterar um item de uma tupla, será lançada uma exceção:​"
      ]
    },
    {
      "cell_type": "code",
      "metadata": {
        "id": "XDKNxT5PrpOd"
      },
      "source": [
        "centroide_sp[1] = 45.0​"
      ],
      "execution_count": null,
      "outputs": []
    },
    {
      "cell_type": "markdown",
      "metadata": {
        "id": "CtZMgCZnr2VG"
      },
      "source": [
        "## Listas"
      ]
    },
    {
      "cell_type": "code",
      "metadata": {
        "id": "IigAgp-Zr-cn"
      },
      "source": [
        "cidades = [\"São Paulo\", \"Rio de Janeiro\", \"Belo Horizonte\", \"Ouro Preto\"]\n",
        "\n",
        "print(cidades)"
      ],
      "execution_count": null,
      "outputs": []
    },
    {
      "cell_type": "code",
      "metadata": {
        "id": "MZqvuEAAsG7b"
      },
      "source": [
        "# Ordenando a lista\n",
        "cidades.sort()\n",
        "\n",
        "print(cidades)"
      ],
      "execution_count": null,
      "outputs": []
    },
    {
      "cell_type": "code",
      "metadata": {
        "id": "QnJV-Mrlsa6z"
      },
      "source": [
        "# Gera uma nova lista \"ordenada ao contrário\"\n",
        "nova_lista = sorted(cidades, reverse=True)\n",
        "\n",
        "print(nova_lista)"
      ],
      "execution_count": null,
      "outputs": []
    },
    {
      "cell_type": "code",
      "metadata": {
        "id": "ZhU7Ta2lshxI"
      },
      "source": [
        "print(cidades)"
      ],
      "execution_count": null,
      "outputs": []
    },
    {
      "cell_type": "code",
      "metadata": {
        "id": "w4u0Z0JbsmYm"
      },
      "source": [
        "cidades.append(\"São José dos Campos\")\n",
        "\n",
        "print(cidades)"
      ],
      "execution_count": null,
      "outputs": []
    },
    {
      "cell_type": "code",
      "metadata": {
        "id": "VAyIQ2_rst9_"
      },
      "source": [
        "del cidades[1]\n",
        "\n",
        "print(cidades)"
      ],
      "execution_count": null,
      "outputs": []
    },
    {
      "cell_type": "code",
      "metadata": {
        "id": "9tMMH50tswaR"
      },
      "source": [
        "cidades.extend( [\"Ouro Preto\", \"Mariana\"] )\n",
        "\n",
        "print(cidades)"
      ],
      "execution_count": null,
      "outputs": []
    },
    {
      "cell_type": "code",
      "metadata": {
        "id": "G6sJutVSsz4m"
      },
      "source": [
        "cidades.reverse()\n",
        "\n",
        "print(cidades)"
      ],
      "execution_count": null,
      "outputs": []
    },
    {
      "cell_type": "markdown",
      "metadata": {
        "id": "qfDIBb7Ms9ZV"
      },
      "source": [
        "Outras formas de construção​ de uma listas:"
      ]
    },
    {
      "cell_type": "code",
      "metadata": {
        "id": "DgF--5P4tAzG"
      },
      "source": [
        "l_letras = list( \"Gilberto\" )\n",
        "\n",
        "print(l_letras)"
      ],
      "execution_count": null,
      "outputs": []
    },
    {
      "cell_type": "code",
      "metadata": {
        "id": "PzG6Pr8_tJoJ"
      },
      "source": [
        "primos = list( (1, 2, 3, 5, 7) )\n",
        "\n",
        "print(primos)"
      ],
      "execution_count": null,
      "outputs": []
    },
    {
      "cell_type": "code",
      "metadata": {
        "id": "MNSD62fztLvO"
      },
      "source": [
        "seq1 = list( range(10) )\n",
        "\n",
        "print(seq1)"
      ],
      "execution_count": null,
      "outputs": []
    },
    {
      "cell_type": "code",
      "metadata": {
        "id": "oSvYFOIdtNeG"
      },
      "source": [
        "seq2 = list( range(3, 10) )\n",
        "\n",
        "print(seq2)"
      ],
      "execution_count": null,
      "outputs": []
    },
    {
      "cell_type": "code",
      "metadata": {
        "id": "IKUqAtnytP4m"
      },
      "source": [
        "lista_vazia = []\n",
        "\n",
        "print(lista_vazia)"
      ],
      "execution_count": null,
      "outputs": []
    },
    {
      "cell_type": "markdown",
      "metadata": {
        "id": "IpEsX7YntYcW"
      },
      "source": [
        "## List Comprehension"
      ]
    },
    {
      "cell_type": "code",
      "metadata": {
        "id": "j7l3n9y4tZhb"
      },
      "source": [
        "f_ident = [ x for x in range(0, 10) ]\n",
        "\n",
        "print(f_ident)"
      ],
      "execution_count": null,
      "outputs": []
    },
    {
      "cell_type": "code",
      "metadata": {
        "id": "nNnB1OR6tgCI"
      },
      "source": [
        "f_quad = [ x**2 for x in range(0, 10) ]\n",
        "\n",
        "print(f_quad)"
      ],
      "execution_count": null,
      "outputs": []
    },
    {
      "cell_type": "code",
      "metadata": {
        "id": "mkcxoJCRtiIc"
      },
      "source": [
        "f_exp = [ 2**x for x in range(0, 10) ]\n",
        "\n",
        "print(f_exp)"
      ],
      "execution_count": null,
      "outputs": []
    },
    {
      "cell_type": "markdown",
      "metadata": {
        "id": "ywYpJWoCtwmZ"
      },
      "source": [
        "## Considerações Sobre o tipo Lista"
      ]
    },
    {
      "cell_type": "markdown",
      "metadata": {
        "id": "T8i5JvSkvwgu"
      },
      "source": [
        "* O tipo de dados lista é uma das estruturas mais utilizadas da linguagem Python.\n",
        "\n",
        "* Cada item de uma lista é identificado por um índice.\n",
        "\n",
        "* Listas são sequências mutáveis, isto é, podem encolher ou incluir novos elementos.\n",
        "\n",
        "* Demos os primeiros passos para utilizar um idioma muito comum da programação em Python: **List Comprehension**."
      ]
    },
    {
      "cell_type": "markdown",
      "metadata": {
        "id": "q78_O-jJuLFZ"
      },
      "source": [
        "## Prática"
      ]
    },
    {
      "cell_type": "markdown",
      "metadata": {
        "id": "kUrVzAP3uOV9"
      },
      "source": [
        "**1.** Dada a lista de valores de NDVI:\n",
        "\n",
        "```\n",
        "serie_ndvi = [0.3, -0.3, 0.2, None, 0.9, 0.8, 0.8, None, 0.2, 0.2]\n",
        "```\n",
        "\n",
        "Apresente as seguintes informações:\n",
        "\n",
        "* Quantidade de valores inválidos (neste caso: `None`).\n",
        "\n",
        "* Quantidade de valores válidos​."
      ]
    },
    {
      "cell_type": "markdown",
      "metadata": {
        "id": "279fSe9CucFD"
      },
      "source": [
        "**2.** Uma imagem MODIS em geral armazena seus valores multiplicados por `10.000`. Desta forma um valor `5.000` (inteiro) representa o valor real `0.5` (ponto flutuante) e ocupa menos espaço na memória.\n",
        "\n",
        "Dada uma lista de valores MODIS:\n",
        "\n",
        "```\n",
        "serie_modis = [7000, 6000, 3000, 3000, 10000, 2000, 5000, 500, 7500, 3000]\n",
        "```\n",
        "\n",
        "Calcule e apresente a lista de valores reais (divididos por `10.000`)"
      ]
    },
    {
      "cell_type": "markdown",
      "metadata": {
        "id": "os7TZ2SaxZG7"
      },
      "source": [
        "# Laços `for` e Sequências\n",
        "---"
      ]
    },
    {
      "cell_type": "markdown",
      "metadata": {
        "id": "Mo4ioHNZu8ce"
      },
      "source": [
        "**1.** Iterando pelos caracteres de uma string:"
      ]
    },
    {
      "cell_type": "code",
      "metadata": {
        "id": "vwU0oVnkxlf8"
      },
      "source": [
        "nome = \"Gilberto Ribeiro\"\n",
        "\n",
        "for letra in nome:\n",
        "    print(letra)"
      ],
      "execution_count": null,
      "outputs": []
    },
    {
      "cell_type": "markdown",
      "metadata": {
        "id": "rAHVrHUzvAyK"
      },
      "source": [
        "**2.** Iterando pelos itens de uma lista:"
      ]
    },
    {
      "cell_type": "code",
      "metadata": {
        "id": "kbbLgRrZxmQL"
      },
      "source": [
        "cidades = [\"São Paulo\", \"Rio de Janeiro\", \"Belo Horizonte\"]\n",
        "\n",
        "for cidade in cidades:\n",
        "    print(\"Nome:\", cidade)"
      ],
      "execution_count": null,
      "outputs": []
    },
    {
      "cell_type": "markdown",
      "metadata": {
        "id": "OQj-ghBQvEOi"
      },
      "source": [
        "**3.** Iterando no intervalo de valores `[7, 17)`:"
      ]
    },
    {
      "cell_type": "code",
      "metadata": {
        "id": "JPL_6tpBxpGh"
      },
      "source": [
        "for num in range(7, 17):\n",
        "    print(num)"
      ],
      "execution_count": null,
      "outputs": []
    },
    {
      "cell_type": "markdown",
      "metadata": {
        "id": "oLT3Pda1vI-_"
      },
      "source": [
        "**4.** Usando a função `enumerate`:"
      ]
    },
    {
      "cell_type": "code",
      "metadata": {
        "id": "RtmXSMP5xrq_"
      },
      "source": [
        "cidades = [\"São Paulo\", \"​Rio de Janeiro\", \"Belo Horizonte\"]\n",
        "\n",
        "for i, cidade in enumerate(cidades):\n",
        "    print(\"{}: {}\".format(i, cidade))"
      ],
      "execution_count": null,
      "outputs": []
    },
    {
      "cell_type": "markdown",
      "metadata": {
        "id": "Kywj2Er8yct5"
      },
      "source": [
        "Atravessando duas Listas​:"
      ]
    },
    {
      "cell_type": "code",
      "metadata": {
        "id": "wd58QhFIydtU"
      },
      "source": [
        "print(\"Conversão de F -> C\")\n",
        "\n",
        "fahr = [0, 20, 40, 60, 80, 100]\n",
        "\n",
        "celsius = [5 * (x-32) / 9 for x in fahr]\n",
        "\n",
        "for f, c in zip(fahr, celsius):\n",
        "    print(f, c)\n",
        "\n",
        "print(\"Fim!\")"
      ],
      "execution_count": null,
      "outputs": []
    },
    {
      "cell_type": "markdown",
      "metadata": {
        "id": "qwmQF-Y_y3_b"
      },
      "source": [
        "Atravessando três Listas:"
      ]
    },
    {
      "cell_type": "code",
      "metadata": {
        "id": "ssk2bbxny5Mq"
      },
      "source": [
        "print(\"Conversão de F -> C -> K\")\n",
        "\n",
        "fahr = [ 0, 20, 40, 60, 80, 100 ]\n",
        "\n",
        "celsius = [ 5*(x-32)/9 for x in fahr ]\n",
        "\n",
        "kelvin = [ x+273 for x in celsius ]\n",
        "\n",
        "for f, c, k in zip(fahr, celsius, kelvin):\n",
        "    print(f, c, k)\n",
        "\n",
        "print(\"Fim!\")"
      ],
      "execution_count": null,
      "outputs": []
    },
    {
      "cell_type": "markdown",
      "metadata": {
        "id": "ZoqWA_l4zI8e"
      },
      "source": [
        "### Prática"
      ]
    },
    {
      "cell_type": "markdown",
      "metadata": {
        "id": "lw3U4AxozKqz"
      },
      "source": [
        "**1.** Considere a seguinte lista:​\n",
        "\n",
        "```\n",
        "[ 0, 1, 1, 2, 3, 5, 8, 13, 21, 34, 55, 89 ]​\n",
        "```\n",
        "\n",
        "​Faça um programa em Python que realize a soma dessa lista e escreva o valor da soma.​"
      ]
    },
    {
      "cell_type": "markdown",
      "metadata": {
        "id": "F5c0CXqezQ8d"
      },
      "source": [
        "**2.** Considere a série temporal mostrada abaixo, extraída de dados do sensor `MODIS`, produto `MOD13Q1`, para a localização `(-54,-12)` para o período de `01/01/2015` a `19/12/2015`:\n",
        "\n",
        "```\n",
        "red_values = (\n",
        "    168, 398, 451, 337,\n",
        "    186, 232, 262, 349,\n",
        "    189, 204, 220, 220,\n",
        "    207, 239, 259, 258,\n",
        "    242, 331, 251, 323,\n",
        "    106, 1055, 170\n",
        ")\n",
        "```\n",
        "\n",
        "```\n",
        "nir_values = (\n",
        "    2346, 4431, 4638, 4286,\n",
        "    2752, 3521, 2928, 3087,\n",
        "    2702, 2685, 2702, 2865,\n",
        "    2835, 2955, 3019, 3391,\n",
        "    2986, 4042, 3050, 3617,\n",
        "    2478, 3361, 2613\n",
        ")\n",
        "```\n",
        "\n",
        "```\n",
        "timeline = (\n",
        "    \"2015-01-01\", \"2015-01-17\", \"2015-02-02\", \"2015-02-18\",\n",
        "    \"2015-03-06\", \"2015-03-22\", \"2015-04-07\", \"2015-04-23\",\n",
        "    \"2015-05-09\", \"2015-05-25\", \"2015-06-10\", \"2015-06-26\",\n",
        "    \"2015-07-12\", \"2015-07-28\", \"2015-08-13\", \"2015-08-29\",\n",
        "    \"2015-09-14\", \"2015-09-30\", \"2015-10-16\", \"2015-11-01\",\n",
        "    \"2015-11-17\", \"2015-12-03\", \"2015-12-19\"\n",
        ")\n",
        "```\n",
        "\n",
        "Faça um programa que:\n",
        "* Crie a série temporal do `NDVI`.\n",
        "\n",
        "* Calcule a média do `NDVI` dessa série temporal.\n",
        "\n",
        "* Obtenha o maior e menor valores de `NDVI` e escreva a data em que eles ocorrem.\n",
        "\n",
        "\n",
        "**Obs.:** Multiplicar os valores de `red` e `nir` por $0.0001$ (ver [MOD13Q1](https://lpdaac.usgs.gov/dataset_discovery/modis/modis_products_table/mod13q1))"
      ]
    },
    {
      "cell_type": "markdown",
      "metadata": {
        "id": "oTOzpQXRviTe"
      },
      "source": [
        "# Dicionários\n",
        "---"
      ]
    },
    {
      "cell_type": "markdown",
      "metadata": {
        "id": "S0Iu0ZHJvmou"
      },
      "source": [
        "Tipo de conjunto onde os valores são indexados por chaves que, em geral, são números inteiros ou strings.\n",
        "\n",
        "Também são denominados de **arrays associativos**.\n",
        "\n",
        "Exemplo:"
      ]
    },
    {
      "cell_type": "code",
      "metadata": {
        "id": "iNWRyWEcwAlx"
      },
      "source": [
        "# registro sobre a cidade de São Paulo\n",
        "sao_paulo = {\n",
        "    \"name\" : \"São Paulo\",\n",
        "    \"woeid\" : 12582314,\n",
        "    \"bounding-box\" : ((-46.82, -24.00), (-46.36, -23.68)),\n",
        "    \"country\" : \"Brazil\"\n",
        "}\n",
        "\n",
        "sao_paulo"
      ],
      "execution_count": null,
      "outputs": []
    },
    {
      "cell_type": "code",
      "metadata": {
        "id": "OBlNe2wwwI6Z"
      },
      "source": [
        "# Localização de \"São José dos Campos\"\n",
        "sjc = {\n",
        "    \"longitude\": -45.88,\n",
        "    \"latitude\": -23.17\n",
        "}\n",
        "\n",
        "sjc"
      ],
      "execution_count": null,
      "outputs": []
    },
    {
      "cell_type": "code",
      "metadata": {
        "id": "Gfla3EVOwjTF"
      },
      "source": [
        "# Localização de \"Ouro Preto\"\n",
        "ouro_preto = {\n",
        "    \"longitude\": -43.50,\n",
        "    \"latitude\": -20.38\n",
        "}\n",
        "\n",
        "ouro_preto"
      ],
      "execution_count": null,
      "outputs": []
    },
    {
      "cell_type": "code",
      "metadata": {
        "id": "rk6xkx9kwuMp"
      },
      "source": [
        "ouro_preto[\"longitude\"]"
      ],
      "execution_count": null,
      "outputs": []
    },
    {
      "cell_type": "code",
      "metadata": {
        "id": "tBmjGrvcwoUo"
      },
      "source": [
        "ouro_preto[\"latitude\"] = -20.379\n",
        "\n",
        "ouro_preto"
      ],
      "execution_count": null,
      "outputs": []
    },
    {
      "cell_type": "code",
      "metadata": {
        "id": "On5KHCkzwq8I"
      },
      "source": [
        "for key, value in sjc.items():\n",
        "    print( \"key: {}; value: {}\".format(key, value) )"
      ],
      "execution_count": null,
      "outputs": []
    },
    {
      "cell_type": "markdown",
      "metadata": {
        "id": "3FEHlWkpw7Zm"
      },
      "source": [
        "## Considerações sobre Dicionários"
      ]
    },
    {
      "cell_type": "markdown",
      "metadata": {
        "id": "8T-861AoxA96"
      },
      "source": [
        "* Dicionários podem ser alterados (mutáveis).\n",
        "\n",
        "* O dicionário vazio é representado por:\n",
        "```\n",
        "d = {}\n",
        "```\n",
        "\n",
        "* Uma chave em um dicionário pode estar associada a outro dicionário.\n",
        "\n",
        "* Uma chave pode estar associada a uma lista ou outros objetos."
      ]
    },
    {
      "cell_type": "markdown",
      "metadata": {
        "id": "ADJUqtoMwtC7"
      },
      "source": [
        "# Considerações Finais​\n",
        "---"
      ]
    },
    {
      "cell_type": "markdown",
      "metadata": {
        "id": "PSLSxeniwu2U"
      },
      "source": [
        "* Laços do tipo `for` são indicados quando temos que iterar (acessar ou atravessar) por uma coleção de objetos (ou itens).\n",
        "\n",
        "* Laços do tipo `while` são indicados quando temos uma condição a ser verificada a cada iteração.\n",
        "\n",
        "* Veremos que podemos modificar o fluxo de um laço através dos comandos `break` e `continue`."
      ]
    }
  ]
}