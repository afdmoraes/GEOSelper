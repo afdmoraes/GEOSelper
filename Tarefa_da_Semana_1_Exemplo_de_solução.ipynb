{
  "nbformat": 4,
  "nbformat_minor": 0,
  "metadata": {
    "colab": {
      "provenance": [],
      "include_colab_link": true
    },
    "kernelspec": {
      "name": "python3",
      "display_name": "Python 3"
    }
  },
  "cells": [
    {
      "cell_type": "markdown",
      "metadata": {
        "id": "view-in-github",
        "colab_type": "text"
      },
      "source": [
        "<a href=\"https://colab.research.google.com/github/afdmoraes/GEOSelper/blob/main/Tarefa_da_Semana_1_Exemplo_de_solu%C3%A7%C3%A3o.ipynb\" target=\"_parent\"><img src=\"https://colab.research.google.com/assets/colab-badge.svg\" alt=\"Open In Colab\"/></a>"
      ]
    },
    {
      "cell_type": "markdown",
      "metadata": {
        "id": "2FrUDDadsNzU"
      },
      "source": [
        "# Tarefa da Semana 1 - Exemplo de solução\n",
        "---\n",
        "\n",
        "Esta é a sua primeira tarefa do curso de Programação para Sensoriamento Remoto. As próximas tarefas também seguirão esta mesma estrutura. Crie um Jupyter Notebook no seu Google Colab para reportar os resultados obtidos. Inclua blocos de código e texto para informar as partes realizadas. \n",
        "\n",
        "**Atividades**\n",
        "\n",
        "**(a)** realize a leitura de 3 números, relativos aos valores de 1 pixel nas bandas do verde (green), vermelho (red) e infravermelho (nir)"
      ]
    },
    {
      "cell_type": "code",
      "metadata": {
        "colab": {
          "base_uri": "https://localhost:8080/"
        },
        "id": "itsxBtlseVwY",
        "outputId": "79d1d269-a40d-462f-adf4-cb054aefd8e2"
      },
      "source": [
        "# exemplos retirados da imagem crop_rapideye.tif, \n",
        "# que será trabalhada na Semana 3\n",
        "\n",
        "# exemplo de pixel de agua\n",
        "# green 4670.0\n",
        "# red 2936.0\n",
        "# nir 2059.0\n",
        "# ndvi -0.1755755755755404\n",
        "# ndwi 0.3880219943527436\n",
        "\n",
        "# exemplo de pixel de vegetacao\n",
        "# green 5799.0\n",
        "# red 2406.0\n",
        "# nir 16178.0\n",
        "# ndvi 0.7410675850193316\n",
        "# ndwi -0.47226646039038667\n",
        "\n",
        "green = float(input('digite um valor para green '))\n",
        "red = float(input('digite um valor para red '))\n",
        "nir = float(input('digite um valor para nir '))"
      ],
      "execution_count": null,
      "outputs": [
        {
          "output_type": "stream",
          "text": [
            "digite um valor para green 5799\n",
            "digite um valor para red 2406\n",
            "digite um valor para nir 16178\n"
          ],
          "name": "stdout"
        }
      ]
    },
    {
      "cell_type": "markdown",
      "metadata": {
        "id": "yr4Bc9S6en6f"
      },
      "source": [
        "**(b)** com estes números, calcule e apresente os índices de vegetação (NDVI) e de água (NDWI), segundo as equações abaixo:\n",
        "\n",
        "Normalized Difference Vegetation Index\n",
        "```\n",
        "NDVI = (nir - red) / (nir + red)\n",
        "```\n",
        "Normalized Difference Water Index\n",
        "```\n",
        "NDWI = (green - nir) / (green + nir)\n",
        "```"
      ]
    },
    {
      "cell_type": "code",
      "metadata": {
        "colab": {
          "base_uri": "https://localhost:8080/"
        },
        "id": "VcsXHh_6eskJ",
        "outputId": "e825ceb8-97bc-48f8-bb7b-58de2e66a795"
      },
      "source": [
        "NDVI = (nir - red) / (nir + red)\n",
        "NDWI = (green - nir) / (green + nir)\n",
        "\n",
        "print('NDVI', NDVI, 'NDWI', NDWI)"
      ],
      "execution_count": null,
      "outputs": [
        {
          "output_type": "stream",
          "text": [
            "NDVI 0.7410675850193715 NDWI -0.47226646039040815\n"
          ],
          "name": "stdout"
        }
      ]
    },
    {
      "cell_type": "markdown",
      "metadata": {
        "id": "ThVCYv0Ietw1"
      },
      "source": [
        "**(c)** com base nos valores de NDVI e NDWI calculados, informe a possível classificação do pixel, implementando uma árvore de decisão com as seguintes regras:\n",
        "\n",
        "```\n",
        "NDWI > 0.0? água\n",
        "NDWI <= 0.0 e NDVI > 0.7? vegetação\n",
        "NDWI <= 0.0 e NDVI <= 0.7? outros\n",
        "```"
      ]
    },
    {
      "cell_type": "code",
      "metadata": {
        "colab": {
          "base_uri": "https://localhost:8080/"
        },
        "id": "vDMK0ApYeyIC",
        "outputId": "2d70d924-c2e6-4ee6-bac0-dc79f1e9cc62"
      },
      "source": [
        "if NDWI > 0.0:\n",
        "  print('água')\n",
        "else:\n",
        "  if NDVI > 0.7:\n",
        "    print('vegetação')\n",
        "  else:\n",
        "    print('outros')"
      ],
      "execution_count": null,
      "outputs": [
        {
          "output_type": "stream",
          "text": [
            "vegetação\n"
          ],
          "name": "stdout"
        }
      ]
    },
    {
      "cell_type": "markdown",
      "metadata": {
        "id": "bcQZtIZSezGR"
      },
      "source": [
        "Dada uma lista de arquivos de imagens do CBERS-04A\n",
        "\n",
        "```\n",
        "lista_cbers_04a = ['CBERS_4A_WFI_20201019_230_124_L2_BAND13.tif', \n",
        " 'CBERS_4A_WFI_20201019_230_124_L2_BAND13.xml', \n",
        " 'CBERS_4A_WFI_20201019_230_124_L2_BAND14.tif', \n",
        " 'CBERS_4A_WFI_20201019_230_124_L2_BAND14.xml', \n",
        " 'CBERS_4A_WFI_20201019_230_124_L2_BAND15.tif', \n",
        " 'CBERS_4A_WFI_20201019_230_124_L2_BAND15.xml', \n",
        " 'CBERS_4A_WFI_20201019_230_124_L2_BAND16.tif', \n",
        " 'CBERS_4A_WFI_20201019_230_124_L2_BAND16.xml']\n",
        "```\n",
        "\n",
        "**(d)** para cada nome de imagem, conte quantos caracteres são numéricos, e quantos não são"
      ]
    },
    {
      "cell_type": "code",
      "metadata": {
        "colab": {
          "base_uri": "https://localhost:8080/"
        },
        "id": "A8Q8Fd2ee0Fe",
        "outputId": "205cee69-1e96-4093-f4aa-4a9f932973b3"
      },
      "source": [
        "lista_cbers_04a = ['CBERS_4A_WFI_20201019_230_124_L2_BAND13.tif', \n",
        " 'CBERS_4A_WFI_20201019_230_124_L2_BAND13.xml', \n",
        " 'CBERS_4A_WFI_20201019_230_124_L2_BAND14.tif', \n",
        " 'CBERS_4A_WFI_20201019_230_124_L2_BAND14.xml', \n",
        " 'CBERS_4A_WFI_20201019_230_124_L2_BAND15.tif', \n",
        " 'CBERS_4A_WFI_20201019_230_124_L2_BAND15.xml', \n",
        " 'CBERS_4A_WFI_20201019_230_124_L2_BAND16.tif', \n",
        " 'CBERS_4A_WFI_20201019_230_124_L2_BAND16.xml']\n",
        "\n",
        "# atravessar a lista, armazenando cada \n",
        "# elemento na variavel nome_do_arquivo\n",
        "for nome_do_arquivo in lista_cbers_04a:\n",
        "  # zerar o contador de caracteres numericos\n",
        "  numericos = 0\n",
        "\n",
        "  # atravessar o nome da imagem, um\n",
        "  # caractere de cada vez\n",
        "  for caractere in nome_do_arquivo:\n",
        "    if caractere.isdigit():\n",
        "      # incrementar a cada vez que o caracter for numerico\n",
        "      numericos = numericos + 1\n",
        "\n",
        "  # imprimir o resultado da contagem para cada imagem\n",
        "  print(nome_do_arquivo, 'tem', numericos, 'caracteres numericos', 'e', \n",
        "        len(nome_do_arquivo) - numericos, 'caracteres nao numericos')"
      ],
      "execution_count": null,
      "outputs": [
        {
          "output_type": "stream",
          "text": [
            "CBERS_4A_WFI_20201019_230_124_L2_BAND13.tif tem 18 caracteres numericos e 25 caracteres nao numericos\n",
            "CBERS_4A_WFI_20201019_230_124_L2_BAND13.xml tem 18 caracteres numericos e 25 caracteres nao numericos\n",
            "CBERS_4A_WFI_20201019_230_124_L2_BAND14.tif tem 18 caracteres numericos e 25 caracteres nao numericos\n",
            "CBERS_4A_WFI_20201019_230_124_L2_BAND14.xml tem 18 caracteres numericos e 25 caracteres nao numericos\n",
            "CBERS_4A_WFI_20201019_230_124_L2_BAND15.tif tem 18 caracteres numericos e 25 caracteres nao numericos\n",
            "CBERS_4A_WFI_20201019_230_124_L2_BAND15.xml tem 18 caracteres numericos e 25 caracteres nao numericos\n",
            "CBERS_4A_WFI_20201019_230_124_L2_BAND16.tif tem 18 caracteres numericos e 25 caracteres nao numericos\n",
            "CBERS_4A_WFI_20201019_230_124_L2_BAND16.xml tem 18 caracteres numericos e 25 caracteres nao numericos\n"
          ],
          "name": "stdout"
        }
      ]
    },
    {
      "cell_type": "markdown",
      "metadata": {
        "id": "adLmm8MdeWrI"
      },
      "source": [
        "**(e)** percorra a lista de nomes, e indique quais são de imagens (final .tif) e quais são de metadados (final .xml)"
      ]
    },
    {
      "cell_type": "code",
      "metadata": {
        "colab": {
          "base_uri": "https://localhost:8080/"
        },
        "id": "MCQgwvhyejRC",
        "outputId": "51d4d1be-7e66-43c1-9744-7d16f6ad9b15"
      },
      "source": [
        "# atravessar a lista, armazenando cada \n",
        "# elemento na variavel nome_do_arquivo\n",
        "for nome_do_arquivo in lista_cbers_04a:\n",
        "  # verificar se a string '.tif' esta contida\n",
        "  # na string nome_do_arquivo\n",
        "  if '.tif' in nome_do_arquivo:\n",
        "    print(nome_do_arquivo, 'contem imagem')\n",
        "\n",
        "  # caso contrario, verificar se a string '.xml' \n",
        "  # esta contida na string nome_do_arquivo\n",
        "  elif '.xml' in nome_do_arquivo:\n",
        "    print(nome_do_arquivo, 'contem metadados')"
      ],
      "execution_count": null,
      "outputs": [
        {
          "output_type": "stream",
          "text": [
            "CBERS_4A_WFI_20201019_230_124_L2_BAND13.tif contem imagem\n",
            "CBERS_4A_WFI_20201019_230_124_L2_BAND13.xml contem metadados\n",
            "CBERS_4A_WFI_20201019_230_124_L2_BAND14.tif contem imagem\n",
            "CBERS_4A_WFI_20201019_230_124_L2_BAND14.xml contem metadados\n",
            "CBERS_4A_WFI_20201019_230_124_L2_BAND15.tif contem imagem\n",
            "CBERS_4A_WFI_20201019_230_124_L2_BAND15.xml contem metadados\n",
            "CBERS_4A_WFI_20201019_230_124_L2_BAND16.tif contem imagem\n",
            "CBERS_4A_WFI_20201019_230_124_L2_BAND16.xml contem metadados\n"
          ],
          "name": "stdout"
        }
      ]
    },
    {
      "cell_type": "code",
      "metadata": {
        "id": "gNA0P6dkirjz"
      },
      "source": [],
      "execution_count": null,
      "outputs": []
    }
  ]
}