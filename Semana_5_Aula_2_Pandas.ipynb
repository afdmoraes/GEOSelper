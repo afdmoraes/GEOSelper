{
  "nbformat": 4,
  "nbformat_minor": 0,
  "metadata": {
    "colab": {
      "provenance": [],
      "include_colab_link": true
    },
    "kernelspec": {
      "name": "python3",
      "display_name": "Python 3"
    }
  },
  "cells": [
    {
      "cell_type": "markdown",
      "metadata": {
        "id": "view-in-github",
        "colab_type": "text"
      },
      "source": [
        "<a href=\"https://colab.research.google.com/github/afdmoraes/GEOSelper/blob/main/Semana_5_Aula_2_Pandas.ipynb\" target=\"_parent\"><img src=\"https://colab.research.google.com/assets/colab-badge.svg\" alt=\"Open In Colab\"/></a>"
      ]
    },
    {
      "cell_type": "markdown",
      "metadata": {
        "id": "2FrUDDadsNzU"
      },
      "source": [
        "# Curso de Programação para Sensoriamento Remoto\n",
        "---\n",
        "\n",
        "* Gilberto Ribeiro de Queiroz\n",
        "* Thales Sehn Körting\n",
        "\n",
        "## Tópicos desta aula\n",
        "\n",
        "* Manipulação de dados com a biblioteca `Pandas`\n",
        "\n"
      ]
    },
    {
      "cell_type": "markdown",
      "metadata": {
        "id": "s7KVAkHCbkqN"
      },
      "source": [
        "# Introdução\n",
        "---"
      ]
    },
    {
      "cell_type": "markdown",
      "metadata": {
        "id": "BPxBhxn3_J3d"
      },
      "source": [
        "O `Pandas` fornece duas estruturas de dados básicas: `Series` e `DataFrame`, ambas apoiadas na estrutura `ndarray` da biblioteca `NumPy`. \n",
        "\n",
        "<br/>\n",
        "\n",
        "Um objeto do tipo `Series` representa um **vetor** (ou **array unidimensional**) capaz de armazenar qualquer tipo de dado, como números inteiros, strings ou objetos como data e hora.\n",
        "\n",
        "<br/>\n",
        "\n",
        "O segundo tipo de estrutura introduzido pelo `Pandas` é o `DataFrame`, que representa uma matriz bidimensional, mais parecida com uma tabela, com capacidade de lidar com tipos heterogêneos.\n",
        "\n",
        "<br/>\n",
        "\n",
        "Para essas estruturas, existem diversas operações de alto nível disponíveis, tais como: agregação de valores e visualização básica através da `Matplotlib`.\n",
        "\n",
        "<br/>\n",
        "\n",
        "A seguir, iremos aprender a carregar esta biblioteca e utilizar essas duas estruturas básicas para manipulação de dados."
      ]
    },
    {
      "cell_type": "markdown",
      "metadata": {
        "id": "8aUJMhngE8Bs"
      },
      "source": [
        "# Importando o Pandas\n",
        "---"
      ]
    },
    {
      "cell_type": "markdown",
      "metadata": {
        "id": "jj1mCRGBE_09"
      },
      "source": [
        "Por convenção importamos as funcionalidades do `Pandas` da seguinte forma:"
      ]
    },
    {
      "cell_type": "code",
      "metadata": {
        "id": "m79BiPwoFEDY"
      },
      "source": [
        "import pandas as pd"
      ],
      "execution_count": null,
      "outputs": []
    },
    {
      "cell_type": "markdown",
      "metadata": {
        "id": "Ptf5f3lD_uuq"
      },
      "source": [
        "# Séries\n",
        "---"
      ]
    },
    {
      "cell_type": "markdown",
      "metadata": {
        "id": "PBB-Fz0xFHlu"
      },
      "source": [
        "## Criando uma Série (`Series`)\n"
      ]
    },
    {
      "cell_type": "markdown",
      "metadata": {
        "id": "Nmh-ehiQFOnX"
      },
      "source": [
        "Uma `série` possui dois eixos (`axis`), um usado para rotular cada valor do vetor (**linhas**) e outro para rotular os valores da série (**colunas**). Os rótulos do `eixo-0` funcionam como um índice para os valores da série. O rótulo do `eixo-1` se refere à coluna com os valores da série.\n",
        "\n",
        "<br/>\n",
        "\n",
        "A tabela a seguir apresenta as características dessa estrutura de dados. Repare que há um eixo numérico na primeira coluna, com valores no intervalo `[0, 4]`, que forma a base de indexação dos valores da série (nomes de munícipio), e cuja coluna (`eixo-1`) possui um rótulo chamado `municipio`.\n",
        "\n",
        "<table style=\"border: 1px solid black\">   \n",
        "<tbody>\n",
        "<tr>\n",
        "<th style=\"text-align: center; border: 1px solid black; width=16%\"></th>\n",
        "<th style=\"text-align: center; border: 1px solid black; width=16%\">municipio</th>\n",
        "</tr>\n",
        "<tr>\n",
        "<td>0</td><td>Sítio Novo Do Tocantins</td>\n",
        "</tr>\n",
        "<tr>\n",
        "<td>1</td><td>Ouro Preto</td>\n",
        "</tr>\n",
        "<tr>\n",
        "<td>2</td><td>Mariana</td>\n",
        "</tr>\n",
        "<tr>\n",
        "<td>3</td><td>Araxá</td>\n",
        "</tr>\n",
        "<tr>\n",
        "<td>4</td><td>Belo Horizonte</td>\n",
        "</tr>\n",
        "</table>\n",
        "\n",
        "Para criar uma série semelhante à apresentada nessa tabela, podemos fazer:"
      ]
    },
    {
      "cell_type": "code",
      "metadata": {
        "id": "rvldb7A2Fw4f"
      },
      "source": [
        "dados = [\n",
        "    'Sítio Novo Do Tocantins',\n",
        "    'Ouro Preto',\n",
        "    'Mariana',\n",
        "    'Araxá',\n",
        "    'Belo Horizonte',\n",
        "]\n",
        "\n",
        "serie = pd.Series(data=dados, name='municipio')"
      ],
      "execution_count": null,
      "outputs": []
    },
    {
      "cell_type": "code",
      "metadata": {
        "id": "daFXkmzSF2pY"
      },
      "source": [
        "serie"
      ],
      "execution_count": null,
      "outputs": []
    },
    {
      "cell_type": "markdown",
      "metadata": {
        "id": "wpptguczGGkJ"
      },
      "source": [
        "Durante a criação da série, podemos indicar os valores dos índices (`eixo-0`). Por exemplo, se você quiser criar a série indexada por letras ao invés de números, podemos fornecer os índices da seguinte forma:"
      ]
    },
    {
      "cell_type": "code",
      "metadata": {
        "id": "B6izWch_GQnc"
      },
      "source": [
        "dados = [\n",
        "    'Sítio Novo Do Tocantins',\n",
        "    'Ouro Preto',\n",
        "    'Mariana',\n",
        "    'Araxá',\n",
        "    'Belo Horizonte',\n",
        "]\n",
        "\n",
        "indices = [ 'e', 'b', 'd', 'c', 'a' ]\n",
        "\n",
        "serie = pd.Series(data=dados, index=indices, name='Municipios')"
      ],
      "execution_count": null,
      "outputs": []
    },
    {
      "cell_type": "code",
      "metadata": {
        "id": "PFytqEM1GdWn"
      },
      "source": [
        "serie"
      ],
      "execution_count": null,
      "outputs": []
    },
    {
      "cell_type": "markdown",
      "metadata": {
        "id": "Rg8NFKRK_orr"
      },
      "source": [
        "## Selecionando Valores da Série"
      ]
    },
    {
      "cell_type": "markdown",
      "metadata": {
        "id": "NQ9Kig_b_2Uq"
      },
      "source": [
        "Podemos utilizar a função `head(n)` para obter `n` valores da série a partir do seu início:"
      ]
    },
    {
      "cell_type": "code",
      "metadata": {
        "id": "TCYdHyzc_7Nj"
      },
      "source": [
        "serie.head(2)"
      ],
      "execution_count": null,
      "outputs": []
    },
    {
      "cell_type": "markdown",
      "metadata": {
        "id": "OcXZJR59_-dt"
      },
      "source": [
        "A função `tail(n)` permite obter os `n` valores ao final da série:"
      ]
    },
    {
      "cell_type": "code",
      "metadata": {
        "id": "A1GrzIq6ABn8"
      },
      "source": [
        "serie.tail(2)"
      ],
      "execution_count": null,
      "outputs": []
    },
    {
      "cell_type": "markdown",
      "metadata": {
        "id": "__JWJrvXAFfJ"
      },
      "source": [
        "O `operador []` (operador de indexação) permite acessar elementos específicos, ou partes da série:"
      ]
    },
    {
      "cell_type": "code",
      "metadata": {
        "id": "AoX1pae_AIVZ"
      },
      "source": [
        "serie['a']"
      ],
      "execution_count": null,
      "outputs": []
    },
    {
      "cell_type": "code",
      "metadata": {
        "id": "_pQfUz38AM6j"
      },
      "source": [
        "serie[0:3]"
      ],
      "execution_count": null,
      "outputs": []
    },
    {
      "cell_type": "code",
      "metadata": {
        "id": "A885fMtrAO9D"
      },
      "source": [
        "serie[-2:]"
      ],
      "execution_count": null,
      "outputs": []
    },
    {
      "cell_type": "markdown",
      "metadata": {
        "id": "z5Ii-BbSATXG"
      },
      "source": [
        "O atributo `loc` permite acessar grupos de valores da série (linhas) através de rótulos ou por um *array* de valores lógicos:"
      ]
    },
    {
      "cell_type": "code",
      "metadata": {
        "id": "rdbUoKcWAXsX"
      },
      "source": [
        "serie.loc[ ['a','b'] ]"
      ],
      "execution_count": null,
      "outputs": []
    },
    {
      "cell_type": "code",
      "metadata": {
        "id": "HCoLhWwiAcb1"
      },
      "source": [
        "serie.loc[ [True, False, True, False, True] ]"
      ],
      "execution_count": null,
      "outputs": []
    },
    {
      "cell_type": "code",
      "metadata": {
        "id": "H02E-Sdqrb0U"
      },
      "source": [
        "serie"
      ],
      "execution_count": null,
      "outputs": []
    },
    {
      "cell_type": "markdown",
      "metadata": {
        "id": "ukx2exLrAgkV"
      },
      "source": [
        "A propriedade `iloc` permite a seleção dos valores da série de maneira posicional, isto é, utilizamos números inteiros para especificar uma ou mais linhas a serem selecionadas. De maneira semelhante à propriedade `loc`, aceita um *array* de valores lógicos para seleção:"
      ]
    },
    {
      "cell_type": "code",
      "metadata": {
        "id": "DCLqsSkuAlu9"
      },
      "source": [
        "serie.iloc[ [1, 3] ]"
      ],
      "execution_count": null,
      "outputs": []
    },
    {
      "cell_type": "markdown",
      "metadata": {
        "id": "6E-kU_plAtL7"
      },
      "source": [
        "## Acessando a Estrutura de uma Série"
      ]
    },
    {
      "cell_type": "markdown",
      "metadata": {
        "id": "9cPPa0lrAuis"
      },
      "source": [
        "Para acessar o eixo dos rótulos associados aos valores da série, utiliza-se o atributo `index`:"
      ]
    },
    {
      "cell_type": "code",
      "metadata": {
        "id": "gfBxLCp8AyDi"
      },
      "source": [
        "serie.index"
      ],
      "execution_count": null,
      "outputs": []
    },
    {
      "cell_type": "markdown",
      "metadata": {
        "id": "hEEibL_pAzbl"
      },
      "source": [
        "Os valores da série podem ser acessados na forma de um `ndarray` do `NumPy` através do atributo `values`:"
      ]
    },
    {
      "cell_type": "code",
      "metadata": {
        "id": "BSDcRYq8A4fS"
      },
      "source": [
        "serie.values"
      ],
      "execution_count": null,
      "outputs": []
    },
    {
      "cell_type": "code",
      "metadata": {
        "id": "DTWChHrhA8Zb"
      },
      "source": [
        "type(serie.values)"
      ],
      "execution_count": null,
      "outputs": []
    },
    {
      "cell_type": "markdown",
      "metadata": {
        "id": "Atu5pqpzBFDa"
      },
      "source": [
        "## Ordenando os Valores de uma Série"
      ]
    },
    {
      "cell_type": "markdown",
      "metadata": {
        "id": "ddCIdS3RBHRR"
      },
      "source": [
        "Podemos ordenar a série pelos seus valores através da operação `sort_values`:"
      ]
    },
    {
      "cell_type": "code",
      "metadata": {
        "id": "EZCes5s7BJ49"
      },
      "source": [
        "serie.sort_values(ascending=True)"
      ],
      "execution_count": null,
      "outputs": []
    },
    {
      "cell_type": "markdown",
      "metadata": {
        "id": "YTv2MaWlBN2w"
      },
      "source": [
        "Ou, podemos ordenar a série pelos rótulos do índice dos valores:"
      ]
    },
    {
      "cell_type": "code",
      "metadata": {
        "id": "zuaAOxVVBQ2l"
      },
      "source": [
        "serie.sort_index()"
      ],
      "execution_count": null,
      "outputs": []
    },
    {
      "cell_type": "markdown",
      "metadata": {
        "id": "JIcA6ZIIBLFB"
      },
      "source": [
        "**Atenção:** as duas operações acima criam novas séries ordenadas. Para alterar a própria série, sem criar uma cópia, é necessário utilizar o parâmetro `inplace`:"
      ]
    },
    {
      "cell_type": "code",
      "metadata": {
        "id": "_K0Lcu3LCIp5"
      },
      "source": [
        "serie.sort_values(ascending=True, inplace=True)"
      ],
      "execution_count": null,
      "outputs": []
    },
    {
      "cell_type": "code",
      "metadata": {
        "id": "vxIBvI2XCL8E"
      },
      "source": [
        "serie"
      ],
      "execution_count": null,
      "outputs": []
    },
    {
      "cell_type": "markdown",
      "metadata": {
        "id": "wIwHFUsZCNwM"
      },
      "source": [
        "## Plotando uma Série"
      ]
    },
    {
      "cell_type": "markdown",
      "metadata": {
        "id": "G9-BSgqPCUwj"
      },
      "source": [
        "Podemos construir gráficos rapidamente a partir das séries. O tipo `Series` possui uma operação geral denominada `plot`. O trecho de código abaixo mostra como utilizar esta operação para apresentar um gráfico de barras com o número de focos de incêndio na vegetação ao longo do período de 2008 a 2017."
      ]
    },
    {
      "cell_type": "code",
      "metadata": {
        "id": "T9RanbryCcxB"
      },
      "source": [
        "ano = [ 2008, 2009, 2010, 2011, 2012, 2013, 2014, 2015, 2016, 2017 ]\n",
        "\n",
        "num_focos = [ 123, 123, 249, 133, 194, 115, 183, 236, 188, 260 ]\n",
        "\n",
        "serie_focos = pd.Series(data=num_focos, index=ano, name='#Focos x Ano')"
      ],
      "execution_count": null,
      "outputs": []
    },
    {
      "cell_type": "code",
      "metadata": {
        "id": "YT39t-5zCiUc"
      },
      "source": [
        "serie_focos"
      ],
      "execution_count": null,
      "outputs": []
    },
    {
      "cell_type": "code",
      "metadata": {
        "id": "H_NXcIV8CnSX"
      },
      "source": [
        "%matplotlib inline\n",
        "\n",
        "import matplotlib.pyplot as plt\n",
        "\n",
        "serie_focos.plot.bar()"
      ],
      "execution_count": null,
      "outputs": []
    },
    {
      "cell_type": "markdown",
      "metadata": {
        "id": "g7KWbWkpCp7z"
      },
      "source": [
        "Por padrão, o ``Pandas`` utiliza a ``Matplotlib`` para gerar os gráficos. No entanto, é possível utilizar outras bibliotecas.\n",
        "\n",
        "<br/>\n",
        "\n",
        "Consulte [aqui](https://pandas.pydata.org/docs/reference/series.html#plotting>) outras opções de construção de gráficos a partir de uma série.\n",
        "\n",
        "\n",
        "<br/>\n",
        "\n",
        "Para saber as demais propriedades e operações disponíveis para a estrutura ``Series``, consulte a seguinte documentação: [pandas.Series](https://pandas.pydata.org/docs/reference/api/pandas.Series.html)."
      ]
    },
    {
      "cell_type": "markdown",
      "metadata": {
        "id": "hNM8vQ8nD9Ot"
      },
      "source": [
        "# DataFrame\n",
        "---"
      ]
    },
    {
      "cell_type": "markdown",
      "metadata": {
        "id": "SI1Az3-iE1xN"
      },
      "source": [
        "## Criando um `DataFrame`"
      ]
    },
    {
      "cell_type": "markdown",
      "metadata": {
        "id": "FNiAf_K_EBbJ"
      },
      "source": [
        "O segundo tipo de estrutura introduzido pelo `Pandas` é o `DataFrame`, que representa uma matriz bidimensional, mais parecida com uma tabela, com capacidade de lidar com tipos heterogêneos, conforme mostrado na tabela abaixo.\n",
        "\n",
        "<br/>\n",
        "\n",
        "|   |  municipio              | estado    | regiao | pais   | satelite | bioma    | timestamp           | satelite_r |\n",
        "|---|-------------------------|-----------|--------|--------|----------|---------|---------------------|-------------|\n",
        "| 0 | Sítio Novo Do Tocantins | Tocantins | N      | Brazil | NPP_375  | Cerrado  | 2016/02/12 17:05:45 | f          |\n",
        "| 1 | Sítio Novo Do Tocantins | Tocantins | N      | Brazil | NPP_375  | Cerrado  | 2016/07/17 04:00:00 | f          |\n",
        "| 2 | Altamira                | Pará      | N      | Brazil | AQUA_M-T | Amazonia | 2016/01/15 16:40:14 | t          |\n",
        "| 3 | Altamira                | Pará      | N      | Brazil | NPP_375  | Amazonia | 2016/01/15 16:40:14 | t          |\n",
        "| 4 | Sítio Novo Do Tocantins | Tocantins | N      | Brazil | NPP_375  | Cerrado  | 2016/02/12 17:05:45 | f          |\n",
        "\n",
        "<br/>\n",
        "\n",
        "Essa estrutura possui eixos rotulados (linhas e colunas). O `eixo-0`, dos índices, refere-se à primeira coluna, com os rótulos no intervalo `[0, 4]`. Esses valores podem ser usados para acessar os elementos de cada linha. O `eixo-1`, das colunas, possui os rótulos: `municipio`, `estado`, `regiao`, `pais`, `satelite`, `bioma`, `timestamp` e `satelite_r`. Os rótulos do `eixo-1` se referem à identificação das séries das colunas.\n",
        "\n",
        "<br/>\n",
        "\n",
        "Para compreender a estrutura de um `DataFrame`, vamos criar um, baseando-se nos dados da tabela acima. Iremos omitir algumas colunas dessa tabela de propósito, para que possamos acrescentá-las mais adiante.\n"
      ]
    },
    {
      "cell_type": "code",
      "metadata": {
        "id": "0RnRLD-mEWWv"
      },
      "source": [
        "municipios = [ 'Sítio Novo Do Tocantins', 'Sítio Novo Do Tocantins', 'Altamira', 'Altamira', 'Sítio Novo Do Tocantins' ]\n",
        "\n",
        "estados = [ 'Tocantins', 'Tocantins', 'Pará', 'Pará', 'Tocantins' ]\n",
        "\n",
        "satelites = [ 'NPP_375', 'NPP_375', 'AQUA_M-T', 'NPP_375', 'NPP_375' ]\n",
        "\n",
        "biomas = [ 'Cerrado', 'Cerrado', 'Amazônia', 'Amazônia', 'Cerrado' ]\n",
        "\n",
        "timestamp = [ '2016/02/12 17:05:45', '2016/07/17 04:00:00', '2016/01/15 16:40:14', '2016/01/15 16:40:14', '2016/02/12 17:05:45' ]\n",
        "\n",
        "satelites_r = [ False, False, True, False, False ]"
      ],
      "execution_count": null,
      "outputs": []
    },
    {
      "cell_type": "code",
      "metadata": {
        "id": "9I13_ObTEa5P"
      },
      "source": [
        "dados = {\n",
        "    'municipio': municipios,\n",
        "    'estado': estados,\n",
        "    'satelite': satelites,\n",
        "    'bioma': biomas,\n",
        "    'timestamp': timestamp,\n",
        "    'satelite_r': satelites_r\n",
        "}"
      ],
      "execution_count": null,
      "outputs": []
    },
    {
      "cell_type": "code",
      "metadata": {
        "id": "v2HxN4GkEe6c"
      },
      "source": [
        "df = pd.DataFrame( data=dados )"
      ],
      "execution_count": null,
      "outputs": []
    },
    {
      "cell_type": "code",
      "metadata": {
        "id": "wtfga15PP0E9"
      },
      "source": [
        "df"
      ],
      "execution_count": null,
      "outputs": []
    },
    {
      "cell_type": "markdown",
      "metadata": {
        "id": "3GzP8-AWEhsJ"
      },
      "source": [
        "## Selecionando Colunas de um `DataFrame`"
      ]
    },
    {
      "cell_type": "markdown",
      "metadata": {
        "id": "3aD5irWtScn7"
      },
      "source": [
        "Para selecionar os valores da primeira coluna, rotulada com a string `municipio`, podemos utilizar o `operador []` (operador de indexação) como mostrado abaixo:\n"
      ]
    },
    {
      "cell_type": "code",
      "metadata": {
        "id": "EfOkxhqqSgGF"
      },
      "source": [
        "df['municipio']"
      ],
      "execution_count": null,
      "outputs": []
    },
    {
      "cell_type": "markdown",
      "metadata": {
        "id": "EEjKmrVxSj7O"
      },
      "source": [
        "A mesma seleção pode ser realizada com o uso do operador `.`:"
      ]
    },
    {
      "cell_type": "code",
      "metadata": {
        "id": "-BtQRWHZSmjp"
      },
      "source": [
        "df.municipio"
      ],
      "execution_count": null,
      "outputs": []
    },
    {
      "cell_type": "markdown",
      "metadata": {
        "id": "37nxa7DQSpte"
      },
      "source": [
        "Múltiplas colunas podem ser selecionadas. Podemos usar uma lista para especificar os rótulos das colunas desejada na seleção:\n"
      ]
    },
    {
      "cell_type": "code",
      "metadata": {
        "id": "9s3xB0VHSt3c"
      },
      "source": [
        "df[ ['municipio', 'satelite' ] ]"
      ],
      "execution_count": null,
      "outputs": []
    },
    {
      "cell_type": "markdown",
      "metadata": {
        "id": "xF-pLUUaSyPm"
      },
      "source": [
        "Podemos usar o método `filter` para selecionar colunas, tendo como base seus nomes ou rótulos:"
      ]
    },
    {
      "cell_type": "code",
      "metadata": {
        "id": "V9sSZ5waS1c_"
      },
      "source": [
        "df.filter(like='sat')"
      ],
      "execution_count": null,
      "outputs": []
    },
    {
      "cell_type": "markdown",
      "metadata": {
        "id": "0f1Z7EpfS55Q"
      },
      "source": [
        "## Acessando a Estrutura de um `DataFrame`"
      ]
    },
    {
      "cell_type": "markdown",
      "metadata": {
        "id": "Td7_ZX7QS7mB"
      },
      "source": [
        "Para acessar os índices ou rótulos das linhas, podemos utilizar a propriedade `index`:"
      ]
    },
    {
      "cell_type": "code",
      "metadata": {
        "id": "ResEHIbdS_V2"
      },
      "source": [
        "df.index"
      ],
      "execution_count": null,
      "outputs": []
    },
    {
      "cell_type": "markdown",
      "metadata": {
        "id": "FQRvzBoqTBdG"
      },
      "source": [
        "Os rótulos das colunas podem ser recuperados através da propriedade `columns`:"
      ]
    },
    {
      "cell_type": "code",
      "metadata": {
        "id": "rKSJw_W1TDdv"
      },
      "source": [
        "df.columns"
      ],
      "execution_count": null,
      "outputs": []
    },
    {
      "cell_type": "markdown",
      "metadata": {
        "id": "qD5696mhTE5b"
      },
      "source": [
        "**Atenção:** Existe uma operação chamada `keys()` que retorna esse mesmo objeto ``Index``.\n",
        "\n",
        "<br/>\n",
        "O atributo `values` retorna uma representação `numpy.ndarray`, conforme podemos ver no exemplo abaixo:\n"
      ]
    },
    {
      "cell_type": "code",
      "metadata": {
        "id": "0uVZ1-D-TJXO"
      },
      "source": [
        "df.values"
      ],
      "execution_count": null,
      "outputs": []
    },
    {
      "cell_type": "markdown",
      "metadata": {
        "id": "jjJkxW7VTfcl"
      },
      "source": [
        "**Atenção:** O [documento de referência](https://pandas.pydata.org/docs/reference/api/pandas.DataFrame.values.html#pandas.DataFrame.values) do `Pandas` recomenda o uso da operação `to_numpy()` ao invés da propriedade `values`.\n",
        "\n",
        "<br/>\n",
        "\n",
        "O atributo `axes` retorna uma lista com os índices dos eixos do `DataFrame`:"
      ]
    },
    {
      "cell_type": "code",
      "metadata": {
        "id": "k6mxyWTGT4L-"
      },
      "source": [
        "df.axes"
      ],
      "execution_count": null,
      "outputs": []
    },
    {
      "cell_type": "markdown",
      "metadata": {
        "id": "BGND7dk2T7Yq"
      },
      "source": [
        "Podemos recuperar uma série com os tipos de dados de cada coluna. Nessa série, os índices serão os nomes das colunas e os valores, os tipos de dados de cada coluna:"
      ]
    },
    {
      "cell_type": "code",
      "metadata": {
        "id": "lkjuZVTWT_Fz"
      },
      "source": [
        "df.dtypes"
      ],
      "execution_count": null,
      "outputs": []
    },
    {
      "cell_type": "markdown",
      "metadata": {
        "id": "P8PvLM-HUJ3S"
      },
      "source": [
        "As dimensões do `DataFrame` podem ser obtidas através da propriedade `shape`:"
      ]
    },
    {
      "cell_type": "code",
      "metadata": {
        "id": "HCmNTWsEURpQ"
      },
      "source": [
        "df.shape"
      ],
      "execution_count": null,
      "outputs": []
    },
    {
      "cell_type": "markdown",
      "metadata": {
        "id": "kmkQi1c1UUbg"
      },
      "source": [
        "## Selecionando Valores do `DataFrame`"
      ]
    },
    {
      "cell_type": "markdown",
      "metadata": {
        "id": "0mZu-2Y4Ud9Y"
      },
      "source": [
        "A operação `head` permite obter valores do `DataFrame` a partir do seu início:"
      ]
    },
    {
      "cell_type": "code",
      "metadata": {
        "id": "bCcfVxuYUcJK"
      },
      "source": [
        "df.head(2)"
      ],
      "execution_count": null,
      "outputs": []
    },
    {
      "cell_type": "markdown",
      "metadata": {
        "id": "QGwvL3xaUiY6"
      },
      "source": [
        "A operação `tail` obtém valores ao final do `DataFrame`:"
      ]
    },
    {
      "cell_type": "code",
      "metadata": {
        "id": "KlscooiPUkkY"
      },
      "source": [
        "df.tail(2)"
      ],
      "execution_count": null,
      "outputs": []
    },
    {
      "cell_type": "markdown",
      "metadata": {
        "id": "xVFu-w8nUnOM"
      },
      "source": [
        "Assim como na estrutura `Series`, podemos utilizar as propriedades `iloc` e `loc` para acessar grupos de linhas e colunas.\n",
        "\n",
        "<br/>\n",
        "\n",
        "O trecho de código abaixo utiliza a propriedade `loc` para recuperar os valores compreendidos entre as linhas `1` e `3`, considerando apenas as colunas `satelite` e `timestamp`:"
      ]
    },
    {
      "cell_type": "code",
      "metadata": {
        "id": "cIdQslALUrb9"
      },
      "source": [
        "df.loc[ 1:3,  [ 'satelite', 'timestamp' ] ]"
      ],
      "execution_count": null,
      "outputs": []
    },
    {
      "cell_type": "markdown",
      "metadata": {
        "id": "xAWux3EaU98Q"
      },
      "source": [
        "**Atenção:** A propriedade `loc` utiliza os índices ou rótulos dos eixos das linhas e colunas como forma de endereçamento dos elementos. Já o operador `iloc` utiliza números inteiros correspondentes à posição dos eixos (linhas e colunas). No exemplo de `DataFrame` usado, os índices (rótulos) das linhas são números inteiros sequenciais e logo não há diferença na forma de acesso entre `loc` e `iloc` quando nos referimos às linhas desse exemplo. No entanto, para o eixo das colunas, temos diferença, conforme será visto abaixo."
      ]
    },
    {
      "cell_type": "markdown",
      "metadata": {
        "id": "W6P3ViqEVKMm"
      },
      "source": [
        "Também podemos utilizar um *array* de valores lógicos nas propriedades `loc` e `iloc`. O trecho de código abaixo seleciona linhas alternadas do `DataFrame`:"
      ]
    },
    {
      "cell_type": "code",
      "metadata": {
        "id": "2B4JgN-FVPOU"
      },
      "source": [
        "df.loc[ [True, False, True, False, True], 'satelite':'timestamp' ]"
      ],
      "execution_count": null,
      "outputs": []
    },
    {
      "cell_type": "markdown",
      "metadata": {
        "id": "v7hf-QqxVRtw"
      },
      "source": [
        "A propriedade `iloc` permite a seleção dos valores da série de maneira posicional, isto é, utilizamos números inteiros para especificar uma ou mais linhas e colunas a serem selecionadas. De maneira semelhante à propriedade ``loc``, aceita um *array* de valores lógicos para seleção:"
      ]
    },
    {
      "cell_type": "code",
      "metadata": {
        "id": "Mb5VBIgoVZVI"
      },
      "source": [
        "df.iloc[ [True, False, True, False, True], 2:5 ]"
      ],
      "execution_count": null,
      "outputs": []
    },
    {
      "cell_type": "markdown",
      "metadata": {
        "id": "BP0fbv4fVcpV"
      },
      "source": [
        "**Atenção:** Repare no exemplo acima que utilizamos um intervalo numérico (`2:5`) para definir as colunas que fariam parte do *slice* consultado."
      ]
    },
    {
      "cell_type": "markdown",
      "metadata": {
        "id": "tUWcFXWOVpqF"
      },
      "source": [
        "## Iterando nas colunas e linhas de um `DataFrame`"
      ]
    },
    {
      "cell_type": "markdown",
      "metadata": {
        "id": "N1PosVi8VtkS"
      },
      "source": [
        "A operação `items` permite iterarmos nos conjuntos de valores de cada coluna, como se fossem uma série individual:"
      ]
    },
    {
      "cell_type": "code",
      "metadata": {
        "id": "FWFy3vbaVwzT"
      },
      "source": [
        "for rotulo, serie in df.items():\n",
        "    print(f'Série da Coluna: {rotulo}')\n",
        "    print(serie)\n",
        "    print('--------\\n')"
      ],
      "execution_count": null,
      "outputs": []
    },
    {
      "cell_type": "markdown",
      "metadata": {
        "id": "ZdezdL5JV-GG"
      },
      "source": [
        "O operador `iterrows()` permite iterarmos nas linhas do `DataFrame` como se fossem uma série:"
      ]
    },
    {
      "cell_type": "code",
      "metadata": {
        "id": "lii_xBDYWBlu"
      },
      "source": [
        "for index, row in df.iterrows():\n",
        "    print(f'Série da Linha: {index}')\n",
        "    print(row)\n",
        "    print('--------')"
      ],
      "execution_count": null,
      "outputs": []
    },
    {
      "cell_type": "markdown",
      "metadata": {
        "id": "TA3zMWmhWGFS"
      },
      "source": [
        "Uma forma melhor de iterar nas linhas é através da operação `itertuples`:"
      ]
    },
    {
      "cell_type": "code",
      "metadata": {
        "id": "RmYmpZ7NWHiZ"
      },
      "source": [
        "for row in df.itertuples():\n",
        "    print(row)"
      ],
      "execution_count": null,
      "outputs": []
    },
    {
      "cell_type": "markdown",
      "metadata": {
        "id": "Uss7ZdeYWKuC"
      },
      "source": [
        "**Atenção:** Repare que o índice da linha aparece como primeiro atributo da tupla retornada. Se informarmos o argumento `index=False` na operação `itertuples`, esse elemento será suprimido do resultado.\n",
        "\n",
        "<br/>\n",
        "\n",
        "**Atenção:** O parâmetro `name` pode ser usado para controlar o nome da tupla retornada, que por padrão utiliza o nome `Pandas`."
      ]
    },
    {
      "cell_type": "markdown",
      "metadata": {
        "id": "Zw0HNknmWuFM"
      },
      "source": [
        "## Construindo máscaras booleanas para seleção de linhas"
      ]
    },
    {
      "cell_type": "markdown",
      "metadata": {
        "id": "G9888YtbWwIb"
      },
      "source": [
        "Uma técnica útil para construir uma máscara de valores booleanos é utilizar expressões que retornem séries com valores booleanos:"
      ]
    },
    {
      "cell_type": "code",
      "metadata": {
        "id": "uPCcphm3xPnv"
      },
      "source": [
        "df"
      ],
      "execution_count": null,
      "outputs": []
    },
    {
      "cell_type": "code",
      "metadata": {
        "id": "dC4fDP25Wz9n"
      },
      "source": [
        "df['timestamp'] > '2016/02/02'"
      ],
      "execution_count": null,
      "outputs": []
    },
    {
      "cell_type": "markdown",
      "metadata": {
        "id": "XoNbKDElW4wZ"
      },
      "source": [
        "Podemos usar uma expressão semelhante para selecionar as linhas de um `DataFrame`:"
      ]
    },
    {
      "cell_type": "code",
      "metadata": {
        "id": "ljfr-twmW76g"
      },
      "source": [
        "df[ df.timestamp > '2016/02/02' ]"
      ],
      "execution_count": null,
      "outputs": []
    },
    {
      "cell_type": "markdown",
      "metadata": {
        "id": "Rb0jLc-bXIPa"
      },
      "source": [
        "**Atenção:** Para saber as demais propriedades e operações disponíveis para a estrutura `DataFrame`, consulte a seguinte documentação: [pandas.DataFrame](https://pandas.pydata.org/docs/reference/frame.html).\n"
      ]
    },
    {
      "cell_type": "markdown",
      "metadata": {
        "id": "h3DN24-0XPV4"
      },
      "source": [
        "# Leitura de Arquivos CSV\n",
        "---"
      ]
    },
    {
      "cell_type": "markdown",
      "metadata": {
        "id": "ja0-NbdjXUW1"
      },
      "source": [
        "**Atenção:** Copie o arquivo [defpatterns.missing.csv](https://drive.google.com/file/d/19WW_kstQ_7rXpaItijqNPUR_sAunOkhO/view?usp=sharing) para a pasta de dados do seu colab.\n",
        "\n",
        "<br/>\n",
        "\n",
        "Para abrir um arquivo `CSV` basta utilizar a função `read_csv`:"
      ]
    },
    {
      "cell_type": "code",
      "metadata": {
        "id": "jmJ_zGp0XWoE"
      },
      "source": [
        "patterns = pd.read_csv('./defpatterns.missing.csv')"
      ],
      "execution_count": null,
      "outputs": []
    },
    {
      "cell_type": "code",
      "metadata": {
        "id": "c7cUQIzCalPr"
      },
      "source": [
        "patterns"
      ],
      "execution_count": null,
      "outputs": []
    },
    {
      "cell_type": "markdown",
      "metadata": {
        "id": "39o_iH3hZ-p7"
      },
      "source": [
        "**Atenção:** O `Pandas` fornece diversas funções de entrada/saída. Consulte o seguinte documento para maiores informações: [Input/output](https://pandas.pydata.org/docs/reference/io.html)."
      ]
    },
    {
      "cell_type": "markdown",
      "metadata": {
        "id": "JgGKIOZOaAL0"
      },
      "source": [
        "# Análise de Dados com o Pandas\n",
        "---"
      ]
    },
    {
      "cell_type": "markdown",
      "metadata": {
        "id": "ROlJUeBWaEib"
      },
      "source": [
        "Vamos começar nossa análise, do conjunto de dados lido do arquivo `defpatterns.missing.csv`, por uma estatística descritiva:"
      ]
    },
    {
      "cell_type": "code",
      "metadata": {
        "id": "2_Abn64daInx"
      },
      "source": [
        "patterns.describe()"
      ],
      "execution_count": null,
      "outputs": []
    },
    {
      "cell_type": "markdown",
      "metadata": {
        "id": "ZV-JR10laJGQ"
      },
      "source": [
        "A operação `describe` apresenta um sumário do conjunto de dados do `DataFrame`, mostrando sua tendência central, dispersão e forma. Essa operação cosidera apenas valores numéricos ou que possam ser transformados em valores numéricos, excluindo valores que não possam ser convertidos para números válidos. Veja que as colunas `object_id0` e `padrao` não foram consideradas pela operação. Além disso, existe um valor especial chamado `NaN` (`Not-a-Number`) que indica a ausência de valor naquela célula.\n",
        "\n",
        "<br/>\n",
        "\n",
        "Na saída mostrada na célula acima, podemos ver que o resultado da operação `describe` inclui um sumário por coluna:\n",
        "\n",
        "- `count`: Número de elementos da coluna com valores diferentes de `NaN`.\n",
        "\n",
        "- `mean`: Média dos valores nas colunas.\n",
        "\n",
        "- `std`: Desvio padrão dos valores nas colunas.\n",
        "\n",
        "- `min`: Valor mínimo na coluna.\n",
        "\n",
        "- `max`: Valor máximo na coluna.\n",
        "\n",
        "- `percentis`: primeiro quartil (25% das observações abaixo e 75% acima), segundo quartil (mediana, deixa 50% das observações abaixo e 50% das observações acima) e terceiro quartil (75% das observações abaixo e 25% acima)."
      ]
    },
    {
      "cell_type": "markdown",
      "metadata": {
        "id": "k1BTiWoSawmE"
      },
      "source": [
        "## Questões para análise"
      ]
    },
    {
      "cell_type": "markdown",
      "metadata": {
        "id": "t6zQlxaRay-T"
      },
      "source": [
        "**Q1.** Quantos valores diferentes existem em cada coluna do `DataFrame`?"
      ]
    },
    {
      "cell_type": "code",
      "metadata": {
        "id": "meX6bw_wa2cq"
      },
      "source": [
        "patterns.nunique()"
      ],
      "execution_count": null,
      "outputs": []
    },
    {
      "cell_type": "markdown",
      "metadata": {
        "id": "nrUDSTa0bVih"
      },
      "source": [
        "A operação `nunique` conta o número de observações distintas e retorna uma série com essa contagem. Por padrão, a contagem é realizada ao longo do eixo das linhas (`axis=0` ou índice), como mostrado na saída acima. Podemos realizar a contagem no eixo da colunas usando o argumento `axis=1`."
      ]
    },
    {
      "cell_type": "markdown",
      "metadata": {
        "id": "fXt50z_IbuN7"
      },
      "source": [
        "---\n",
        "**Q2.** Quantos valores diferentes existem para a coluna `padrao`?    "
      ]
    },
    {
      "cell_type": "code",
      "metadata": {
        "id": "rh_YDuHPbyX5"
      },
      "source": [
        "patterns['padrao'].nunique()"
      ],
      "execution_count": null,
      "outputs": []
    },
    {
      "cell_type": "markdown",
      "metadata": {
        "id": "irxK95Rlb4es"
      },
      "source": [
        "Para obter os valores únicos podemos utilizar a operação `unique` como mostrado abaixo:"
      ]
    },
    {
      "cell_type": "code",
      "metadata": {
        "id": "PMvkc1KWb9rG"
      },
      "source": [
        "patterns['padrao'].unique()"
      ],
      "execution_count": null,
      "outputs": []
    },
    {
      "cell_type": "markdown",
      "metadata": {
        "id": "ejzc7K30cClA"
      },
      "source": [
        "---\n",
        "**Q3.** Quantas linhas de cada `padrao` existem no `DataFrame`?\n",
        "\n",
        "<br/>\n",
        "\n",
        "Nesse caso, precisamos realizar uma operação que agrupe as linha pelos valores da coluna `padrao` e então relize a contagem. O trecho de código abaixo utiliza o operador `groupby` para retornar um objeto que contém informação sobre grupos. Esse objeto é associado ao identificador `grupo_linhas`."
      ]
    },
    {
      "cell_type": "code",
      "metadata": {
        "id": "2m5V0U7QcE5j"
      },
      "source": [
        "grupo_linhas = patterns.groupby(by='padrao')\n",
        "\n",
        "grupo_linhas.count()"
      ],
      "execution_count": null,
      "outputs": []
    },
    {
      "cell_type": "markdown",
      "metadata": {
        "id": "a-CtLpkVcRU-"
      },
      "source": [
        "Se você estiver interessado na contagem apenas de uma das colunas, pode usar a seguinte estratégia:"
      ]
    },
    {
      "cell_type": "code",
      "metadata": {
        "id": "8ydJnaLOcY8L"
      },
      "source": [
        "grupo_linhas['padrao'].count()"
      ],
      "execution_count": null,
      "outputs": []
    },
    {
      "cell_type": "markdown",
      "metadata": {
        "id": "3lWJclOYcbRi"
      },
      "source": [
        "Ou até mesmo usar a operação `value_counts` do tipo `Series`, como mostrado abaixo:"
      ]
    },
    {
      "cell_type": "code",
      "metadata": {
        "id": "H15fBpCxciKc"
      },
      "source": [
        "patterns['padrao'].value_counts()"
      ],
      "execution_count": null,
      "outputs": []
    },
    {
      "cell_type": "markdown",
      "metadata": {
        "id": "kLgrQXMVcjsB"
      },
      "source": [
        "A operação `value_counts` retorna uma série em ordem descendente, de maneira que o primeiro elemento é o que ocorre com maior frequência.\n",
        "\n",
        "<br/>\n",
        "\n",
        "Para maiores informações sobre operações com objetos do tipo `GroupBy`, consulte a [seguinte documentação](https://pandas.pydata.org/docs/reference/groupby.html)."
      ]
    },
    {
      "cell_type": "markdown",
      "metadata": {
        "id": "VjBqdusyc1Jy"
      },
      "source": [
        "---\n",
        "**Q4.** Apresentar um gráfico de barras com a contagem de cada padrão:"
      ]
    },
    {
      "cell_type": "code",
      "metadata": {
        "id": "IyoLpsSWc3uM"
      },
      "source": [
        "%matplotlib inline\n",
        "\n",
        "import matplotlib.pyplot as plt\n",
        "\n",
        "contagem = grupo_linhas['padrao'].count()\n",
        "\n",
        "contagem.plot(kind='bar');"
      ],
      "execution_count": null,
      "outputs": []
    },
    {
      "cell_type": "markdown",
      "metadata": {
        "id": "btrRGr3AdQ6p"
      },
      "source": [
        "No trecho de código acima usamos o `operador []` para selecionar uma única coluna, o que resulta em um objeto do tipo `Series`:"
      ]
    },
    {
      "cell_type": "code",
      "metadata": {
        "id": "rTBmSaStdWPz"
      },
      "source": [
        "type(patterns['c_PSMetric'])"
      ],
      "execution_count": null,
      "outputs": []
    },
    {
      "cell_type": "markdown",
      "metadata": {
        "id": "UgAJ8hTac9Hn"
      },
      "source": [
        "---\n",
        "**Q5.** Qual é o valor mínimo em cada coluna?\n",
        "\n",
        "<br/>\n",
        "\n",
        "A operação `min` aplicada a um `DataFrame` computa o valor mínimo para cada coluna:"
      ]
    },
    {
      "cell_type": "code",
      "metadata": {
        "id": "ReDjahdHdHd_"
      },
      "source": [
        "patterns.min()"
      ],
      "execution_count": null,
      "outputs": []
    },
    {
      "cell_type": "markdown",
      "metadata": {
        "id": "ihQ9M3UDdIui"
      },
      "source": [
        "Se quisermos computar o valor mínimo para uma coluna específica, como por exemplo a coluna `c_PSMetric`, podemos fazer uma seleção e, então utilizar a operação `min` como mostrado abaixo:"
      ]
    },
    {
      "cell_type": "code",
      "metadata": {
        "id": "Ce_-P5N7dN80"
      },
      "source": [
        "patterns['c_PSMetric'].min()"
      ],
      "execution_count": null,
      "outputs": []
    },
    {
      "cell_type": "markdown",
      "metadata": {
        "id": "OYYup5CzWpAe"
      },
      "source": [
        "-----------\n",
        "**Q6.** Qual o valor minímo de cada coluna desconsiderando as linhas com valores de `c_PSMetric` diferentes de zero?"
      ]
    },
    {
      "cell_type": "code",
      "metadata": {
        "id": "SCpQLFkOd2Sh"
      },
      "source": [
        "patterns[ patterns.c_PSMetric != 0 ].min()"
      ],
      "execution_count": null,
      "outputs": []
    },
    {
      "cell_type": "markdown",
      "metadata": {
        "id": "f7MCbk9Bd9Nm"
      },
      "source": [
        "Se estivéssemos interessados no valor mínimo apenas da coluna `c_PSMetric` considerando valores diferentes de zero, poderíamos usar a seguinte construção:"
      ]
    },
    {
      "cell_type": "code",
      "metadata": {
        "id": "4YnT7qzteAzs"
      },
      "source": [
        "patterns[ patterns.c_PSMetric != 0 ]['c_PSMetric'].min()"
      ],
      "execution_count": null,
      "outputs": []
    },
    {
      "cell_type": "markdown",
      "metadata": {
        "id": "i2E-SgIOeO0G"
      },
      "source": [
        "---\n",
        "**Q7.** Quantos valores estão faltando em cada coluna?\n",
        "\n",
        "<br/>\n",
        "\n",
        "Os métodos `isnull` e `notnull` das estruturas de dados do `Pandas` possibilitam trabalhar a ocorrência de valores nulos. Essas duas operações retornam uma máscara booleana, como pode ser visto na saída dos comandos abaixo:"
      ]
    },
    {
      "cell_type": "code",
      "metadata": {
        "id": "tt2olOtxeX7l"
      },
      "source": [
        "patterns.isnull()"
      ],
      "execution_count": null,
      "outputs": []
    },
    {
      "cell_type": "code",
      "metadata": {
        "id": "xV-SB_DZea1s"
      },
      "source": [
        "patterns.notnull()"
      ],
      "execution_count": null,
      "outputs": []
    },
    {
      "cell_type": "markdown",
      "metadata": {
        "id": "ikrcG-cpec5o"
      },
      "source": [
        "Para contar o número de células que não possuem valores em cada coluna, podemos utilizar a operação `isnull` para construir um `DataFrame` com valores booleanos e em seguida aplicar o operador `sum`, conforme mostrado abaixo:"
      ]
    },
    {
      "cell_type": "code",
      "metadata": {
        "id": "bWUBDlG8ekjO"
      },
      "source": [
        "patterns.isnull().sum()"
      ],
      "execution_count": null,
      "outputs": []
    },
    {
      "cell_type": "markdown",
      "metadata": {
        "id": "VJh4-YlPemtm"
      },
      "source": [
        "Outra solução para realizar a contagem acima seria obter o número total de linhas do `DataFrame`, com a função `len` e, então, subtrair este valor da série contendo a contagem de valores diferentes de `NaN` em cada coluna.\n",
        "\n",
        "<br/>\n",
        "\n",
        "Portanto, o número de linhas do `DataFrame` pode ser obtido com a seguinte expressão:"
      ]
    },
    {
      "cell_type": "code",
      "metadata": {
        "id": "qdryVl6XetnP"
      },
      "source": [
        "len(patterns)"
      ],
      "execution_count": null,
      "outputs": []
    },
    {
      "cell_type": "markdown",
      "metadata": {
        "id": "J10gr12BeveL"
      },
      "source": [
        "A série contendo a contagem de valores diferentes de `NaN` em cada coluna pode ser obtida com a seguinte expressão:"
      ]
    },
    {
      "cell_type": "code",
      "metadata": {
        "id": "ZU2qgJ0sex7L"
      },
      "source": [
        "patterns.count()"
      ],
      "execution_count": null,
      "outputs": []
    },
    {
      "cell_type": "markdown",
      "metadata": {
        "id": "U-p-XT-Zezyb"
      },
      "source": [
        "Combinando as duas ideias na expressão abaixo, obtemos a quantidade de células com `NaN` em cada coluna:"
      ]
    },
    {
      "cell_type": "code",
      "metadata": {
        "id": "5lYDMOane2TT"
      },
      "source": [
        "len(patterns) - patterns.count()"
      ],
      "execution_count": null,
      "outputs": []
    },
    {
      "cell_type": "markdown",
      "metadata": {
        "id": "_vztlpa4e4OY"
      },
      "source": [
        "Existem várias formas de computar algumas informações. O exemplo anterior ainda poderia ser computado com a seguinte expressão:"
      ]
    },
    {
      "cell_type": "code",
      "metadata": {
        "id": "PURdevZQe7tH"
      },
      "source": [
        "len(patterns.index) - patterns.count()"
      ],
      "execution_count": null,
      "outputs": []
    },
    {
      "cell_type": "markdown",
      "metadata": {
        "id": "tHOF6KmPfBy8"
      },
      "source": [
        "---\n",
        "**Q8.** Quais as linhas que possuem ``NaN`` na coluna ``c_EDMetric``?"
      ]
    },
    {
      "cell_type": "code",
      "metadata": {
        "id": "yt-SygGzfDLn"
      },
      "source": [
        "patterns[ patterns['c_EDMetric'].isnull() ]"
      ],
      "execution_count": null,
      "outputs": []
    },
    {
      "cell_type": "markdown",
      "metadata": {
        "id": "EgNNymwRfEqn"
      },
      "source": [
        "---\n",
        "**Q9.** Quantas observações estão completas, isto é, não estão faltando valores?\n",
        "\n",
        "<br/>\n",
        "\n",
        "Através da operação `dropna` podemos criar um novo `DataFrame` contendo apenas colunas que não contenham valores `NaN`:"
      ]
    },
    {
      "cell_type": "code",
      "metadata": {
        "id": "9a1yGnmNguKX"
      },
      "source": [
        "ndf = patterns.dropna(axis=1)\n",
        "\n",
        "ndf"
      ],
      "execution_count": null,
      "outputs": []
    },
    {
      "cell_type": "markdown",
      "metadata": {
        "id": "ZbJesyw9gxDE"
      },
      "source": [
        "---\n",
        "**Q10.** Quantas observações completas existem para cada valor de `padrao`?\n",
        "\n",
        "<br/>\n",
        "\n",
        "No exemplo anterior, utilizamos a operação `dropna` ao longo do `eixo-1`, isto é, das colunas. Desta vez, usaremos a operação `dropna` para remover as linhas que contenham alguma observação com o valor `NaN`:"
      ]
    },
    {
      "cell_type": "code",
      "metadata": {
        "id": "VCZ0qX9jg9uU"
      },
      "source": [
        "ndf = patterns.dropna(axis=0)\n",
        "\n",
        "ndf['padrao'].value_counts()"
      ],
      "execution_count": null,
      "outputs": []
    },
    {
      "cell_type": "markdown",
      "metadata": {
        "id": "n3R8Q2yLhEBV"
      },
      "source": [
        "---\n",
        "**Q11.** Adicionar uma nova coluna chamada `idx` que seja o somatório dos valores das colunas `Lin` e `Col`:"
      ]
    },
    {
      "cell_type": "code",
      "metadata": {
        "id": "2FJZamHHhH-8"
      },
      "source": [
        "patterns['idx'] = patterns['Lin'] + patterns['Col']"
      ],
      "execution_count": null,
      "outputs": []
    },
    {
      "cell_type": "markdown",
      "metadata": {
        "id": "l6phljqbhJ4h"
      },
      "source": [
        "Como podemos observar na saída gerada pela expressão abaixo, a coluna `idx` foi adicionada ao nosso `DataFrame`:"
      ]
    },
    {
      "cell_type": "code",
      "metadata": {
        "id": "B-kB4WsvhNCX"
      },
      "source": [
        "patterns[:10]"
      ],
      "execution_count": null,
      "outputs": []
    },
    {
      "cell_type": "markdown",
      "metadata": {
        "id": "OhOt5Pqgd5U4"
      },
      "source": [
        "---\n",
        "**Q12.** Copiar um `DataFrame`:"
      ]
    },
    {
      "cell_type": "code",
      "metadata": {
        "id": "Ec_MzbEhhQC7"
      },
      "source": [
        "copia_df = patterns.copy()"
      ],
      "execution_count": null,
      "outputs": []
    },
    {
      "cell_type": "markdown",
      "metadata": {
        "id": "5RunVFhPlQxs"
      },
      "source": [
        "# Considerações Finais\n",
        "---\n",
        "\n",
        "Nesta aula, aprendemos um pouco sobre a manipulação de dados tabulares com o `Pandas`. Na próxima aula iremos ver como usar uma estrutura de dados similar para manipulação de dados geoespaciais."
      ]
    }
  ]
}