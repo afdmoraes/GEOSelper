{
  "nbformat": 4,
  "nbformat_minor": 0,
  "metadata": {
    "colab": {
      "provenance": [],
      "authorship_tag": "ABX9TyPV/anhR1I+heTACSrCzKm5",
      "include_colab_link": true
    },
    "kernelspec": {
      "name": "python3",
      "display_name": "Python 3"
    },
    "language_info": {
      "name": "python"
    }
  },
  "cells": [
    {
      "cell_type": "markdown",
      "metadata": {
        "id": "view-in-github",
        "colab_type": "text"
      },
      "source": [
        "<a href=\"https://colab.research.google.com/github/afdmoraes/GEOSelper/blob/main/Tarefa_2_afdm.ipynb\" target=\"_parent\"><img src=\"https://colab.research.google.com/assets/colab-badge.svg\" alt=\"Open In Colab\"/></a>"
      ]
    },
    {
      "cell_type": "markdown",
      "source": [
        "## Tarefa 2 - \n",
        "\n",
        "Esta é a segunda tarefa do curso de Programação para Sensoriamento Remoto. Novamente, crie um Jupyter Notebook no seu Google Colab para reportar os resultados obtidos. Inclua blocos de código e texto para informar as partes realizadas. \n",
        "\n",
        "Atividades\n",
        "\n",
        "geralmente, o nome dos arquivos que contém imagens de satélite é formado por sequências de letras e números que informam sobre metadados da imagem, como data de obtenção da imagem e a localização. Veja 2 exemplos de arquivos baixados do catálogo de imagens do INPE:\n",
        "\n",
        "    • CBERS_4A_WFI_20201019_230_124_L2_BAND13.tif\n",
        "Satélite: CBERS_4A\n",
        "Data: 20201019 (19/10/2020)\n",
        "Localização: 230_124 (230/124)\n",
        "Banda: BAND13 (13)\n",
        "\n",
        "    • LO82320582018013CUB00_B1.tif\n",
        "Satélite: L08 (Landsat-8)\n",
        "Data: 2018013 (13/01/2018) -> veja que aqui é o 13o dia do ano de 2018, por isso 13 de Janeiro\n",
        "Localização: 232058 (232/058)\n",
        "Banda: B1 (1)\n",
        "\n",
        "(a) Escreva um snippet de código que quebre uma string contendo um nome de arquivo CBERS, e apresente os metadados em forma de dicionário\n",
        "entrada: 'CBERS_4A_WFI_20201019_230_124_L2_BAND13.tif'\n",
        "saída: {'banda': 'BAND13',\n",
        " 'data': '20201019',\n",
        " 'localizacao': '230_124',\n",
        " 'satelite': 'CBERS_4A'}\n",
        "\n",
        "(b) Crie uma função chamada get_metadata(filename), que recebe como parâmetro uma string contendo um nome de arquivo (filename), identifica qual satélite originou este arquivo (CBERS ou LANDSAT), e retorna um dicionário de metadados\n",
        "Atenção: apresente o link do seu Jupyter Notebook, através da opção Compartilhar do próprio Google Colab, da seguinte forma:\n",
        "\n",
        "Compartilhar\n",
        "Mudar para qualquer pessoa com o link\n",
        "Copiar link\n",
        "\n",
        "\n",
        "    "
      ],
      "metadata": {
        "id": "YVQo1Mi_MPD2"
      }
    },
    {
      "cell_type": "code",
      "execution_count": null,
      "metadata": {
        "id": "kpK5D71GL6ii",
        "colab": {
          "base_uri": "https://localhost:8080/"
        },
        "outputId": "697e770b-95a4-463b-9056-7887e45646aa"
      },
      "outputs": [
        {
          "output_type": "stream",
          "name": "stdout",
          "text": [
            "Imagem de Satélite - adquirida em 30/11/2022\n",
            "{'banda': 'BAND1', 'data': '20220220', 'localizacao': '156_13', 'satelite': 'CBERS_4'}\n"
          ]
        }
      ],
      "source": [
        "#LO82200792020095CUB00_B1.tif\n",
        "#LO82200792020095CUB00_B2.tif\n",
        "#LO82200792020095CUB00_B3.tif\n",
        "#LO82200792020095CUB00_B4.tif\n",
        "#LO82200792020095CUB00_B5.tif\n",
        "#LO82200792020095CUB00_B6.tif\n",
        "#LO82200792020095CUB00_B7.tif\n",
        "#LO82200792020095CUB00_B8.tif\n",
        " \n",
        " \n",
        " # nome_arq = 'CBERS_4A_WFI_20201019_230_124_L2_BAND13.tif'\n",
        "nome_arq = 'CBERS_4_PAN5M_20220220_156_130_L4_BAND1.tif' ### Localização - Brasil - Santa Catarina - Camboriú\n",
        "\n",
        "saida = {}\n",
        "\n",
        "saida['banda'] = nome_arq[34:39]\n",
        "saida['data'] = nome_arq[14:22]\n",
        "saida['localizacao'] = nome_arq[23:29]\n",
        "saida['satelite'] = nome_arq[:7]\n",
        "print('Imagem de Satélite - adquirida em 30/11/2022')\n",
        "print(saida)"
      ]
    },
    {
      "cell_type": "code",
      "source": [
        "# definicao da funcao\n",
        "def get_metadata(filename):\n",
        "\n",
        "  # criar variavel vazia com o dicionario \n",
        "  # para retornar ao final da funcao\n",
        "  saida = {}\n",
        "  \n",
        "  # preencher metadados para CBERS \n",
        "  if 'CBERS' in filename:\n",
        "    saida['banda'] = filename[33:39]\n",
        "    saida['data'] = filename[13:21]\n",
        "    saida['localizacao'] = filename[23:29]\n",
        "    saida['satelite'] = filename[:7]\n",
        "  \n",
        "  # preencher metadados para Landsat\n",
        "  elif 'LO8' in filename:\n",
        "    saida['banda'] = filename[-6:-4]\n",
        "    saida['data'] = filename[9:16]\n",
        "    saida['localizacao'] = filename[3:9]\n",
        "    saida['satelite'] = filename[:3]\n",
        "  \n",
        "  # terminar a funcao\n",
        "  return saida\n",
        "\n",
        "# testar a funcao\n",
        "\n",
        "#print(get_metadata('CBERS_4A_WFI_20201019_230_124_L2_BAND13.tif'))\n",
        "#print(get_metadata('LO82320582018013CUB00_B1.tif'))# definicao da funcao\n",
        "\n",
        "# CBERS 4\n",
        "print(get_metadata('CBERS_4_PAN5M_20220220_156_130_L4_BAND1.tif'))\n",
        "\n",
        "# CBERS 4A\n",
        "print(get_metadata('CBERS_4A_WPM_20221108_204_147_L4_BAND4.tif'))\n",
        "\n",
        "# CBERS LANDSAT\n",
        "print(get_metadata('LO82200792020095CUB00_B8.tif'))\n",
        "\n",
        "\n",
        "\n",
        "def get_metadata(filename):\n",
        "\n",
        "  # criar variavel vazia com o dicionario \n",
        "  # para retornar ao final da funcao\n",
        "  saida = {}\n",
        "  \n",
        "  # preencher metadados para CBERS 4 \n",
        "  if 'CBERS' in filename:\n",
        "    saida['banda'] = filename[33:39]\n",
        "    saida['data'] = filename[13:21]\n",
        "    saida['localizacao'] = filename[23:29]\n",
        "    saida['satelite'] = filename[:7]\n",
        "  \n",
        "  # preencher metadados para Landsat\n",
        "  elif 'LO8' in filename:\n",
        "    saida['banda'] = filename[-6:-4]\n",
        "    saida['data'] = filename[8:16]\n",
        "    saida['localizacao'] = filename[3:9]\n",
        "    saida['satelite'] = filename[:3]\n",
        "  \n",
        "  # terminar a funcao\n",
        "  return saida\n",
        "\n",
        "# testar a funcao\n",
        "\n",
        "print(get_metadata('CBERS_4_PAN5M_20220220_156_130_L4_BAND1.tif'))\n",
        "#print(get_metadata('CBERS_4A_WFI_20201019_230_124_L2_BAND13.tif'))\n",
        "#print(get_metadata('LO82320582018013CUB00_B1.tif'))"
      ],
      "metadata": {
        "id": "1h7gTEnwpZEb",
        "colab": {
          "base_uri": "https://localhost:8080/"
        },
        "outputId": "541daca7-a0dc-4466-eac1-e9915f10cf0e"
      },
      "execution_count": 6,
      "outputs": [
        {
          "output_type": "stream",
          "name": "stdout",
          "text": [
            "{'banda': '_BAND1', 'data': '_2022022', 'localizacao': '156_13', 'satelite': 'CBERS_4'}\n",
            "{'banda': 'BAND4.', 'data': '20221108', 'localizacao': '04_147', 'satelite': 'CBERS_4'}\n",
            "{'banda': 'B8', 'data': '2020095', 'localizacao': '220079', 'satelite': 'LO8'}\n",
            "{'banda': '_BAND1', 'data': '_2022022', 'localizacao': '156_13', 'satelite': 'CBERS_4'}\n"
          ]
        }
      ]
    },
    {
      "cell_type": "code",
      "source": [],
      "metadata": {
        "id": "uhmYzjuTM2H4"
      },
      "execution_count": null,
      "outputs": []
    }
  ]
}