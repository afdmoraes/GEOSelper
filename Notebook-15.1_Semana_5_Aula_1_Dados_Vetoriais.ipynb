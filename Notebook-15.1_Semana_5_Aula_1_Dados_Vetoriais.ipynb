{
  "nbformat": 4,
  "nbformat_minor": 0,
  "metadata": {
    "colab": {
      "provenance": [],
      "include_colab_link": true
    },
    "kernelspec": {
      "name": "python3",
      "display_name": "Python 3"
    }
  },
  "cells": [
    {
      "cell_type": "markdown",
      "metadata": {
        "id": "view-in-github",
        "colab_type": "text"
      },
      "source": [
        "<a href=\"https://colab.research.google.com/github/afdmoraes/GEOSelper/blob/main/Notebook-15.1_Semana_5_Aula_1_Dados_Vetoriais.ipynb\" target=\"_parent\"><img src=\"https://colab.research.google.com/assets/colab-badge.svg\" alt=\"Open In Colab\"/></a>"
      ]
    },
    {
      "cell_type": "markdown",
      "metadata": {
        "id": "2FrUDDadsNzU"
      },
      "source": [
        "# Curso de Programação para Sensoriamento Remoto\n",
        "---\n",
        "\n",
        "* Gilberto Ribeiro de Queiroz\n",
        "* Thales Sehn Körting\n",
        "\n",
        "## Tópicos desta aula\n",
        "\n",
        "* A representação vetorial\n",
        "\n"
      ]
    },
    {
      "cell_type": "markdown",
      "metadata": {
        "id": "N2XWcM4aano9"
      },
      "source": [
        "# Representação Vetorial e Matricial"
      ]
    },
    {
      "cell_type": "markdown",
      "metadata": {
        "id": "OczYWbjdYkDF"
      },
      "source": [
        "A forma de modelar e representar os fenômenos geográficos no computador depende de sua percepção na forma de **entidades discretas** (objetos) ou **campos contínuos**.\n",
        "\n",
        "<br/>\n",
        "\n",
        "Quando lidamos com fenômenos onde temos um valor definido para uma ou mais variáveis de observação em toda localização possível do espaço, estamos compreendendo tal fenômeno como um *campo contínuo*. Elevação, temperatura de superfície, risco de incêndio na vegetação, e radiância da superfície são exemplos de campos contínuos.\n",
        "\n",
        "<br/>\n",
        "\n",
        "Quando percebemos o fenômeno em questão por objetos com fronteiras bem definidas e pertencentes a uma certa categoria, estamos compreendendo esse fenômeno como *entidades discretas*. Unidades de conservação estadual e federal, organização territorial, arruamento, trechos rodoviários, escolas, hospitais, linhas de transmissão de energia elétrica, são alguns exemplos de entidades discretas.\n",
        "\n",
        "<br/>\n",
        "\n",
        "Para representar os dados dessas duas formas de conceitualização do espaço geográfico, em geral, utilizamos a **representação matricial** para fenômenos modelados como campos contínuos, e a **representação vetorial** para entidades discretas.\n",
        "\n",
        "<br/>\n",
        "\n",
        "Nesta parte da aula estamos interessados na representação vetorial dos dados.\n",
        "\n",
        "<br/>\n",
        "\n",
        "As entidades codificadas usando dados vetoriais são usualmente chamadas de **feições** (ou *features*). Nesse contexto, uma feição pode ser representada computacionalmente por diversas características, as quais chamamos de **atributos da feição**. Um **atributo** possui um nome, sendo associado a um determinado **tipo de dado**, como um número, uma sequência de caracteres (texto), ou uma data.\n",
        "\n",
        "<br/>\n",
        "\n",
        "Além dos atributos alfanuméricos, uma feição é descrita por um ou mais **atributos geométricos**, associados a um tipo de dado geométrico. Um **tipo de dado geométrico** é capaz de representar elementos geométricos primitivos tais como pontos, linhas e polígonos ou coleções desses elementos.\n",
        "\n",
        "<br/>\n",
        "\n",
        "A **Figura 1** apresenta alguns tipos de objetos geográficos representados por feições com representações geométricas de pontos (hidrelétricas e termoelétricas), linhas (logradouros) e polígonos (municípios brasileiros).\n",
        "\n",
        "|  Hidrelétricas/Termoelétricas |  Logradouros  |  Municípios  |\n",
        "|-------------------------------|---------------|--------------|\n",
        "| <img src=\"https://drive.google.com/uc?id=1JN-5AHGm2ai1VoGUxNWKf_LN81q52Lcf\" width=\"266\">  |  <img src=\"https://drive.google.com/uc?id=110ldXCui1NnDBz-0dW-8XwoQFrB-I-U0\" width=\"266\">  |  <img src=\"https://drive.google.com/uc?id=1WxvHiqPYv59pEzAn3kV_tSHZYX4CfpfS\" width=\"266\">  |\n",
        "\n",
        "<center><b>Figura 1</b> - Representação de feições geográficas através de objetos geométricos. </center>\n",
        "\n",
        "<br/>\n",
        "\n",
        "A **Figura 2** ilustra o esquema de uma coleção de feições, onde podemos observar os atributos alfanuméricos e geométricos.\n",
        "\n",
        "<center><img src=\"https://drive.google.com/uc?id=1s-lJzohiZWQUMIxB2Y7vWMXWedFnv-Fz\" width=\"640\"></center>\n",
        "\n",
        "\n",
        "<center><b>Figura 2</b> - Coleção de Feições (Feature Collection).</center>\n",
        "\n",
        "<br/>\n",
        "\n",
        "As entidades codificados como dados matriciais, também chamadas de **raster** ou **imagens**, formam um plano subdividido em células de tamanho fixo, frequentemente chamadas de **pixels**. Para cada par de coordenada `(x, y)` nesse plano há um valor de intensidade, por vezes chamado nível de cinza, que indica o valor de alguma medida para aquele ponto.\n",
        "\n",
        "<br/>\n",
        "\n",
        "A **Figura 3** apresenta uma imagem do satélite `CBERS-4` sensor `WFI`, um dado matricial em que cada célula, representa uma área de `64 metros` da superfície terrestre e o valor de intensidade cada célula indica uma aproximação da cor refletida por essa superfície.\n",
        "\n",
        "<center><img src=\"https://drive.google.com/uc?id=1PQWP9EMZO0xyO9aPhBTFSVWDUnl1Elvs\" width=\"640\"></center>\n",
        "\n",
        "<center><b>Figura 3</b> - Imagem do satélite CBERS-4 sensor WFI com 64 metros de resolução espacial, em composição colorida.</center>\n",
        "\n",
        "<br/>\n",
        "\n",
        "Ambos os formatos, vetorial e matricial, apresentam vantagens e desvantagens quando comparados entre sí. Dados matriciais por exemplo, apresentam uma estrutura bastante simples, uma grade regular com valores para cada célula. Entretanto, essa codificação assume que perdas de informação no espaço são aceitáveis, uma vez que cada célula é uma representação generalizada de uma área com variações no espaço real. Já os dados em formato vetorial apresentam a vantagem de utilizarem menor espaço de armazenamento, além de dependerem da resolução em que o dado foi gerado, o que possibilita utilizar o dado em diferentes escalas com menor distorção. Entretanto, dados vetoriais são mais complexos para manipular.\n",
        "\n",
        "<br/>\n",
        "\n",
        "Nesta parte da aula iremos discutir como realizar a manipulação de dados geoespaciais representados na forma de uma **coleção de feições** (*feature collection*). Para isso, vamos entender um pouco mais sobre os tipos geométricos usados na representação vetorial de dados geográficos."
      ]
    },
    {
      "cell_type": "markdown",
      "metadata": {
        "id": "Dbb3KRQCfdAd"
      },
      "source": [
        "# Tipos Geométricos"
      ]
    },
    {
      "cell_type": "markdown",
      "metadata": {
        "id": "AbLMx2i3frN_"
      },
      "source": [
        "Atualmente, o modelo geométrico e as operações espaciais encontradas nos diversos sistemas geoespaciais são baseados na especificação conhecida por **OGC Simple Feature** (Herring, 2011). Essa especificação padroniza o nome e as definições dos tipos geométricos bem como a semântica das operações espaciais, em especial, os relacionamentos espaciais (ou topológicos). Iremos nos referir a essa especificação com a sigla *OGC-SFS*.\n",
        "\n",
        "<br/>\n",
        "\n",
        "A **Figura 4**, abaixo, apresenta o modelo geométrico definido na *OGC-SFS*.\n",
        "\n",
        "<center><img src=\"https://drive.google.com/uc?id=1LIpnIsbZl915xyPxIGq3fhYxYW5JBQZA\" width=\"800\"></center>\n",
        "\n",
        "<center><b>Figura 4</b> - Diagrama de classes do modelo geométrico da <i>OGC Simple Feature</i>. <br/><b>Fonte:</b> Adaptado de Herring (2011)</center>\n",
        "\n",
        "<br/>\n",
        "\n",
        "Como pode ser observado, são definidas classes para representações de objetos geométricos na forma de pontos, curvas, superfícies e coleções geométricas. Além disso, todos os tipos geométricos estão associados a um **sistema de referência espacial**, que é usado para descrever o sistema de coordenadas no qual o objeto geométrico encontra-se definido.\n",
        "\n",
        "<br/>\n",
        "\n",
        "Os objetos geométricos definidos por essa hierarquia de classes pode existir no espaço $R^2$, $R^3$ ou $R^4$. Geometrias no $R^2$ possuem pontos com valores de coordenadas em $x$ e $y$. Geometrias no $R^3$ possuem pontos com valores de coordenadas em $x$, $y$ e $z$ ou $x$, $y$ e $m$. Geometrias no $R^4$ possuem pontos com valores de coordenadas em $x$, $y$, $z$ e $m$. Em geral, a coordenada $m$ representa algum tipo de medida.\n",
        "\n",
        "<br/>\n",
        "\n",
        "A **Figura 5** ilustra graficamente objetos associados aos tipos geométricos representados pelas classes do diagrama da **Figura 4**.\n",
        "\n",
        "\n",
        "|  ( a ) `Point`   | ( b ) `LineString`           | ( c ) `LinearRing`  |\n",
        "|--------------------|--------------------------------|-----------------------|\n",
        "| <img src=\"https://drive.google.com/uc?id=1VV_ef3AoEk7LqqywNLMxue24o1Mm2P8e\" width=\"213\"> | <img src=\"https://drive.google.com/uc?id=1WNeq6_C4__Qgj6wweRKEthWs5Viq922x\" width=\"213\"> | <img src=\"https://drive.google.com/uc?id=1xUc0a1dvK_32-cE5DMuD_-U9iQl1lJMU\" width=\"213\"> |\n",
        "\n",
        "<br/>\n",
        "\n",
        "| ( d ) `Polygon`  | ( e ) `Polygon` (com buracos) | ( f ) `MultiPoint` |\n",
        "|--------------------|---------------------------------|----------------------|\n",
        "| <img src=\"https://drive.google.com/uc?id=1f8vKq7STuxxaciucxhtGGUkSU3YVKwgF\" width=\"213\"> | <img src=\"https://drive.google.com/uc?id=1t9q8YkjPlIbusVVJ8b5ay_yvpaNwOxYl\" width=\"213\"> | <img src=\"https://drive.google.com/uc?id=15vp3341ofqm-5UFlHsiJ_z4_mAoZINBZ\" width=\"213\"> |\n",
        "\n",
        "<br/>\n",
        "\n",
        "| ( g ) `MultiLineString``  | ( h ) `MultiPolygon`  | ( i ) `GeometryCollection`  |\n",
        "|----------------------------|-------------------------|------------------------|\n",
        "| <img src=\"https://drive.google.com/uc?id=1_2Mcz_vG0bRU8Fi5KkVkIw6jGqFIwy3l\" width=\"213\"> | <img src=\"https://drive.google.com/uc?id=13B53zXwvIb0FKpGnYPceRdzIfYmGjxUR\" width=\"213\"> | <img src=\"https://drive.google.com/uc?id=1BZ8dD2BbAzkk8RqZCgYhV5Ft1j54xFqQ\" width=\"213\"> |\n",
        "\n",
        "<center><b>Figura 5</b> - Exemplos dos tipos geométricos da OGC-SFS.</center>\n",
        "\n",
        "<br/>\n",
        "\n",
        "O tipo `Point` (**Figura 4** e **Figura 5a**) representa pontos no espaço $R^2$, $R^3$ ou $R^4$. Um ponto é um objeto geométrico $0$-dimensional (dimensão topológica), isto é, não possui comprimento, largura, altura, ou volume, representando uma única localização no sistema de coordenadas. A fronteira de um ponto é o conjunto vazio. Em geral, utilizamos esse tipo de geometria para representar atributos de feições associadas a ocorrências ou eventos, como incidência de crimes ou doenças.\n",
        "\n",
        "<br/>\n",
        "\n",
        "O tipo `Curve` (**Figura 4**) representa a imagem contínua de uma linha. Uma curva é um objeto geométrico $1$-dimensional (dimensão topológica), isto é, possui comprimento mas não possui largura, altura, ou volume. Em geral, utilizamos elementos geométricos das subclasses de `Curve` para representar entidades lineares tais como rodovias, linhas de transmissão de energia elétrica, dutos, arruamentos, entre outras. Uma curva pode conter coordenadas com $m$ ou $z$.\n",
        "\n",
        "<br/>\n",
        "\n",
        "A subclasse `LineString` representa linhas com interpolação linear entre pontos consecutivos (**Figura 4** e **Figura 5b**). A fronteira de uma **linha aberta** é definida como sendo os pontos extremos dessa linha. O primeiro ponto é chamado de *ponto inicial* (*start point*) e o último ponto da sequência, *ponto final* (*end point*).\n",
        "\n",
        "<br/>\n",
        "\n",
        "A subclasse `LinearRing` representa linhas fechadas, denominadas anéis, cujo ponto inicial e final são coincidentes (**Figura 4** e **Figura 5c**). A fronteira de um anel é definida como o conjunto vazio. Essa classe é o bloco básico para construção de polígonos (classe `Polygon`).\n",
        "\n",
        "<br/>\n",
        "\n",
        "O tipo `Surface` representa objetos geométricos $2$-dimensionais (dimensão topológica), isto é, objetos que possuem área (largura e altura) mas não possuem volume. Esse tipo geométrico pode ser utilizado para representar entidades discretas como áreas de cultivo, unidades de conservação florestal, divisões territoriais, entre outras.\n",
        "\n",
        "<br/>\n",
        "\n",
        "A subclasse `Polygon` representa polígonos que podem ser formados por um anel externo e zero ou mais anéis internos (buracos ou ilhas). A **Figura 5d** representa um polígono formado apenas por um anel, que é o anel externo. O polígono mostrado na **Figura 5e** representa um polígono formado por um anel externo e um anel interno. A fronteira de um polígono é definida como sendo o conjunto de todos os anéis que o delimitam.\n",
        "\n",
        "<br/>\n",
        "\n",
        "O diagrama da **Figura 4** ainda contém classes que representam coleções de geometrias. As classes `MultiPoint`, `MultiLineString` e `MultiPolygon` representam, respectivamente, coleções homogêneas de pontos (**Figura 5f**), linhas (**Figura 5g**) e polígonos (**Figura 5h**). A classe `GeometryCollection` representa coleções geométricas formadas por qualquer combinação de outros elementos geométricos, inclusive das coleções homogêneas. A coleção heterogênea mostrada na **Figura 5i** é composta de um polígono, uma linha e um ponto.\n",
        "\n",
        "<br/>\n",
        "\n",
        "Em geral, o tipo `GeometryCollection` é introduzido nos sistemas para acomodar o resultado de operações espaciais complexas sobre os tipos de geometria elementares. Por exemplo, o resultado da operação de intersecção entre dois polígonos pode resultar em um conjunto de pontos, linhas e polígonos, de forma que é necessário um contêiner especial para acomodar esse resultado.\n",
        "\n",
        "<br/>\n",
        "\n",
        "O documento da `OGC-SFS` define também o conjunto de operações sobre os tipos geométricos do diagrama da **Figura 4**. A seção a seguir irá detalhar as operações que possibilitam determinar os relacionamentos espaciais entre objetos espaciais."
      ]
    },
    {
      "cell_type": "markdown",
      "metadata": {
        "id": "LYJtxfDLt5UX"
      },
      "source": [
        "# Operações Espaciais"
      ]
    },
    {
      "cell_type": "markdown",
      "metadata": {
        "id": "lu-zur_zutDS"
      },
      "source": [
        "## Operadores Métricos"
      ]
    },
    {
      "cell_type": "markdown",
      "metadata": {
        "id": "qvl3LvQFuyMy"
      },
      "source": [
        "* **Área:** aplica-se a polígonos e coleções de polígonos.\n",
        "\n",
        "* **Perímero:** aplica-se a polígonos e coleções de polígonos.\n",
        "\n",
        "* **Comprimento:** aplica-se a linhas e coleções de linhas.\n",
        "\n",
        "* **Distância:** distância euclideana entre duas geometrias quaisquer."
      ]
    },
    {
      "cell_type": "markdown",
      "metadata": {
        "id": "s4LJJQ41ucvZ"
      },
      "source": [
        "## Operações de Conjunto\n",
        "\n"
      ]
    },
    {
      "cell_type": "markdown",
      "metadata": {
        "id": "AifT_cztvH3-"
      },
      "source": [
        "<center><img src=\"https://drive.google.com/uc?id=10RWzeuzRfWJFR6KxKLr5r2zivqW3Q9NI\" width=\"800\"></center>"
      ]
    },
    {
      "cell_type": "markdown",
      "metadata": {
        "id": "TBKV9Zk04VEG"
      },
      "source": [
        "<center><img src=\"https://drive.google.com/uc?id=1fc1nPQGJS4ksfbkkISZwnZTQehxgQ2cK\" width=\"800\"></center>"
      ]
    },
    {
      "cell_type": "markdown",
      "metadata": {
        "id": "2GtAy6fA4Wip"
      },
      "source": [
        "<center><img src=\"https://drive.google.com/uc?id=1sHHtiwp1_VurmJNcj0K5VtDTX7Q8hNKz\" width=\"800\"></center>"
      ]
    },
    {
      "cell_type": "markdown",
      "metadata": {
        "id": "d6upPGz44X9c"
      },
      "source": [
        "<center><img src=\"https://drive.google.com/uc?id=1QDt40pzhKkvlKpRQ1NHUxIsVpZ9iRBzL\" width=\"800\"></center>"
      ]
    },
    {
      "cell_type": "markdown",
      "metadata": {
        "id": "FXQ0KZ0luZ5K"
      },
      "source": [
        "### Área de Influência ou Buffer​"
      ]
    },
    {
      "cell_type": "markdown",
      "metadata": {
        "id": "Txm821AZwiyk"
      },
      "source": [
        "<center><img src=\"https://drive.google.com/uc?id=1E4RNdjI_3Q-m8ELDbORcdKLsyO81Udua\" width=\"640\"></center>"
      ]
    },
    {
      "cell_type": "markdown",
      "metadata": {
        "id": "CtA4lSLd4p6D"
      },
      "source": [
        "### Retângulo Envolvente Mínimo ou *Bounding Box*"
      ]
    },
    {
      "cell_type": "markdown",
      "metadata": {
        "id": "pyN0Qk7l4yAD"
      },
      "source": [
        "<center><img src=\"https://drive.google.com/uc?id=1wJxZI-_0JElW_dByNWHUdYl08s32t6k6\" width=\"480\"></center>"
      ]
    },
    {
      "cell_type": "markdown",
      "metadata": {
        "id": "xNBETFE8uUKA"
      },
      "source": [
        "## Relacionamentos Espaciais"
      ]
    },
    {
      "cell_type": "markdown",
      "metadata": {
        "id": "OPN4sKbwt6ff"
      },
      "source": [
        "Entre as operações definidas na `OGC-SFS`, existe um conjunto que merece uma atenção especial: os **operadores topológicos**. Esses operadores são extensivamente utilizados na construção de consultas espaciais envolvendo o relacionamento espacial entre objetos geográficos.\n",
        "\n",
        "<br/>\n",
        "\n",
        "<center><img src=\"https://drive.google.com/uc?id=1PLfrQDxt6qBFUmEXEaC_t0r023kdEZLF\" width=\"280\"></center>\n",
        "\n",
        "---\n",
        "\n",
        "**Atenção:** Além dos <u>06 operadores topológicos</u> acima, existe o **Intersects**, que retorna verdadeiro (`True`) se as duas geometrias tiverem algum tipo de interação espacial, isto é, se os interiores e fronteiras tiverem qualquer intersecção. Este relacionamento espacial é definido como sendo a negação do relacionamento `Disjoint`:\n",
        "\n",
        "\n",
        "$$Intersects(A, B) \\iff \\neg Disjoint(A, B)$$\n",
        "\n",
        "\n",
        "Na verdade esse relacionamento diz que as geometrias $A$ e $B$ podem se tocar, ou cruzar, ou sobrepor, ou uma estar contida uma na outra, ou serem iguais. Define-se este relacionamento para facilitar a escrita de expressões com predicados espaciais.\n",
        "\n",
        "---"
      ]
    }
  ]
}