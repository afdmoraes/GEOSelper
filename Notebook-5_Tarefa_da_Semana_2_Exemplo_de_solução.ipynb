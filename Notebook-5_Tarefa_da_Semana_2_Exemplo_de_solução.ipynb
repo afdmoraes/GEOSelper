{
  "nbformat": 4,
  "nbformat_minor": 0,
  "metadata": {
    "colab": {
      "provenance": [],
      "include_colab_link": true
    },
    "kernelspec": {
      "name": "python3",
      "display_name": "Python 3"
    }
  },
  "cells": [
    {
      "cell_type": "markdown",
      "metadata": {
        "id": "view-in-github",
        "colab_type": "text"
      },
      "source": [
        "<a href=\"https://colab.research.google.com/github/afdmoraes/GEOSelper/blob/main/Notebook-5_Tarefa_da_Semana_2_Exemplo_de_solu%C3%A7%C3%A3o.ipynb\" target=\"_parent\"><img src=\"https://colab.research.google.com/assets/colab-badge.svg\" alt=\"Open In Colab\"/></a>"
      ]
    },
    {
      "cell_type": "markdown",
      "metadata": {
        "id": "2FrUDDadsNzU"
      },
      "source": [
        "# Tarefa da Semana 2 - Exemplo de solução\n",
        "---\n",
        "\n",
        "Esta é a segunda tarefa do curso de Programação para Sensoriamento Remoto. Novamente, crie um Jupyter Notebook no seu Google Colab para reportar os resultados obtidos. Inclua blocos de código e texto para informar as partes realizadas. \n",
        "\n",
        "**Atividades**\n",
        "\n",
        "* geralmente, o nome dos arquivos que contém imagens de satélite é formado por sequências de letras e números que informam sobre metadados da imagem, como data de obtenção da imagem e a localização. Veja 2 exemplos de arquivos baixados do catálogo de imagens do INPE:\n",
        "\n",
        "`CBERS_4A_WFI_20201019_230_124_L2_BAND13.tif`\n",
        "\n",
        "* Satélite: CBERS_4A\n",
        "* Data: 20201019 (19 / 10 / 2020)\n",
        "* Localização: 230_124 (230/124)\n",
        "* Banda: BAND13 (13)\n",
        "\n",
        "`LO82320582018013CUB00_B1.tif`\n",
        "\n",
        "* Satélite: L08 (Landsat-8)\n",
        "* Data: 2018013 (13 / 01 / 2018) -> veja que aqui é o 13o dia do ano de 2018, por isso 13 de Janeiro)\n",
        "* Localização: 232058 (232/058)\n",
        "* Banda: B1 (1)\n",
        "\n",
        "**(a)** Escreva um snippet de código que quebre uma string contendo um nome de arquivo CBERS, e apresente os metadados em forma de dicionário\n",
        "\n",
        "entrada: `'CBERS_4A_WFI_20201019_230_124_L2_BAND13.tif'`\n",
        "\n",
        "saída: \n",
        "`{'banda': 'BAND13',\n",
        " 'data': '20201019',\n",
        " 'localizacao': '230_124',\n",
        " 'satelite': 'CBERS_4A'}`"
      ]
    },
    {
      "cell_type": "code",
      "metadata": {
        "colab": {
          "base_uri": "https://localhost:8080/"
        },
        "id": "itsxBtlseVwY",
        "outputId": "797a6a7f-56e4-4ab7-8124-90f9bad8f24e"
      },
      "source": [
        "# definir a variavel\n",
        "nome_do_arquivo = 'CBERS_4A_WFI_20201019_230_124_L2_BAND13.tif'\n",
        "\n",
        "# criar um dicionario vazio\n",
        "saida = {}\n",
        "# incluir cada elemento de acordo com a posicao\n",
        "# correta no nome do arquivo\n",
        "saida['banda'] = nome_do_arquivo[33:39]\n",
        "saida['data'] = nome_do_arquivo[13:21]\n",
        "saida['localizacao'] = nome_do_arquivo[22:29]\n",
        "saida['satelite'] = nome_do_arquivo[:8]\n",
        "\n",
        "print(saida)"
      ],
      "execution_count": null,
      "outputs": [
        {
          "output_type": "stream",
          "text": [
            "{'banda': 'BAND13', 'data': '20201019', 'localizacao': '230_124', 'satelite': 'CBERS_4A'}\n"
          ],
          "name": "stdout"
        }
      ]
    },
    {
      "cell_type": "markdown",
      "metadata": {
        "id": "yr4Bc9S6en6f"
      },
      "source": [
        "**(b)** Crie uma função chamada get_metadata(filename), que recebe como parâmetro uma string contendo um nome de arquivo (filename), identifica qual satélite originou este arquivo (CBERS ou LANDSAT), e retorna um dicionário de metadados"
      ]
    },
    {
      "cell_type": "code",
      "metadata": {
        "colab": {
          "base_uri": "https://localhost:8080/"
        },
        "id": "VcsXHh_6eskJ",
        "outputId": "bb97a46f-bcc4-410f-81cd-c2023ae53e21"
      },
      "source": [
        "# definicao da funcao\n",
        "def get_metadata(filename):\n",
        "\n",
        "  # criar variavel vazia com o dicionario \n",
        "  # para retornar ao final da funcao\n",
        "  saida = {}\n",
        "  \n",
        "  # preencher metadados para CBERS \n",
        "  if 'CBERS' in filename:\n",
        "    saida['banda'] = filename[33:39]\n",
        "    saida['data'] = filename[13:21]\n",
        "    saida['localizacao'] = filename[22:29]\n",
        "    saida['satelite'] = filename[:8]\n",
        "  \n",
        "  # preencher metadados para Landsat\n",
        "  elif 'LO8' in filename:\n",
        "    saida['banda'] = filename[-6:-4]\n",
        "    saida['data'] = filename[9:16]\n",
        "    saida['localizacao'] = filename[3:9]\n",
        "    saida['satelite'] = filename[:3]\n",
        "  \n",
        "  # terminar a funcao\n",
        "  return saida\n",
        "\n",
        "# testar a funcao\n",
        "\n",
        "print(get_metadata('CBERS_4A_WFI_20201019_230_124_L2_BAND13.tif'))\n",
        "print(get_metadata('LO82320582018013CUB00_B1.tif'))"
      ],
      "execution_count": null,
      "outputs": [
        {
          "output_type": "stream",
          "text": [
            "{'banda': 'BAND13', 'data': '20201019', 'localizacao': '230_124', 'satelite': 'CBERS_4A'}\n",
            "{'banda': 'B1', 'data': '2018013', 'localizacao': '232058', 'satelite': 'LO8'}\n"
          ],
          "name": "stdout"
        }
      ]
    }
  ]
}