{
  "nbformat": 4,
  "nbformat_minor": 0,
  "metadata": {
    "colab": {
      "provenance": [],
      "include_colab_link": true
    },
    "kernelspec": {
      "name": "python3",
      "display_name": "Python 3"
    }
  },
  "cells": [
    {
      "cell_type": "markdown",
      "metadata": {
        "id": "view-in-github",
        "colab_type": "text"
      },
      "source": [
        "<a href=\"https://colab.research.google.com/github/afdmoraes/GEOSelper/blob/main/Semana_3_Aula_1_Manipulacao_de_Imagens.ipynb\" target=\"_parent\"><img src=\"https://colab.research.google.com/assets/colab-badge.svg\" alt=\"Open In Colab\"/></a>"
      ]
    },
    {
      "cell_type": "markdown",
      "metadata": {
        "id": "2FrUDDadsNzU"
      },
      "source": [
        "# Curso de Programação para Sensoriamento Remoto\n",
        "---\n",
        "\n",
        "* Gilberto Ribeiro de Queiroz\n",
        "* Thales Sehn Körting\n",
        "\n",
        "## Tópicos desta aula\n",
        "\n",
        "* Manipulação de Imagens com a Biblioteca GDAL\n",
        "\n"
      ]
    },
    {
      "cell_type": "markdown",
      "metadata": {
        "id": "s7KVAkHCbkqN"
      },
      "source": [
        "## Estrutura de armazenamento"
      ]
    },
    {
      "cell_type": "markdown",
      "metadata": {
        "id": "Xi2uYBdndlLi"
      },
      "source": [
        "Uma imagem (comumente chamada de *raster*) pode ser armazenada de diferentes formas, uma delas é através do armazenamento individual: um raster independente para cada banda. Neste caso, cada arquivo possui metadados (sistema de coordenadas, limites geográficos, dimensões), independentes. Veja por exemplo as imagens do CBERS-04A (Figura 1):\n",
        "  * CBERS_4A_WPM_20200612_200_139_L4_BAND1.tif (Banda 1 - azul)\n",
        "  * CBERS_4A_WPM_20200612_200_139_L4_BAND2.tif (Banda 2 - verde)\n",
        "  * CBERS_4A_WPM_20200612_200_139_L4_BAND3.tif (Banda 3 - vermelho)\n",
        "\n",
        "![picture](https://drive.google.com/uc?id=19XAC4P_B_FlJ8TwZUu1y86F1yn_vPkLq)\n",
        "\n",
        "Figura 1 - Um raster independente para cada banda.\n",
        "\n",
        "**Obs.:** A associação de cores na Figura 1 acima é apenas ilustrativa."
      ]
    },
    {
      "cell_type": "markdown",
      "metadata": {
        "id": "ms_9D1_Ldof_"
      },
      "source": [
        "Outra maneira é armazenar diversas bandas no mesmo arquivo. Neste caso, o conjunto de metadados vale para todas as bandas. Por exemplo, é possível gerar um raster contendo as bandas 1, 2, 3 e 4 do CBERS-04A em um único arquivo GeoTIFF (Figura 2):\n",
        "  * CBERS_4A_WPM_20200612_200_139_L4_BANDS1234.tif\n",
        "\n",
        "![picture](https://drive.google.com/uc?id=16WVvfHfM3nxRxEcRskvwLRvkRbfFE8It)\n",
        "\n",
        "**Figura 2** - Um arquivo com múltiplas bandas.\n",
        "\n",
        "**Obs.:** Um raster pode ter qualquer número de bandas, desde que suportado pelo seu formato."
      ]
    },
    {
      "cell_type": "markdown",
      "metadata": {
        "id": "iN95XwtjeBZ6"
      },
      "source": [
        "## Grade"
      ]
    },
    {
      "cell_type": "markdown",
      "metadata": {
        "id": "CT_WgXCueCv_"
      },
      "source": [
        "A grade (ou *grid*) contém metadados relacionados às imagens, incluindo:\n",
        "  * limites geográficos\n",
        "  * sistema de referência espacial\n",
        "  * número de linhas/colunas\n",
        "  * 6 coeficientes para transformação afim:\n",
        "    * [0] coordenada $x$ da célula do canto superior esquerdo (*upper left cell*) do raster.\n",
        "    * [1] Resolução do pixel ao longo do eixo-$x$ .\n",
        "    * [2] rotação em $x$ (0 se o raster for alinhado ao norte).\n",
        "    * [3] coordenada $y$ da célula do canto superior esquerdo (*upper left cell*) do raster.\n",
        "    * [4] rotação em $y$ (0 se o raster for alinhado ao norte).\n",
        "    * [5] Resolução do pixel ao longo do eixo-$y$ ."
      ]
    },
    {
      "cell_type": "markdown",
      "metadata": {
        "id": "9-bPOiTHf3z6"
      },
      "source": [
        "## Banda  "
      ]
    },
    {
      "cell_type": "markdown",
      "metadata": {
        "id": "ZYbm3NcCf5cM"
      },
      "source": [
        "A banda (*band*) contém as informações dos níveis digitais das imagens, além de outras propriedades:\n",
        "  * NoDataValue\n",
        "  * Minimum/Maximum\n",
        "  * Histogram\n",
        "  * Tipo de dados\n",
        "  * Estatísticas (média/desvio padrão)\n",
        "  * matriz de pixels"
      ]
    },
    {
      "cell_type": "markdown",
      "metadata": {
        "id": "QIm4U1PQZh-m"
      },
      "source": [
        "# GDAL - **G**eospatial **D**ata **A**bstraction **L**ibrary\n",
        "---"
      ]
    },
    {
      "cell_type": "markdown",
      "metadata": {
        "id": "eF9o06aPKAMg"
      },
      "source": [
        "A `GDAL` é uma biblioteca de software livre que fornece uma camada de abstração de dados geoespaciais que possibilita o desenvolvimento de aplicações que manipulam dados nos mais diferentes formatos e sistemas. A API (*Application Programming Interface* ou Interface de Programação de Aplicações) desta biblioteca encontra-se disponível para uso em Python através de um *binding* (ou *wrapper*), que fornece acesso às funcionalidades implementadas em C++. \n",
        "\n",
        "\n",
        "A GDAL é basicamente composta de quatro APIs:\n",
        "\n",
        "* `GDAL`: Voltada para manipulação de dados matriciais (raster), com capacidade de leitura e escrita de [diversos formatos de imagem de sensoriamento remoto](http://gdal.org/formats_list.html), como GeoTIFF, HDF, e JPEG, entre outros. Esta parte da API contém objetos para manipulação das dimensões de uma imagem, para acesso de leitura e escrita de blocos das bandas espectrais de uma imagem, acesso a metadados e manipulação de pirâmides de multi-resolução.\n",
        "\n",
        "<br/>\n",
        "\n",
        "* `OGR`: Parte da API voltada para manipulação de dados em [formatos vetoriais](https://gdal.org/drivers/vector/index.html), tais como ESRI Shapefile, Google KML e GeoJSON. Apresenta os conceitos de camada de informação, feições, atributos alfanuméricos e geométricos.\n",
        "\n",
        "<br/>\n",
        "\n",
        "* `OSR`: Voltada para a manipulação de projeções e sistemas de referência espacial.\n",
        "\n",
        "<br/>\n",
        "\n",
        "* `GNM`: Acrônimo de Geographic Network Model, esta parte da API serve ao propósito de manipulação de redes geográficas.\n",
        "\n",
        "<br/>\n",
        "\n",
        "As aplicações que utilizam a GDAL acessam todos os formatos suportados por ela através de um único modelo de dados abstrato. Além disso, a GDAL também conta com uma variedade de programas utilitários de linha de comando para a tradução de formatos e alguns tipos básicos de processamento.\n",
        "\n",
        "<br/>\n",
        "\n",
        "Nesta aula, utilizaremos a GDAL para manipulação de imagens de sensoriamento remoto. Faremos acesso aos valores dos pixels das bandas, além da criação de matrizes no formato `numpy` (que será o nosso próximo tópico do curso). "
      ]
    },
    {
      "cell_type": "markdown",
      "metadata": {
        "id": "6c8CqgQkgb_4"
      },
      "source": [
        "## Importando a Biblioteca GDAL"
      ]
    },
    {
      "cell_type": "markdown",
      "metadata": {
        "id": "Tr2lRZeFg7tS"
      },
      "source": [
        "Para acessar a API `gdal`, que permitirá manipular as imagens, devemos importar a biblioteca `osgeo`, como mostrado abaixo:"
      ]
    },
    {
      "cell_type": "code",
      "metadata": {
        "id": "0nOMnx80K-Yz"
      },
      "source": [
        "from osgeo import gdal\n",
        "\n",
        "gdal.UseExceptions()"
      ],
      "execution_count": null,
      "outputs": []
    },
    {
      "cell_type": "markdown",
      "metadata": {
        "id": "UA6stiPih8yx"
      },
      "source": [
        "Repare, na célula de código acima, que além de importar a API `gdal` na primeira linha, ativamos o uso de exceções nas operações da biblioteca GDAL (método `UseExceptions` na segunda linha)."
      ]
    },
    {
      "cell_type": "markdown",
      "metadata": {
        "id": "8kMR2xr_MA28"
      },
      "source": [
        "**Atenção:** Esta aula foi elaborada com a versão `2.2.3` da `gdal`, o Python `3.6.9`, o Jupyter `4.5.0` e Jupyter Notebook `5.2.2`. Para saber a versão dessas ferramentas no seu ambiente de trabalho, use os comandos mostrados abaixo:"
      ]
    },
    {
      "cell_type": "code",
      "metadata": {
        "id": "rjXFHmADi4Kx"
      },
      "source": [
        "print (gdal.__version__)"
      ],
      "execution_count": null,
      "outputs": []
    },
    {
      "cell_type": "code",
      "metadata": {
        "id": "sp9hbTvaMIss"
      },
      "source": [
        "!python --version"
      ],
      "execution_count": null,
      "outputs": []
    },
    {
      "cell_type": "code",
      "metadata": {
        "id": "6h9X8DVTMQpz"
      },
      "source": [
        "!jupyter --version"
      ],
      "execution_count": null,
      "outputs": []
    },
    {
      "cell_type": "code",
      "metadata": {
        "id": "0girBpI6MTyD"
      },
      "source": [
        "!jupyter notebook --version"
      ],
      "execution_count": null,
      "outputs": []
    },
    {
      "cell_type": "markdown",
      "metadata": {
        "id": "RoKIWU0rMcFj"
      },
      "source": [
        "**Dica:** Dentro de um [Jupyter Notebook](https://jupyter-notebook.readthedocs.io/en/stable/) podemos utilizar o recurso de auto-completar. Após o operador de membro \"`.`\", o ambiente Jupyter irá fornecer uma lista das operações disponíveis:"
      ]
    },
    {
      "cell_type": "code",
      "metadata": {
        "id": "AnQNp9dyMqs7"
      },
      "source": [
        "gdal."
      ],
      "execution_count": null,
      "outputs": []
    },
    {
      "cell_type": "markdown",
      "metadata": {
        "id": "GFBvqxuaMs_t"
      },
      "source": [
        "Também podemos obter ajuda sobre as funções e objetos disponíveis em uma biblioteca utilizando o caracter `?` logo após o nome para o qual desejamos consultar a ajuda, como mostrado abaixo para a função `Open`:"
      ]
    },
    {
      "cell_type": "code",
      "metadata": {
        "id": "ogaOYltFMu7y"
      },
      "source": [
        "gdal.Open?"
      ],
      "execution_count": null,
      "outputs": []
    },
    {
      "cell_type": "markdown",
      "metadata": {
        "id": "WmTipGyRyzBy"
      },
      "source": [
        "**Dica:** Vocês verão que a documentação de bibliotecas como a Matplotlib e Numpy funciona muito bem no ambiente Jupyter."
      ]
    },
    {
      "cell_type": "markdown",
      "metadata": {
        "id": "MtfXEjAgj-FQ"
      },
      "source": [
        "## Abertura de um arquivo raster"
      ]
    },
    {
      "cell_type": "markdown",
      "metadata": {
        "id": "eZ_Stqq5kAIT"
      },
      "source": [
        "A função `Open` é utilizada para abrir um *conjunto de dados* (ou *dataset*), que exige dois parâmetros:\n",
        "  * **Nome do Arquivo**: caminho e nome completo\n",
        "\n",
        "  * **Forma de Acesso**: constante que indica se o arquivo será usado apenas para leitura (`GA_ReadOnly`) ou se também será utilizado em operações de escrita (`GA_Update`).\n",
        "\n",
        "<br/>\n",
        "\n",
        "Faça o download do arquivo [crop_rapideye.tif](https://drive.google.com/file/d/1WbQ3aYWjYPpHxA3Z03_qVVTAncgr7PV_/view?usp=sharing).\n",
        "\n",
        "<br/>\n",
        "\n",
        "Em seguida, copie este arquivo para a área de dados do seu ambiente do *Google Colab*. Esta área encontra-se disponível nas opções da barra de ferramentas do lado esquerdo da janela principal do *Google Colab*, como indicado na Figura 3 abaixo.\n",
        "\n",
        "![picture](https://drive.google.com/uc?id=1IcJHh8ulQl6CCQG_twxsdAbqXann5IbX)\n",
        "\n",
        "**Figura 3** - Acesso à pasta de dados do *Google Colab*.\n",
        "\n",
        "<br/>\n",
        "\n",
        "Ao selecionar o ícone com a figura de uma pasta, uma área como a mostrada abaixo será apresentada (Figura 4):\n",
        "\n",
        "![picture](https://drive.google.com/uc?id=1LygXiWEvH80E8PjXOmgHQyZEFwi-NmBp)\n",
        "\n",
        "**Figura 4** - Pasta de dados do *Google Colab*.\n",
        "\n",
        "<br/>\n",
        "\n",
        "\n",
        "Para copiar o arquivo [crop_rapideye.tif](https://drive.google.com/file/d/1WbQ3aYWjYPpHxA3Z03_qVVTAncgr7PV_/view?usp=sharing), basta arrastar e soltar este arquivo sobre a área apresentada, como mostrado na Figura 5 abaixo:\n",
        "\n",
        "![picture](https://drive.google.com/uc?id=16_f0A6Aa_Lhqu7b0rBapQDd2Mt_MMUDK)\n",
        "\n",
        "**Figura 5** - Arquivo [crop_rapideye.tif](https://drive.google.com/file/d/1WbQ3aYWjYPpHxA3Z03_qVVTAncgr7PV_/view?usp=sharing) copiado para a pasta de dados do *Google Colab*.\n",
        "\n",
        "<br/>\n",
        "\n",
        "**Atenção:** A área de dados será apagada assim que o ambiente do Google Colab for encerrado."
      ]
    },
    {
      "cell_type": "markdown",
      "metadata": {
        "id": "h2lpLp3i9Elt"
      },
      "source": [
        "Para abrir o arquivo `GeoTIFF` com a imagem, vamos utilizar a operação `Open` como mostrado abaixo:"
      ]
    },
    {
      "cell_type": "code",
      "metadata": {
        "id": "CKnA6WdkkKm2"
      },
      "source": [
        "dataset = gdal.Open(\"crop_rapideye.tif\", gdal.GA_ReadOnly)"
      ],
      "execution_count": null,
      "outputs": []
    },
    {
      "cell_type": "code",
      "metadata": {
        "id": "JY0Mvwm3EjW-",
        "colab": {
          "base_uri": "https://localhost:8080/"
        },
        "outputId": "9bc5e6fc-0f0e-4bc3-f985-a0006e3a8317"
      },
      "source": [
        "type(dataset)"
      ],
      "execution_count": null,
      "outputs": [
        {
          "output_type": "execute_result",
          "data": {
            "text/plain": [
              "osgeo.gdal.Dataset"
            ]
          },
          "metadata": {
            "tags": []
          },
          "execution_count": 3
        }
      ]
    },
    {
      "cell_type": "markdown",
      "metadata": {
        "id": "Lq4agpM8EpGr"
      },
      "source": [
        "## Estrutura do *Dataset*"
      ]
    },
    {
      "cell_type": "markdown",
      "metadata": {
        "id": "oieVB-oGwirE"
      },
      "source": [
        "### Sistema de Referência Espacial"
      ]
    },
    {
      "cell_type": "markdown",
      "metadata": {
        "id": "g5oMotCwwo0t"
      },
      "source": [
        "Para saber qual o sistema de coordenadas de um *Dataset*, deve ser utilizado o método `GetProjectionRef`, que retorna uma descrição no formato `WKT` (*Well-Known Text*). O `WKT` é um formato textual, padronizado pela OGC, para representação de sistemas de referência espacial dos objetos geográficos.\n",
        "\n",
        "<br/>\n",
        "\n",
        "A célula de código abaixo mostra como recuperar essa informação a partir do método  `GetProjectionRef`."
      ]
    },
    {
      "cell_type": "code",
      "metadata": {
        "id": "QkjATAs4xon2",
        "colab": {
          "base_uri": "https://localhost:8080/",
          "height": 139
        },
        "outputId": "57e787e4-53d5-417a-84d6-3255672ee23d"
      },
      "source": [
        "dataset.GetProjectionRef()"
      ],
      "execution_count": null,
      "outputs": [
        {
          "output_type": "execute_result",
          "data": {
            "application/vnd.google.colaboratory.intrinsic+json": {
              "type": "string"
            },
            "text/plain": [
              "'PROJCS[\"WGS 84 / UTM zone 21S\",GEOGCS[\"WGS 84\",DATUM[\"WGS_1984\",SPHEROID[\"WGS 84\",6378137,298.257223563,AUTHORITY[\"EPSG\",\"7030\"]],AUTHORITY[\"EPSG\",\"6326\"]],PRIMEM[\"Greenwich\",0,AUTHORITY[\"EPSG\",\"8901\"]],UNIT[\"degree\",0.0174532925199433,AUTHORITY[\"EPSG\",\"9122\"]],AUTHORITY[\"EPSG\",\"4326\"]],PROJECTION[\"Transverse_Mercator\"],PARAMETER[\"latitude_of_origin\",0],PARAMETER[\"central_meridian\",-57],PARAMETER[\"scale_factor\",0.9996],PARAMETER[\"false_easting\",500000],PARAMETER[\"false_northing\",10000000],UNIT[\"metre\",1,AUTHORITY[\"EPSG\",\"9001\"]],AXIS[\"Easting\",EAST],AXIS[\"Northing\",NORTH],AUTHORITY[\"EPSG\",\"32721\"]]'"
            ]
          },
          "metadata": {
            "tags": []
          },
          "execution_count": 4
        }
      ]
    },
    {
      "cell_type": "markdown",
      "metadata": {
        "id": "pVejrHAjxu3n"
      },
      "source": [
        "Um Sistema de Referência Espacial (*Spatial Reference System* - SRS) ou sistema de coordenadas de referência (*Coordinate Reference System* - CRS) pode ser um sistema local, regional ou global usado para localizar objetos geográficos.\n",
        "\n",
        "<br/>\n",
        "\n",
        "Para permitir uma maior interoperabilidade e facilidade na utilização, vários sistemas de informação geográfica fazem referência a um Sistema de Referência Espacial indicando apenas um número inteiro que representa o **SRID** ou códigos, como o **EPSG**, que são definidos por autoridades como a Associação Internacional de Produtores de Petróleo e Gás.\n",
        "\n",
        "<br/>\n",
        "\n",
        "Para identificar os códigos corretos para o sistema de referência espacial do seu interesse, veja os seguintes portais:\n",
        "\n",
        "* http://epsg.io\n",
        "\n",
        "* http://spatialreference.org "
      ]
    },
    {
      "cell_type": "markdown",
      "metadata": {
        "id": "5vMV_4q9E2AY"
      },
      "source": [
        "### Transformação Afim"
      ]
    },
    {
      "cell_type": "markdown",
      "metadata": {
        "id": "8gsNu6yyFPHw"
      },
      "source": [
        "O método `GetGeoTransform` retorna uma tupla com os *06 coeficientes* referentes à *transformação afim* do *dataset*, isto é, os parâmetros para transformação do espaço de coordenadas da imagem (linha e coluna) para coordendas georreferenciadas (coordenadas projetadas ou geográficas).\n",
        "\n",
        "<br/>\n",
        "\n",
        "Vamos obter o valor desses coeficientes:"
      ]
    },
    {
      "cell_type": "code",
      "metadata": {
        "id": "asUk_IAOFEun",
        "colab": {
          "base_uri": "https://localhost:8080/"
        },
        "outputId": "011c9c9b-4a1d-4c6a-bd54-49f417a4a5db"
      },
      "source": [
        "GT = dataset.GetGeoTransform()\n",
        "\n",
        "print(GT)"
      ],
      "execution_count": null,
      "outputs": [
        {
          "output_type": "stream",
          "text": [
            "(508810.0, 5.0, 0.0, 7857490.0, 0.0, -5.0)\n"
          ],
          "name": "stdout"
        }
      ]
    },
    {
      "cell_type": "markdown",
      "metadata": {
        "id": "5GHGZv1UG4s7"
      },
      "source": [
        "Na tupla acima, temos o seguinte:\n",
        "\n",
        "| Índice | Coeficiente | Descrição  |\n",
        "|---|---|---|\n",
        "| 0 | 508810.0 | Coordenada-$x$ do pixel do canto superior esquerdo da imagem. |\n",
        "| 1 | 5.0 | Resolução do pixel ao longo do eixo-$x$. |\n",
        "| 2 | 0.0 | Rotação ao longo das linhas. Zero para imagens alinhadas ao norte (*north-up image*). |\n",
        "| 3 | 7857490.0 | Coordenada-$y$ do pixel do canto superior esquerdo da imagem. |\n",
        "| 4 | 0.0 | Rotação ao longo das colunas. Zero para imagens alinhadas ao norte (*north-up image*) |\n",
        "| 5 | -5.0 | Resolução do pixel ao longo do eixo-$y$. |"
      ]
    },
    {
      "cell_type": "markdown",
      "metadata": {
        "id": "OhZAsQFFJAY-"
      },
      "source": [
        "Os parâmetros acima podem ser usados na seguinte equação de transformação:\n",
        "\n",
        "$$\n",
        "\\begin{cases}\n",
        "X_{geo} = GT[0] + Coluna * GT[1] + Linha * GT[2]\\\\\n",
        "Y_{geo} = GT[3] + Coluna * GT[4] + Linha * GT[5]\n",
        "\\end{cases}\n",
        "$$\n",
        "\n",
        "<br/>\n",
        "\n",
        "No caso de imagens alinhadas ao norte (*north up images*), essa equação se resume a:\n",
        "\n",
        "$$\n",
        "\\begin{cases}\n",
        "X_{geo} = GT[0] + Coluna * GT[1]\\\\\n",
        "Y_{geo} = GT[3] + Linha * GT[5]\n",
        "\\end{cases}\n",
        "$$\n"
      ]
    },
    {
      "cell_type": "markdown",
      "metadata": {
        "id": "2zaTslbFOKc8"
      },
      "source": [
        "Vamos calcular a localização no espaço geográfico do pixel da (coluna 20, linha 30):"
      ]
    },
    {
      "cell_type": "code",
      "metadata": {
        "id": "3DVyh4giOTtV",
        "colab": {
          "base_uri": "https://localhost:8080/"
        },
        "outputId": "bccf54c2-f684-42c5-b331-88c588f5be76"
      },
      "source": [
        "coluna = 20\n",
        "linha = 30\n",
        "\n",
        "x = GT[0] + coluna * GT[1]\n",
        "y = GT[3] + linha * GT[5]\n",
        "\n",
        "print(x, y)"
      ],
      "execution_count": null,
      "outputs": [
        {
          "output_type": "stream",
          "text": [
            "508910.0 7857340.0\n"
          ],
          "name": "stdout"
        }
      ]
    },
    {
      "cell_type": "markdown",
      "metadata": {
        "id": "PZctkl7SGDTP"
      },
      "source": [
        "**Nota:** Para mais informaçõs sobre essa operação, consulte o seguinte tutorial da GDAL: [Geotransform Tutorial](https://gdal.org/tutorials/geotransforms_tut.html)."
      ]
    },
    {
      "cell_type": "markdown",
      "metadata": {
        "id": "pWIfoVH2y0Q1"
      },
      "source": [
        "### Dimensões (Número de linhas e colunas)"
      ]
    },
    {
      "cell_type": "markdown",
      "metadata": {
        "id": "O4fMRn3Ky_iS"
      },
      "source": [
        "Para saber o número de linhas e colunas do *dataset* que está sendo utilizado, devemos utilizar as propriedades `RasterYSize` e `RasterXSize` conforme pode ser visto no exemplo abaixo:"
      ]
    },
    {
      "cell_type": "code",
      "metadata": {
        "id": "FmHxgZ8PzHfR"
      },
      "source": [
        "linhas = dataset.RasterYSize\n",
        "colunas = dataset.RasterXSize\n",
        "\n",
        "print (\"Número de linhas:\", linhas)\n",
        "print (\"Número de colunas:\", colunas)"
      ],
      "execution_count": null,
      "outputs": []
    },
    {
      "cell_type": "markdown",
      "metadata": {
        "id": "HCRTdtXRzRN4"
      },
      "source": [
        "### Bandas"
      ]
    },
    {
      "cell_type": "markdown",
      "metadata": {
        "id": "abrVi9CPzTmZ"
      },
      "source": [
        "Para saber o número de bandas de um *Dataset*, podemos utilizar a propriedade `RasterCount`, como indicado abaixo:"
      ]
    },
    {
      "cell_type": "code",
      "metadata": {
        "id": "y_72PtlKzqsH",
        "colab": {
          "base_uri": "https://localhost:8080/"
        },
        "outputId": "e7ddffca-8d22-468e-89de-0d9ccef175d8"
      },
      "source": [
        "dataset.RasterCount"
      ],
      "execution_count": null,
      "outputs": [
        {
          "output_type": "execute_result",
          "data": {
            "text/plain": [
              "5"
            ]
          },
          "metadata": {
            "tags": []
          },
          "execution_count": 7
        }
      ]
    },
    {
      "cell_type": "markdown",
      "metadata": {
        "id": "D8FnaTWKzrKx"
      },
      "source": [
        "Como pode ser observado na saída acima, o arquivo `crop_rapideye.tif` possui 5 bandas espectrais.\n",
        "\n",
        "<br/>\n",
        "\n",
        "**Atenção:** A GDAL numera as bandas de $1$ até $n$, onde $n$ é o número total de bandas contidas no `Dataset`. Lembre-se que os objetos do Python, como listas e tuplas, são indexados a partir do número $0$ até $n - 1$.\n",
        "\n",
        "<br/>\n",
        "\n",
        "No caso da amostra de imagem RapidEye, as bandas `5` e `3` correspondem às bandas `NIR` e `RED`. Para acessar os dados dessas bandas, devemos utilizar o método `GetRasterBand`, que retornará um objeto capaz de manipular os dados de uma dada banda. A célula abaixo mostra como utilizar essa operação."
      ]
    },
    {
      "cell_type": "code",
      "metadata": {
        "id": "lUc0NGb82fn6"
      },
      "source": [
        "banda_nir = dataset.GetRasterBand(5)\n",
        "banda_red = dataset.GetRasterBand(3)"
      ],
      "execution_count": null,
      "outputs": []
    },
    {
      "cell_type": "markdown",
      "metadata": {
        "id": "hRsh7m2h2syI"
      },
      "source": [
        "Uma propriedade importante para manipulação correta dos dados é o tipo do dado armazenado e que pode ser lido a partir da banda."
      ]
    },
    {
      "cell_type": "code",
      "metadata": {
        "id": "ctl6Iv8e2ufW",
        "colab": {
          "base_uri": "https://localhost:8080/"
        },
        "outputId": "a5baffba-f5cc-46aa-c1c1-95bf9f8a702f"
      },
      "source": [
        "print (\"Tipos de dados:\")\n",
        "print (\" - banda NIR:\", gdal.GetDataTypeName(banda_nir.DataType))\n",
        "print (\" - banda RED:\", gdal.GetDataTypeName(banda_red.DataType))"
      ],
      "execution_count": null,
      "outputs": [
        {
          "output_type": "stream",
          "text": [
            "Tipos de dados:\n",
            " - banda NIR: UInt16\n",
            " - banda RED: UInt16\n"
          ],
          "name": "stdout"
        }
      ]
    },
    {
      "cell_type": "markdown",
      "metadata": {
        "id": "e3vxIEWu2yUP"
      },
      "source": [
        "É possível saber quais os valores mínimo e máximo dos pixels de uma banda utilizando o método `ComputeRasterMinMax`:"
      ]
    },
    {
      "cell_type": "code",
      "metadata": {
        "id": "66U14Y_F20Il",
        "colab": {
          "base_uri": "https://localhost:8080/"
        },
        "outputId": "3c13c41d-b59a-43c4-fe69-1a682281336b"
      },
      "source": [
        "menor_valor, maior_valor = banda_red.ComputeRasterMinMax()\n",
        "\n",
        "print(\"Menor valor de RED:\", menor_valor)\n",
        "print(\"Maior valor de RED:\", maior_valor)"
      ],
      "execution_count": null,
      "outputs": [
        {
          "output_type": "stream",
          "text": [
            "Menor valor de RED: 0.0\n",
            "Maior valor de RED: 20693.0\n"
          ],
          "name": "stdout"
        }
      ]
    },
    {
      "cell_type": "markdown",
      "metadata": {
        "id": "LffJOWHMUXGE"
      },
      "source": [
        "### Leitura dos dados de uma banda"
      ]
    },
    {
      "cell_type": "markdown",
      "metadata": {
        "id": "amp9O0_lUaDb"
      },
      "source": [
        "Depois de criado o objeto banda (`banda_nir` e `banda_red`), podemos ler os dados dessa banda para iniciar qualquer processamento com estes valores. Para isso, utilizaremos o método `ReadAsArray`, que permitirá obter os dados da banda em uma matriz **NumPy**."
      ]
    },
    {
      "cell_type": "code",
      "metadata": {
        "id": "Mk9aIm5LgdNY"
      },
      "source": [
        "matriz_red = banda_red.ReadAsArray()"
      ],
      "execution_count": null,
      "outputs": []
    },
    {
      "cell_type": "markdown",
      "metadata": {
        "id": "83QDDwXUgphr"
      },
      "source": [
        "Essa operação retornará uma matriz do `Numpy`:"
      ]
    },
    {
      "cell_type": "code",
      "metadata": {
        "id": "LcbHpWwSgk7j"
      },
      "source": [
        "type(matriz_red)"
      ],
      "execution_count": null,
      "outputs": []
    },
    {
      "cell_type": "code",
      "metadata": {
        "id": "SzmkJud0uEpT"
      },
      "source": [
        "matriz_red"
      ],
      "execution_count": null,
      "outputs": []
    },
    {
      "cell_type": "markdown",
      "metadata": {
        "id": "MyqfFCA4gz1c"
      },
      "source": [
        "Agora, podemos utilizar todas as operações disponíveis na `NumPy`:\n",
        "\n",
        "* Para verificar se a matriz gerada com a leitura da banda foi criada com o número de linhas e colunas de forma correta, podemos utilizar o atributo `shape`:"
      ]
    },
    {
      "cell_type": "code",
      "metadata": {
        "id": "Q7Ea-bFAg7Nb"
      },
      "source": [
        "matriz_red.shape"
      ],
      "execution_count": null,
      "outputs": []
    },
    {
      "cell_type": "markdown",
      "metadata": {
        "id": "AhEkXHnrjHP1"
      },
      "source": [
        "* Para saber o tipos de dados das células da matriz, podemos usar a propriedade `dtype`:"
      ]
    },
    {
      "cell_type": "code",
      "metadata": {
        "id": "KnGKPh8wgugL"
      },
      "source": [
        "matriz_red.dtype"
      ],
      "execution_count": null,
      "outputs": []
    },
    {
      "cell_type": "markdown",
      "metadata": {
        "id": "R4z7S4Jkgye3"
      },
      "source": [
        "Vamos obter uma matriz `NumPy` para a banda `NIR`:"
      ]
    },
    {
      "cell_type": "code",
      "metadata": {
        "id": "FEOJJuJugnjy"
      },
      "source": [
        "matriz_nir = banda_nir.ReadAsArray()"
      ],
      "execution_count": null,
      "outputs": []
    },
    {
      "cell_type": "markdown",
      "metadata": {
        "id": "JFbL-01hjnU3"
      },
      "source": [
        "Agora, vamos computar um índice de vegetação, o `NDVI`, a partir das matrizes com os valores das bandas `RED` e `NIR`:"
      ]
    },
    {
      "cell_type": "code",
      "metadata": {
        "id": "vySjpWkNjwn6"
      },
      "source": [
        "matriz_red = matriz_red.astype(float)\n",
        "matriz_nir = matriz_nir.astype(float)\n",
        "\n",
        "# geracao de array derivado das bandas\n",
        "matriz_ndvi = (matriz_nir - matriz_red) / \\\n",
        "              (matriz_nir + matriz_red + 0.000000001)\n",
        "\n",
        "# mostrar as dimensoes e tipo de dado da matriz de saida\n",
        "print(matriz_ndvi.shape)\n",
        "print(matriz_ndvi.dtype)"
      ],
      "execution_count": null,
      "outputs": []
    },
    {
      "cell_type": "code",
      "metadata": {
        "id": "vtlLPqC0vS2d"
      },
      "source": [
        "matriz_ndvi"
      ],
      "execution_count": null,
      "outputs": []
    },
    {
      "cell_type": "markdown",
      "metadata": {
        "id": "K2iRg1dygciq"
      },
      "source": [
        "\n",
        "Podemos combinar as bibliotecas **NumPy** e **Matplotlib** para visualizar as matrizes como imagens."
      ]
    },
    {
      "cell_type": "code",
      "metadata": {
        "id": "1XsMXeLJlFo-"
      },
      "source": [
        "import matplotlib.pyplot as plt\n",
        "\n",
        "plt.figure(figsize=(16, 8))\n",
        "\n",
        "plt.subplot(131)\n",
        "plt.title(\"Banda RED\")\n",
        "plt.imshow(matriz_red, cmap='gray');\n",
        "\n",
        "plt.subplot(132)\n",
        "plt.title(\"Banda NIR\")\n",
        "plt.imshow(matriz_nir, cmap='gray');\n",
        "\n",
        "plt.subplot(133)\n",
        "plt.title(\"NDVI\")\n",
        "plt.imshow(matriz_ndvi, cmap='gray', vmin=-1.0, vmax=1.0);"
      ],
      "execution_count": null,
      "outputs": []
    },
    {
      "cell_type": "markdown",
      "metadata": {
        "id": "LMLGXrCMP6S0"
      },
      "source": [
        "### Liberando um *Dataset*"
      ]
    },
    {
      "cell_type": "markdown",
      "metadata": {
        "id": "IxqR3JqMEUzO"
      },
      "source": [
        "Para liberar a memória e fechar o arquivo aberto, associe o valor `None` ao identificador do `dataset`:"
      ]
    },
    {
      "cell_type": "code",
      "metadata": {
        "id": "gUvDTDuHdDDG"
      },
      "source": [
        "dataset = None "
      ],
      "execution_count": null,
      "outputs": []
    },
    {
      "cell_type": "markdown",
      "metadata": {
        "id": "5RunVFhPlQxs"
      },
      "source": [
        "# Considerações Finais\n",
        "---"
      ]
    },
    {
      "cell_type": "markdown",
      "metadata": {
        "id": "Ou1x7YdMlbcg"
      },
      "source": [
        "Na próxima aula iremos ver em detalhes o funcionamento das bibliotecas `NumPy` e `Matplotlib`. Ao trabalhar com processamento de imagens, geralmente combinamos as bibliotecas GDAL e NumPy para realizar novas operações, e GDAL e Matplotlib para construir as visualizações."
      ]
    }
  ]
}