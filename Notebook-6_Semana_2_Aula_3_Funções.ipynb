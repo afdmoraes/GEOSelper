{
  "nbformat": 4,
  "nbformat_minor": 0,
  "metadata": {
    "colab": {
      "provenance": [],
      "collapsed_sections": [
        "ZjLJD7d97HL4",
        "fHiJDvAS8ARq",
        "cF2sfGm18D2L",
        "iipUsZ8i8lwX",
        "rKVqdZr-8zet",
        "sARBwM8N9uso",
        "sOEU71RZEbtR",
        "e42YrREkEoPp",
        "8VRsoSNeE1K3",
        "myLrJ0HjFGDg",
        "yZeI-wAeFQvF",
        "2PGgpzwcF9ZO"
      ],
      "include_colab_link": true
    },
    "kernelspec": {
      "name": "python3",
      "display_name": "Python 3"
    }
  },
  "cells": [
    {
      "cell_type": "markdown",
      "metadata": {
        "id": "view-in-github",
        "colab_type": "text"
      },
      "source": [
        "<a href=\"https://colab.research.google.com/github/afdmoraes/GEOSelper/blob/main/Notebook-6_Semana_2_Aula_3_Fun%C3%A7%C3%B5es.ipynb\" target=\"_parent\"><img src=\"https://colab.research.google.com/assets/colab-badge.svg\" alt=\"Open In Colab\"/></a>"
      ]
    },
    {
      "cell_type": "markdown",
      "metadata": {
        "id": "2FrUDDadsNzU"
      },
      "source": [
        "# Curso de Programação para Sensoriamento Remoto\n",
        "---\n",
        "\n",
        "* Gilberto Ribeiro de Queiroz\n",
        "* Thales Sehn Körting\n",
        "\n",
        "## Tópico desta aula\n",
        "\n",
        "* Funções\n",
        "\n"
      ]
    },
    {
      "cell_type": "markdown",
      "metadata": {
        "id": "fm2CYzhPUNJ4"
      },
      "source": [
        "# Introdução\n",
        "---\n"
      ]
    },
    {
      "cell_type": "markdown",
      "metadata": {
        "id": "Ygxml7WB3eOf"
      },
      "source": [
        "Toda linguagem de programação de alto nível possui alguns comandos que são compostos, isto é, comandos que contém grupos de outros comandos. Os comandos `if`, `while`, e `for`, vistos nas aulas anteriores, são exemplos de comandos compostos que permitem controlar o fluxo de execução de um outro grupo de comandos.\n",
        "\n",
        "\n",
        "Como vimos, um laço do tipo `while` pode conter um único comando ou uma sequência de diversos outros comandos, inclusive pode conter outros comandos do tipo `while` (chamamos isso de comandos `while` aninhados).\n",
        "\n",
        "\n",
        "Em Python, temos outros quatro tipos de comandos compostos, são eles:\n",
        "- `try`: que define um bloco de comandos onde é possível realizar tratamento de exceções durante a execução de seus comandos.\n",
        "\n",
        "- `with`: definição de um bloco de comandos que deva inicializar algum recurso no início da sua execução e ao final da sua execução tenha que finalizar (ou liberar) esses recursos.\n",
        "\n",
        "- `def`: permite definir uma função.\n",
        "\n",
        "- `class`: permite definição de classes.\n",
        "\n",
        "\n",
        "Esta aula irá abordar o tópico de criação de funções. Em outras aulas iremos discutir os demais comandos compostos."
      ]
    },
    {
      "cell_type": "markdown",
      "metadata": {
        "id": "03sCU3Z533aC"
      },
      "source": [
        "# Funções\n",
        "---"
      ]
    },
    {
      "cell_type": "markdown",
      "metadata": {
        "id": "eIlakdbe37fR"
      },
      "source": [
        "Uma forma de modularizar programas consiste em organizá-los em **procedimentos** ou **funções**. Uma função é um bloco de código auto-contido, identificado com um nome, uma lista de parâmetros e que pode ser invocada em nossos programas da mesma forma que as funções da linguagem Python.\n",
        "\n",
        "\n",
        "A `Figura 1` apresenta a lógica de uso de uma função denominada `f`. Repare que o programa após executar os comandos `comando #1` e `comando #2`, desvia seu fluxo de execução ao atingir o comando `v = f(...)`. Nesse ponto dizemos que a função `f` foi *chamada* ou *invocada*. O fluxo é então desviado para a sequência de instruções definida pela função, mostrada no lado direito da `Figura 1`. A sequência de comandos da função `f` é encerrada quando o comando `return` é encontrado, devolvendo o controle do programa para a linha onde a função foi chamada. O valor produzido pela função `f` será associado ao nome `v` (ou variável `v`) e o programa continuará a execução da sequência de instruções a partir do comando `comando #i + 1`.\n",
        "\n",
        "<img src=\"https://drive.google.com/uc?id=13XR62rvWzqIL0EnF-GlU2r5CDjqbA0eK\" alt=\"Ilustração da chamada de uma função\" width=\"640\">\n",
        "<br/>\n",
        "<b>Figura 1</b> - Ilustração do processo de chamada de uma função.\n"
      ]
    },
    {
      "cell_type": "markdown",
      "metadata": {
        "id": "2PUgI6M847ar"
      },
      "source": [
        "# Definindo uma Função\n",
        "---"
      ]
    },
    {
      "cell_type": "markdown",
      "metadata": {
        "id": "8jZDOn_h499t"
      },
      "source": [
        "Uma função em Python pode ser definida utilizando a palavra reservada `def` seguida do nome da função e a lista de parâmetros formais dessa função. A `Figura 2` mostra a definição da função `Fatorial`. A linha com a *assinatura* ou *declaração* da função é terminada com o símbolo `:`. Logo abaixo dessa linha incluímos o corpo da função, isto é, uma sequência de comandos que implementa a funcionalidade a ser fornecida pela função. Repare que a sequência de comandos do corpo da função deve ser indentada, isto é, a sequência deve possuir um recuo à direita. Em geral, usamos 4 espaços nesse recuo.\n",
        "\n",
        "\n",
        "<img src=\"https://drive.google.com/uc?id=1qWgo6So54gpegXR_k8Iy7b-CiqdS1HoO\" alt=\"Definindo uma função chamada Fatorial\" width=\"480\">\n",
        "<br/>\n",
        "\n",
        "<b>Figura 2</b> - Definição de uma função chamada `Fatorial`.\n",
        "\n",
        "A instrução `return` pode ser usada para indicar um ponto de saída da função, isto é, um ponto em que ela já tenha realizado sua computação e deva retornar um mais valores produzidos pela função.\n",
        "\n",
        "\n",
        "Uma função pode não retornar nenhum valor, como é o caso da função `print` de Python que apenas escreve um texto na saída padrão. Nesse tipo de função a instrução `return` pode ser utilizada sem nenhuma expressão a sua direita.\n",
        "\n",
        "\n",
        "Em Python uma função pode retornar mais de um valor. Nesse caso a instrução `return` pode ser usada para retornar uma lista de valores.\n",
        "\n",
        "\n",
        "A função `Fatorial` mostrada abaixo computa o fatorial de um número inteiro positivo:"
      ]
    },
    {
      "cell_type": "code",
      "metadata": {
        "id": "2avh1H055Rdv"
      },
      "source": [
        "def Fatorial(num):\n",
        "\n",
        "    if (num < 0) or (type(num) != int):\n",
        "        raise ValueError(\"O Fatorial só é definido para números inteiros positivos!\")\n",
        "\n",
        "    produto = 1\n",
        "\n",
        "    while(num > 0):\n",
        "        produto = produto * num\n",
        "\n",
        "        num = num - 1\n",
        "\n",
        "    return produto"
      ],
      "execution_count": null,
      "outputs": []
    },
    {
      "cell_type": "markdown",
      "metadata": {
        "id": "UCfxdYzS6Pbc"
      },
      "source": [
        "Repare na definição da função `Fatorial` (`linha 1`) que ela possui um único parâmetro formal chamado `num`. Isso indica que a função `Fatorial` deverá ser chamada com apenas um argumento. Além disso, na `linha 13` após terminar a computação do valor do fatorial que estará associado ao nome `produto`, a instrução `return` irá retornar o fluxo de execução do programa para a linha que chamou essa função.\n",
        "\n",
        "\n",
        "Na definição da função `Fatorial` acima, ainda podemos observar que o bloco de comandos contido na função encontra-se indentado com 4 espaços. A `linha 4` possui um recuo maior pois esse comando faz parte do comando `if` da `linha 3`. Da mesma maneira, as `linhas 9 e 11` possuem um recuo maior pois fazem parte da instrução `while` da `linha 8`.\n",
        "\n",
        "\n",
        "O trecho de código abaixo mostra como essa função pode ser chamada em um programa, supondo que ela tenha sido definida anteriormente:"
      ]
    },
    {
      "cell_type": "code",
      "metadata": {
        "id": "P2HTLu2_6em2"
      },
      "source": [
        "print(\"Exemplo de uso da função Fatorial!\")\n",
        " \n",
        "resultado = Fatorial(6)\n",
        "\n",
        "print(resultado)"
      ],
      "execution_count": null,
      "outputs": []
    },
    {
      "cell_type": "markdown",
      "metadata": {
        "id": "e2oyLpQO6sTc"
      },
      "source": [
        "Na linha 3 do programa acima, ao chamar a função `Fatorial` com o valor `6` como argumento dessa função, o fluxo de controle é passado para a sequência de comandos do corpo da função `Fatorial`. O valor `6` será associado ao parâmetro `num` na função `Fatorial`, ou seja, dentro da função esse valor `6` será usado através da variável `num`. A `linha 13` da função `Fatorial` retorna o valor calculado, que ficará então associado ao nome `resultado` na `linha 3` do programa, que então voltará a executar sua sequência de instruções.\n",
        "\n",
        "\n",
        "Agora, vamos criar uma nova função para calcular a distância euclidiana entre dois pontos no espaço cartesiano:"
      ]
    },
    {
      "cell_type": "code",
      "metadata": {
        "id": "0LZwr_hy6upS"
      },
      "source": [
        "import math\n",
        "\n",
        "def DistanciaEuclidiana(x1, y1, x2, y2):\n",
        "      \n",
        "    Δx = x1 - x2\n",
        "    Δy = y1 - y2\n",
        "    \n",
        "    d = math.sqrt(Δx**2 + Δy**2)\n",
        "    \n",
        "    return d"
      ],
      "execution_count": null,
      "outputs": []
    },
    {
      "cell_type": "markdown",
      "metadata": {
        "id": "gaKDRj8P6x2L"
      },
      "source": [
        "Essa nova função foi nomeada de `DistanciaEuclidiana`, sendo definida com quatro parâmetros: `x1`, `y1`, `x2`, e `y2`. Portanto, para ser usada em um programa ela deverá ser chamada fornecendo quatro argumentos, como no programa abaixo:"
      ]
    },
    {
      "cell_type": "code",
      "metadata": {
        "id": "nXTm9JMu60ab"
      },
      "source": [
        "d1 = DistanciaEuclidiana(0, 0, 1, 1)\n",
        "\n",
        "print(d1)\n",
        "\n",
        "d2 = DistanciaEuclidiana(2, 3, 10, 3)\n",
        "\n",
        "print(d2)"
      ],
      "execution_count": null,
      "outputs": []
    },
    {
      "cell_type": "markdown",
      "metadata": {
        "id": "PZhil2AE65oJ"
      },
      "source": [
        "Se você informar um número menor de argumentos na chamada da função `DistanciaEuclidiana`, como no trecho de código abaixo, o compilador Python irá lançar uma exceção, indicando o erro da falta do quarto parâmetro:"
      ]
    },
    {
      "cell_type": "code",
      "metadata": {
        "id": "JHSA91Ff60tV"
      },
      "source": [
        "d3 = DistanciaEuclidiana(0, 0, 1)"
      ],
      "execution_count": null,
      "outputs": []
    },
    {
      "cell_type": "markdown",
      "metadata": {
        "id": "84VfAT0a7BET"
      },
      "source": [
        "**Observação:** A definição de uma função não faz com que o corpo da função seja executada. O corpo somente é executado quando a função é chamada (ou invocada)."
      ]
    },
    {
      "cell_type": "markdown",
      "metadata": {
        "id": "ZjLJD7d97HL4"
      },
      "source": [
        "# Funções Recursivas\n",
        "---"
      ]
    },
    {
      "cell_type": "markdown",
      "metadata": {
        "id": "dz6FBseO7NLK"
      },
      "source": [
        "Como você deve ter observado na função `DistanciaEuclidiana`, uma função pode chamar outras funções, como foi o caso da função `math.sqrt` da biblioteca padrão de Python. Isso possbilita a construção de programas bem organizados, agrupando a lógica desse programa em várias funções menores, cada uma com um papel bem definido.\n",
        "\n",
        "\n",
        "Outro recurso das linguagens de programação é a criação de **funções recursivas**, isto é, funções que são definidas através de chamadas da própria função. Esse recurso é muito importante pois vários problemas são inerentemente recursivos por natureza. Por exemplo, o fatorial de um número $n$, $n \\in Z^+$, pode ser definido através da seguinte equação de recorrência:\n",
        "$$\n",
        " n! =\n",
        "  \\begin{cases}\n",
        "    1       & \\quad \\text{se } n = 0\\\\\n",
        "    n \\times (n - 1)! & \\quad \\text{se } n > 0\n",
        "  \\end{cases}\n",
        "$$\n",
        "\n",
        "\n",
        "Uma função para calcular o fatorial poderia ser expressa da seguinte forma:"
      ]
    },
    {
      "cell_type": "code",
      "metadata": {
        "id": "_-eez9-f7R0V"
      },
      "source": [
        "def FatorialRec(n):\n",
        "\n",
        "    if n == 0:\n",
        "        return 1\n",
        "    else:\n",
        "        return n * FatorialRec(n - 1) "
      ],
      "execution_count": null,
      "outputs": []
    },
    {
      "cell_type": "markdown",
      "metadata": {
        "id": "nUHzYDCU7Uo_"
      },
      "source": [
        "Repare como essa versão da função fatorial é mais simples de ser compreendida do que a função definida no início dessa aula, que foi construída de forma iterativa através de um laço do tipo `while`.\n",
        "\n",
        "\n",
        "A forma de usar a função `FatorialRec` é a mesma de uma função não-recursiva:"
      ]
    },
    {
      "cell_type": "code",
      "metadata": {
        "id": "kIXgWNme7V60"
      },
      "source": [
        "print(\"Exemplo de uso da função fatorial recursiva!\")\n",
        "\n",
        "resultado = FatorialRec(6)\n",
        "\n",
        "print(resultado)"
      ],
      "execution_count": null,
      "outputs": []
    },
    {
      "cell_type": "markdown",
      "metadata": {
        "id": "3HZZOSUz7X6J"
      },
      "source": [
        "Observações:\n",
        "- Nem sempre um algoritmo implementado de forma **recursiva** será mais fácil de ser compreendido do que sua versão **iterativa**.<br><br>\n",
        "\n",
        "- Muitas vezes, as funções recursivas podem sofrer com problemas de eficiência, uma vez que elas fazem com que as chamadas sejam empilhadas diversas vezes. Mas uma boa prática de programação consiste em primeiro construir uma algoritmo que funcione corretamente e depois otimizá-lo, seja removendo a recursividade ou utilizando alguma técnica especial.<br><br>\n",
        "\n",
        "- Vários compiladores eliminam automaticamente a recursividade durante a compilação de uma função recursiva. No entanto, Python não faz isso.<br><br>\n",
        "\n",
        "Um exemplo de mau emprego da recursividade ocorre no cálculo de um termo da sequência de Fibonacci. Lembrando que essa sequência é definida através da seguinte fórmula de recorrência:\n",
        "\n",
        "$$\n",
        " F(n) =\n",
        "  \\begin{cases}\n",
        "    1       & \\quad \\text{se } n = 1\\\\\n",
        "    1       & \\quad \\text{se } n = 2\\\\\n",
        "    F(n - 1) + F(n - 2) & \\quad \\text{se } n > 2\n",
        "  \\end{cases}\n",
        "$$\n",
        "\n",
        "Portanto, essa fórmula nos permitiria computar os termos da série:\n",
        "```\n",
        "1, 1, 2, 3, 5, 8, 13, 21, 34, 55, 89, 144, ...\n",
        "```\n",
        "\n",
        "Vamos criar uma função chamada `FibRec` que implemente essa fórmula de maneira recursiva:"
      ]
    },
    {
      "cell_type": "code",
      "metadata": {
        "id": "h3At7oWf7nSm"
      },
      "source": [
        "def FibRec(n):\n",
        "    if (n == 1) or (n == 2):\n",
        "        return 1\n",
        "    else:\n",
        "        return FibRec(n - 1) + FibRec(n - 2)"
      ],
      "execution_count": null,
      "outputs": []
    },
    {
      "cell_type": "markdown",
      "metadata": {
        "id": "h9VZucax7o_C"
      },
      "source": [
        "Para calcularmos o nono termo da série, poderíamos chamar a função `FibRec` da seguinte maneira:"
      ]
    },
    {
      "cell_type": "code",
      "metadata": {
        "id": "Uv68WVLr7qZ2"
      },
      "source": [
        "FibRec(9)"
      ],
      "execution_count": null,
      "outputs": []
    },
    {
      "cell_type": "markdown",
      "metadata": {
        "id": "3hwjqeiE7uAX"
      },
      "source": [
        "A versão iterativa da função que computa os termos de Fibonacci é mostrada abaixo:"
      ]
    },
    {
      "cell_type": "code",
      "metadata": {
        "id": "Ck1-yXvm7rGw"
      },
      "source": [
        "def FibIter(n):\n",
        "    a, b = 1, 1\n",
        "    \n",
        "    while n > 2:\n",
        "        a, b = b, a + b\n",
        "        n -= 1\n",
        "\n",
        "    return b"
      ],
      "execution_count": null,
      "outputs": []
    },
    {
      "cell_type": "markdown",
      "metadata": {
        "id": "kVvaeB7k7yb7"
      },
      "source": [
        "Assim como na função recursiva, nessa versão iterativa para calcularmos o nono termo da série basta chamar a função `FibIter`:"
      ]
    },
    {
      "cell_type": "code",
      "metadata": {
        "id": "-CgTzEF-7v92"
      },
      "source": [
        "FibIter(9)"
      ],
      "execution_count": null,
      "outputs": []
    },
    {
      "cell_type": "markdown",
      "metadata": {
        "id": "MkELJFSU725T"
      },
      "source": [
        "Qual a diferença na forma de computar os termos da série de Fibonacci entre as versões recursiva (`FibRec`) e iterativa (`FibIter`)?\n",
        "\n",
        "<br/>\n",
        "\n",
        "Repare que enquanto a versão iterativa reaproveita os valores calculados em cada iteração, a versão recursiva recomputa todos os valores já computados em alguma outra chamada recursiva.\n",
        "\n",
        "<br/>\n",
        "\n",
        "Veja que essa diferença não ocorre entre as versões recursiva e iterativa da função fatorial, pois o fatorial recursivo nunca chama novamente a função fatorial para um mesmo número."
      ]
    },
    {
      "cell_type": "markdown",
      "metadata": {
        "id": "fHiJDvAS8ARq"
      },
      "source": [
        "# Funções com Número Variável de Argumentos\n",
        "---"
      ]
    },
    {
      "cell_type": "markdown",
      "metadata": {
        "id": "lsmmdYMv8ByX"
      },
      "source": [
        "Em geral as linguagens de programação imperativa permitem criar funções que podem ser chamadas com um número diferente de argumentos. Em Python temos três formas de construir funções com número variável de argumentos. Esta seção discute como criar tais funções."
      ]
    },
    {
      "cell_type": "markdown",
      "metadata": {
        "id": "cF2sfGm18D2L"
      },
      "source": [
        "## Parâmetros Default"
      ]
    },
    {
      "cell_type": "markdown",
      "metadata": {
        "id": "hRVDtBpq8Hk8"
      },
      "source": [
        "Os parâmetros de uma função podem ser associados a valores *default*, isto é, caso o parâmetro seja omitido na chamada da função, o valor *default* será utilizado. Dessa forma, podemos criar uma função que pode ser chamada com um número menor de argumentos do que a lista de parâmetros da sua definição.\n",
        "\n",
        "\n",
        "A função `Graus2Radianos` mostrada abaixo define o valor padrão de $3.14$ para o parâmetro $\\pi$."
      ]
    },
    {
      "cell_type": "code",
      "metadata": {
        "id": "O47DgPJH8LPZ"
      },
      "source": [
        "def Graus2Radianos(α, π=3.14):\n",
        "    x = α * π / 180.0\n",
        "    \n",
        "    return x"
      ],
      "execution_count": null,
      "outputs": []
    },
    {
      "cell_type": "markdown",
      "metadata": {
        "id": "p5KCO_-V8MO5"
      },
      "source": [
        "A função acima pode ser chamada com apenas um argumento, onde informamos o valor do ângulo $\\alpha$ a ser convertido de graus para radianos:"
      ]
    },
    {
      "cell_type": "code",
      "metadata": {
        "id": "BdI2xiI-8QjU"
      },
      "source": [
        "Graus2Radianos(45)"
      ],
      "execution_count": null,
      "outputs": []
    },
    {
      "cell_type": "markdown",
      "metadata": {
        "id": "do-S8f5j8S0Z"
      },
      "source": [
        "Ou pode ser chamada informando-se um novo valor para o parâmetro $\\pi$:"
      ]
    },
    {
      "cell_type": "code",
      "metadata": {
        "id": "UhT5LWZb8Ukk"
      },
      "source": [
        "Graus2Radianos(45, 3.1)"
      ],
      "execution_count": null,
      "outputs": []
    },
    {
      "cell_type": "markdown",
      "metadata": {
        "id": "riMErD7K8Yhz"
      },
      "source": [
        "Como pode ser visto, ao definirmos um parâmetro como tendo um valor *default*, tornamos esse parâmetro opcional.\n",
        "\n",
        "<br/>\n",
        "\n",
        "Algumas observações sobre o uso de parâmeros *default*:\n",
        "* É importante notar que os valores de parâmetros *default* são avaliados da esquerda para a direita quando a função é definida. Isto significa que isso é feito uma única vez no programa, extamente no ponto de definição da função.<br><br>\n",
        "\n",
        "* Outro ponto importante é que após a definição de um parâmetro opcional, os demais parâmetros também devem ser opcionais, caso contrário será gerado um erro na compilação do código: \n",
        "```python\n",
        "SyntaxError: non-default argument follows default argument\n",
        "```"
      ]
    },
    {
      "cell_type": "markdown",
      "metadata": {
        "id": "iipUsZ8i8lwX"
      },
      "source": [
        "## Chamando Funções com Argumentos Nomeados"
      ]
    },
    {
      "cell_type": "markdown",
      "metadata": {
        "id": "dYxIvUsi8mtP"
      },
      "source": [
        "*Uma* função também pode ser chamada com os argumentos na forma de pares `nome/valor` (*keyword arguments*):"
      ]
    },
    {
      "cell_type": "code",
      "metadata": {
        "id": "zX6t-DD68o2q"
      },
      "source": [
        "Graus2Radianos(π=3.1, α=45)"
      ],
      "execution_count": null,
      "outputs": []
    },
    {
      "cell_type": "code",
      "metadata": {
        "id": "DgC_SNGk8tt2"
      },
      "source": [
        "Graus2Radianos(α=45)"
      ],
      "execution_count": null,
      "outputs": []
    },
    {
      "cell_type": "markdown",
      "metadata": {
        "id": "k6PUeuoy8xBf"
      },
      "source": [
        "Essa facilidade faz com que não precisemos lembrar a ordem exata dos argumentos em sua chamada."
      ]
    },
    {
      "cell_type": "markdown",
      "metadata": {
        "id": "rKVqdZr-8zet"
      },
      "source": [
        "## Parâmetros `*args` e `**kwargs`"
      ]
    },
    {
      "cell_type": "markdown",
      "metadata": {
        "id": "asDdD7Z783sw"
      },
      "source": [
        "Em Python, podemos utilizar os parâmetros especiais `*args` e `**kwargs` para definir funções com um número variável de argumentos. \n",
        "\n",
        "A primeira forma, `*args` (com um único `*`), permite criar uma função que aceite uma sequência de parâmetros não nomeados de qualquer tamanho. A função `MyPrintV1` mostrada abaixo utiliza esse tipo de parâmetro para imprimir os valores informados como argumentos:"
      ]
    },
    {
      "cell_type": "code",
      "metadata": {
        "id": "M_y7THZm87sj"
      },
      "source": [
        "def MyPrintV1(*args):\n",
        "    \n",
        "    for a in args:\n",
        "        print(a)"
      ],
      "execution_count": null,
      "outputs": []
    },
    {
      "cell_type": "markdown",
      "metadata": {
        "id": "lT80KTkj89gP"
      },
      "source": [
        "Podemos chamar a função acima com um único argumento do tipo `string`:"
      ]
    },
    {
      "cell_type": "code",
      "metadata": {
        "id": "X3USXcvm8_Qc"
      },
      "source": [
        "MyPrintV1(\"p1\")"
      ],
      "execution_count": null,
      "outputs": []
    },
    {
      "cell_type": "markdown",
      "metadata": {
        "id": "53p9TSAh9Ayh"
      },
      "source": [
        "Ou, com cinco números inteiros:\n",
        "\n",
        "> Indented block\n",
        "\n"
      ]
    },
    {
      "cell_type": "code",
      "metadata": {
        "id": "bkVSSx4i9CnG"
      },
      "source": [
        "MyPrintV1(1, 3, 5, 7, 9)"
      ],
      "execution_count": null,
      "outputs": []
    },
    {
      "cell_type": "markdown",
      "metadata": {
        "id": "hJd1oRJK9E4I"
      },
      "source": [
        "[link text](https://)Ou, com dois números em ponto flutuante e uma `string`:"
      ]
    },
    {
      "cell_type": "code",
      "metadata": {
        "id": "dZWoCjWb9GdD"
      },
      "source": [
        "MyPrintV1(-20.38, -43.50, \"Ouro Preto\")"
      ],
      "execution_count": null,
      "outputs": []
    },
    {
      "cell_type": "markdown",
      "metadata": {
        "id": "ZeOYRKA39Mct"
      },
      "source": [
        "Note que o parâmetro `*args` é na verdade uma tupla do Python.\n",
        "\n",
        "A segunda forma de criar uma função que aceita um número variável de argumentos é usar o tipo `**kwargs` (com um duplo `*`). Esse tipo de parâmetro pode ser usado para definir uma função que aceita uma lista de parâmetros nomeados de qualquer tamanho. Esse conjunto variável de parâmetros é representado como um dicionário.\n",
        "\n",
        "A função `MyPrintV2` mostrada abaixo utiliza esse tipo de parâmetro para imprimir os nome e os valores dos argumentos informados na sua chamada:"
      ]
    },
    {
      "cell_type": "code",
      "metadata": {
        "id": "Nit9vOPt9OZu"
      },
      "source": [
        "def MyPrintV2(**kwargs):\n",
        "   \n",
        "    for k, v in kwargs.items():\n",
        "        print( \"parametro: {}, valor:{}\".format(k, v) )"
      ],
      "execution_count": null,
      "outputs": []
    },
    {
      "cell_type": "markdown",
      "metadata": {
        "id": "spvXyBYU9QKZ"
      },
      "source": [
        "A chamada abaixo passa três argumentos:"
      ]
    },
    {
      "cell_type": "code",
      "metadata": {
        "id": "uLWlmSN19S4t"
      },
      "source": [
        "MyPrintV2(latitude=-20.38, longitude=-43.50, nome=\"Ouro Preto\")"
      ],
      "execution_count": null,
      "outputs": []
    },
    {
      "cell_type": "markdown",
      "metadata": {
        "id": "yDS1leWU9R0P"
      },
      "source": [
        "A chamada abaixo realiza a chamada da função `MyPrintV2` com dois argumentos:"
      ]
    },
    {
      "cell_type": "code",
      "metadata": {
        "id": "5-gSVKlR9Xil"
      },
      "source": [
        "MyPrintV2(longitude=-45.88, latitude=-23.17)"
      ],
      "execution_count": null,
      "outputs": []
    },
    {
      "cell_type": "markdown",
      "metadata": {
        "id": "sARBwM8N9uso"
      },
      "source": [
        "# Unpacking Argument Lists\n",
        "---"
      ]
    },
    {
      "cell_type": "markdown",
      "metadata": {
        "id": "9cm2MFRiERbJ"
      },
      "source": [
        "Um situação muito comum é termos a lista de argumentos que desejamos passar a uma função em uma sequência (lista ou tupla) ou como membros de um dicionário e a função estar definida como parâmetros separados, como a função `Graus2Radianos` definida anteriormente. Nesse caso, podemos usar um artifício prático da linguagem Python para transformar esse objetos na sequência correta a ser informada na chamada da função. \n",
        "\n",
        "O exemplo abaixo mostra como podemos transformar os elementos de uma lista `l` no único valor a ser informado na chamada da função `Graus2Radianos`:"
      ]
    },
    {
      "cell_type": "code",
      "metadata": {
        "id": "Xl8c9JrtETqN"
      },
      "source": [
        "l = [45]\n",
        "\n",
        "Graus2Radianos(*l)"
      ],
      "execution_count": null,
      "outputs": []
    },
    {
      "cell_type": "markdown",
      "metadata": {
        "id": "pxZkuTqZEWgj"
      },
      "source": [
        "O próximo exemplo mostra como podemos transformar a lista `l` contendo os dois argumentos que desejamos utilizar na chamada da função `Graus2Radianos`:"
      ]
    },
    {
      "cell_type": "code",
      "metadata": {
        "id": "maGPnCUWEX1c"
      },
      "source": [
        "l = [45, 3.1]\n",
        "\n",
        "Graus2Radianos(*l)"
      ],
      "execution_count": null,
      "outputs": []
    },
    {
      "cell_type": "markdown",
      "metadata": {
        "id": "MNpCKGU4EYWC"
      },
      "source": [
        "Finalmente, o exemplo abaixo mostra como podemos utilizar os pares `chave/valor` de um dicionário como argumentos nomeados na chamada da função `Graus2Radianos`:"
      ]
    },
    {
      "cell_type": "code",
      "metadata": {
        "id": "--pJuSToEZ59"
      },
      "source": [
        "d = {\n",
        "      \"π\": 3,\n",
        "      \"α\": 45\n",
        "    }\n",
        "\n",
        "Graus2Radianos(**d)"
      ],
      "execution_count": null,
      "outputs": []
    },
    {
      "cell_type": "markdown",
      "metadata": {
        "id": "sOEU71RZEbtR"
      },
      "source": [
        "# Expressões Lambda\n",
        "---"
      ]
    },
    {
      "cell_type": "markdown",
      "metadata": {
        "id": "sb_ykI0XEezp"
      },
      "source": [
        "Uma **Expressão Lambda** é uma pequena função anônima criada com a palavra chave `lambda`, que permite introduzir uma função definida por uma única expressão sem a necessidade de associar um nome.\n",
        "\n",
        "As expressões lambda são muito utilizadas em Python, podendo ser usadas em qualquer lugar que é preciso informar alguma função."
      ]
    },
    {
      "cell_type": "code",
      "metadata": {
        "id": "lKQi1x5REhMF"
      },
      "source": [
        "pairs = [(1, 'one'), (2, 'two'), (3, 'three'), (4, 'four')]\n",
        "\n",
        "pairs.sort(key=lambda pair: pair[1])\n",
        "\n",
        "pairs"
      ],
      "execution_count": null,
      "outputs": []
    },
    {
      "cell_type": "code",
      "metadata": {
        "id": "ROnUIW__EiXb"
      },
      "source": [
        "pairs.sort(key=lambda pair: pair[0])\n",
        "\n",
        "pairs"
      ],
      "execution_count": null,
      "outputs": []
    },
    {
      "cell_type": "code",
      "metadata": {
        "id": "-VVvCbgsEjXA"
      },
      "source": [
        "l = [ 1, 2, 3, 4, 5 ]\n",
        "\n",
        "pot = map(lambda x: x**2, l)\n",
        "\n",
        "pot"
      ],
      "execution_count": null,
      "outputs": []
    },
    {
      "cell_type": "code",
      "metadata": {
        "id": "aPT4rI_3EkuW"
      },
      "source": [
        "list(pot)"
      ],
      "execution_count": null,
      "outputs": []
    },
    {
      "cell_type": "code",
      "metadata": {
        "id": "mJXYD2XPEl8j"
      },
      "source": [
        "u = [ 1, 2, 3, 4, 5 ]\n",
        "\n",
        "v = [ 10, 11, 12, 13, 14 ]\n",
        "\n",
        "soma = map(lambda x, y: x + y, u, v)\n",
        "\n",
        "list(soma)"
      ],
      "execution_count": null,
      "outputs": []
    },
    {
      "cell_type": "code",
      "metadata": {
        "id": "SnINzggCEm6t"
      },
      "source": [
        "pares = filter(lambda x: x % 2 == 0, u)\n",
        "\n",
        "list(pares)"
      ],
      "execution_count": null,
      "outputs": []
    },
    {
      "cell_type": "markdown",
      "metadata": {
        "id": "e42YrREkEoPp"
      },
      "source": [
        "# Strings de Documentação\n",
        "---"
      ]
    },
    {
      "cell_type": "markdown",
      "metadata": {
        "id": "29axq8kiErIN"
      },
      "source": [
        "Em Python é comum usarmos um literal string como a primeira instrução de uma função com a finalidade de construir sua documentação, que é chamada de `docstring`. Essa string poderá ser usada em sistemas que produzam ajuda online\n",
        "This line should begin with a capital letter and end with a period. O texto dessa string deve começar com uma letra maiúscula e terminar com um ponto final, como mostrado na documetação da função `AreaCirculo` abaixo:"
      ]
    },
    {
      "cell_type": "code",
      "metadata": {
        "id": "DPxzero8Esr9"
      },
      "source": [
        "def AreaCirculo(raio):\n",
        "    \"\"\"Calcula a área de um círculo.\n",
        "    \n",
        "    O valor retornado é a área do círculo\"\"\"\n",
        "    \n",
        "    return 3.14 * raio**2"
      ],
      "execution_count": null,
      "outputs": []
    },
    {
      "cell_type": "markdown",
      "metadata": {
        "id": "hCws81SlEupd"
      },
      "source": [
        "No Jupyter Notebook podemos verificar a documentação dessa função usando o caracter `?` seguido das teclas `SHIFT+ENTER` ou podemos usar as teclas `SHIFT+TAB` ou `SHIFT+TAB+TAB`:"
      ]
    },
    {
      "cell_type": "code",
      "metadata": {
        "id": "u2F1SQU7Ew0l"
      },
      "source": [
        "AreaCirculo?"
      ],
      "execution_count": null,
      "outputs": []
    },
    {
      "cell_type": "markdown",
      "metadata": {
        "id": "8VRsoSNeE1K3"
      },
      "source": [
        "# Escopo das Variáveis\n",
        "---"
      ]
    },
    {
      "cell_type": "markdown",
      "metadata": {
        "id": "7pInKKdjE2WX"
      },
      "source": [
        "Existe uma discussão importante sobre a questão de visibilidade das variáveis e do seu tempo de vida, isto é, onde os nomes dessas variáveis podem ser usados e quando esses nomes deixam de existir.\n",
        "\n",
        "Em toda linguagem de programação imperativa, como é o caso de Python, existe o conceito de **escopo**.\n",
        "\n",
        "Algumas vezes usamos os termos **escopo local** e **escopo global** para nos referirmos ao contexto onde as variáveis encontram-se definidas e, consequentemete, visíveis.\n",
        "\n",
        "Quando criamos uma função, a cada invocação dessa função os parâmetros são introduzidos num **escopo local**, isto é, os nomes dos parâmetros são acessíveis (ou visíveis) apenas aos comandos dentro da função. \n",
        "\n",
        "Já os comandos dentro da função podem acessar nomes de variáveis definidos fora da função, isto é, podem acessar variáveis consideradas globais, ou seja, que pertencem a um escopo mais externo que o local, que é chamado de **escopo global**.\n",
        "\n",
        "O programa a seguir demonstra como funciona o conceito de escopo. Lembre-se de limpar seu *kernel* Jupyter antes de executar a próxima célula pois queremos que apenas esse programa seja executado no momento."
      ]
    },
    {
      "cell_type": "code",
      "metadata": {
        "id": "hTOcsq1IE4MD"
      },
      "source": [
        "pi = 3.14\n",
        "e = 2.71\n",
        "\n",
        "def f1(v1):\n",
        "    print(\"v1 no escopo local de f1:\", v1)\n",
        "    \n",
        "    print(\"pi no escopo local de f1:\", pi)\n",
        "    \n",
        "    e = 3\n",
        "    \n",
        "    print(\"e no escopo local de f1:\", e)\n",
        "\n",
        "        \n",
        "f1(pi)\n",
        "print(\"e no escopo global:\", e)\n",
        "\n",
        "# print(\"v1 no escopo global:\", v1)"
      ],
      "execution_count": null,
      "outputs": []
    },
    {
      "cell_type": "markdown",
      "metadata": {
        "id": "ETAWDRc2E75r"
      },
      "source": [
        "O programa acima é executado da seguinte forma (*explicação bem simplificada!*):\n",
        "\n",
        "**1.** Os nomes `pi` e `e` são definidos no **escopo global** do programa, nas `linhas 1 e 2`, respectivamente, com os valores `3.14` e `2.71`. A partir desse ponto do programa essas duas variáveis podem ser acessadas em qualquer parte do programa, incluindo funções que sejam chamadas após a definição dessas linhas.<br><br>\n",
        "\n",
        "**2.** Em seguida, a função `f1` na `linha 5` é definida. O corpo dessa função não é executado (`linhas 5-11`). O nome `f1` passa a fazer parte do **escopo global** do programa. Dessa forma, o nome `f1` já pode ser usado em seu programa.<br><br>\n",
        "\n",
        "**3.** A `linha 14` é executada. O nome `f1` é encontrado no escopo global do programa, ativando a função `f1` com o valor associado à variável `pi` (o valor `3.14`).<br><br>\n",
        "\n",
        "**4.** A ativação da função `f1` faz com que um novo escopo local seja criado e o parâmetro `v1` na `linha 4` seja incluído nesse escopo, sendo associado ao valor `3.14` passado em sua chamada. Nesse novo escopo local, o nome `v1` pode ser utilizado para leitura e escrita. O comando `print` da `linha 5` faz com que o valor associado a `v1` seja escrito na tela (`3.14`). O comando `print` da `linha 7` acessa a variável `pi`, que não está definida no escopo local, portanto o interpretador irá buscar esse nome no escopo global. No escopo global o nome `pi` está associado ao valor `3.14` e, portanto, esse valor é escrito na saída padrão. O comando de atribuição na `linha 9` faz com que um novo nome, `e`, seja introduzido no escopo local da função `f1`, escondendo o nome `e` do escopo global. Assim, o comando `print` da `linha 11` irá acessar a variável `e` definida localmente, que está associada ao valor `3`. Ao término da execução da função `f1`, o escopo local dessa função é destruído, e junto com isso, todas as associações de nomes e valores definidas dentro da função são liberadas. Neste caso os nomes `v1` e `e` locais.<br><br>\n",
        "\n",
        "**5.** O comando `print` da `linha 15` irá escrever o valor `2.71` pois o nome `e` será encontrado no escopo global.<br><br>\n",
        "\n",
        "**6.** A execução da `linha 17` irá produzir o seguinte erro:\n",
        "```python\n",
        "NameError: name 'v1' is not defined\n",
        "```\n",
        "Isso indica que o nome `v1` não se encontra num escopo acessível naquela linha.\n",
        "\n",
        "O programa abaixo ilustra outro destalhe dessa regra de escopo das variáveis. Lembre-se de limpar seu *kernel* Jupyter antes de executar a próxima célula pois queremos que apenas esse programa seja executado no momento."
      ]
    },
    {
      "cell_type": "code",
      "metadata": {
        "id": "o8k-8fdaE9tI"
      },
      "source": [
        "pi = 3.14\n",
        "e = 2.71\n",
        "\n",
        "def f1(v1):\n",
        "    print(\"v1 no escopo local de f1:\", v1)\n",
        "    \n",
        "    print(\"gamma no escopo local de f1:\", gamma)\n",
        "    \n",
        "    print(\"pi no escopo local de f1:\", pi)\n",
        "    \n",
        "    print(\"e no escopo local de f1:\", e)\n",
        "\n",
        "\n",
        "f1(pi)\n",
        "gamma = 0.5772"
      ],
      "execution_count": null,
      "outputs": []
    },
    {
      "cell_type": "markdown",
      "metadata": {
        "id": "7yU5y0PGE_t9"
      },
      "source": [
        "O programa acima irá produzir o seguinte erro:\n",
        "```python\n",
        "NameError: name 'gamma' is not defined\n",
        "```\n",
        "\n",
        "Esse erro ocorre pois a variável `gamma` não pertence ao escopo local da função  `f1` e nem foi definida ainda no escopo global do programa quando a função `f1` foi ativada na `linha 14`. \n",
        "\n",
        "Se você trocar as `linhas 14 e 15` de lugar, o programa irá executar normalmente. Lembre-se de limpar seu *kernel* Jupyter antes de executar a próxima célula."
      ]
    },
    {
      "cell_type": "code",
      "metadata": {
        "id": "ONT_OkYRFBXR"
      },
      "source": [
        "pi = 3.14\n",
        "e = 2.71\n",
        "\n",
        "def f1(v1):\n",
        "    print(\"v1 no escopo local de f1:\", v1)\n",
        "    \n",
        "    print(\"gamma no escopo local de f1:\", gamma)\n",
        "    \n",
        "    print(\"pi no escopo local de f1:\", pi)\n",
        "    \n",
        "    print(\"e no escopo local de f1:\", e)\n",
        "\n",
        "        \n",
        "gamma = 0.5772\n",
        "f1(pi)"
      ],
      "execution_count": null,
      "outputs": []
    },
    {
      "cell_type": "markdown",
      "metadata": {
        "id": "c-G5X-60FDqs"
      },
      "source": [
        "O escopo de variáveis é mantido através de tabelas especiais construídas pelos compiladores e interpretadores que são chamadas de **tabela de símbolos**.\n",
        "\n",
        "Em Python, a execução de uma função introduz uma nova tabela de símbolos, que é usada para associar as variáveis locais da função aos seu valores. Os parâmetros de uma função são inseridos nessa tabela local, assim que a função é ativada para execução. Cada comando de atribuição dentro da função fará com que o nome do lado esquerdo da atribuição seja inserido nessa tabela. Por conta disso, não é possível trocar o valor associado a uma variável do escopo mais externo usando uma simples atribuição.\n",
        "\n",
        "Dentro da função quando um identificador é encontrado em alguma expressão, primeiro o interpretador Python procura pelo símbolo nessa tabela de símbolos local. Se o identificador não é encontrado, o interpretador verifica se esse nome existe na tabela de símbolos mais externa (global) e, por último, na tabela de símbolos dos objetos pré-definidos da linguagem.\n",
        "\n",
        "Perceba que dessa forma, em Python, uma variável definida fora da função não pode ser escrita dentro de uma função pois uma atribuição sempre gera um novo símbolo no escopo local dessa função.\n",
        "\n",
        "Nas linguagens de programação temos basicamente dois tipos de mecanismos de passagem de parâmetros:\n",
        "* **Passagem por Valor:** onde uma cópia do valor informado por uma variável na chamada da função é copiado e associado ao parâmetro dessa função invocada.<br><br>\n",
        "\n",
        "* **Passagem por Referência:** neste caso o parâmetro da função se torna um *alias* ou uma *referência* para o nome da variável usada na passagem do argumento durante a chamada dessa função.\n",
        "\n",
        "O primeiro tipo de passagem, por valor, evita que a variável usada na chamada possa ser modificada diretamente. Já a segunda forma, possibilita que a variável informada seja alterada dentro da função.\n",
        "\n",
        "Em Python as chamadas de função são realizadas por valor. No entanto, objetos como listas e dicionários possuem o efeito de chamadas por referência pois internamente a cópia das variáveis referenciam o mesmo conteúdo."
      ]
    },
    {
      "cell_type": "markdown",
      "metadata": {
        "id": "myLrJ0HjFGDg"
      },
      "source": [
        "# Exercícios\n",
        "---"
      ]
    },
    {
      "cell_type": "markdown",
      "metadata": {
        "id": "HpQ5xttZFHof"
      },
      "source": [
        "**Exercício 1.** A fórmula de Haversine possbilita o cálculo de distâncias entre dois pontos em uma esfera a partir de suas latitudes e longitudes. Dada a seguinte fórmula:\n",
        "\n",
        "$$\n",
        "d = 2r \\arcsin{\\sqrt{sin^2({\\frac{\\phi_2 - \\phi_1}{2}}) + \\cos{\\phi_1} \\cos{\\phi_2} \\sin^2({\\frac{\\lambda_2 - \\lambda_1}{2}})}}\n",
        "$$\n",
        "\n",
        "onde:\n",
        "- **$d$:** distância entre dois pontos na esfera.\n",
        "- **$r$:** é o raio da esfera (~6371km).\n",
        "- **$\\phi_1$** e **$\\phi_2$:** latitude dos pontos em radianos.\n",
        "- **$\\lambda_1$** e **$\\lambda_2$:** longitude dos pontos em radianos.\n",
        "\n",
        "Construa uma função chamada `DistanciaHaversine` que receba quatro valores de entrada representando duas localizações quaisquer em grau-decimal e que retorne um único valor com a distância em `km`. Para maiores detalhes sobre essa fórmua, veja a [Wikipedia](https://en.wikipedia.org/wiki/Haversine_formula).\n",
        "\n",
        "**Solução:**"
      ]
    },
    {
      "cell_type": "code",
      "metadata": {
        "id": "GSTxvwgDFKuM"
      },
      "source": [
        "import math\n",
        "\n",
        "def DistanciaHaversive(lat1, long1, lat2, long2):\n",
        "    # Raio da Terra: 6371km\n",
        "    raio_terra = 6371\n",
        "\n",
        "    # Covertendo de graus-decimal para radianos\n",
        "    ϕ1  = math.radians(lat1)\n",
        "    ϕ2 = math.radians(lat2)\n",
        "    \n",
        "    λ1 = math.radians(long1)\n",
        "    λ2 = math.radians(long2)\n",
        "\n",
        "    # Pré-computando alguns valores da fórmula de Haversine\n",
        "    Δϕ = ϕ2 - ϕ1\n",
        "    Δλ = λ2 - λ1\n",
        "\n",
        "    sin2_fi = math.sin(Δϕ / 2.0) ** 2\n",
        "\n",
        "    sin2_lambda = math.sin(Δλ / 2.0) ** 2\n",
        "\n",
        "    # Computando a distância de Haversine\n",
        "    distancia = 2.0 * raio_terra * math.asin(math.sqrt(sin2_fi + math.cos(ϕ1) * math.cos(ϕ2) * sin2_lambda))\n",
        "\n",
        "    # Retornando a distância computada\n",
        "    return distancia"
      ],
      "execution_count": null,
      "outputs": []
    },
    {
      "cell_type": "markdown",
      "metadata": {
        "id": "cquKDsY8FMkH"
      },
      "source": [
        "No trecho de código acima, demos o nome de `DistanciaHaversive` para a função, que foi definida com quatro parâmetros formais:\n",
        "- `lat1`: latitude do ponto 1 em graus decimal.\n",
        "- `long1`: longitude do ponto 1 em graus decimal.\n",
        "- `lat2`: latitude do ponto 2 em graus decimal.\n",
        "- `long2`: longitude do ponto 2 em graus decimal.\n",
        "\n",
        "Podemos computar a distância entre São José dos Campos (SP) e Ouro Preto (MG) da seguinte forma:"
      ]
    },
    {
      "cell_type": "code",
      "metadata": {
        "id": "WwSng0ImFOBa"
      },
      "source": [
        "d = DistanciaHaversive(-23.17, -45.88, -20.38, -43.50)\n",
        "\n",
        "print(\"Distância: {0:.3f}km\".format(d))"
      ],
      "execution_count": null,
      "outputs": []
    },
    {
      "cell_type": "markdown",
      "metadata": {
        "id": "yZeI-wAeFQvF"
      },
      "source": [
        "# Considerações Finais\n",
        "---"
      ]
    },
    {
      "cell_type": "markdown",
      "metadata": {
        "id": "vBRiBrpYFR2d"
      },
      "source": [
        "Os nomes `args` e `kwargs`, usados na definição de funções com número de parâmetros variáveis, não são obrigatórios, embora seja um idioma comum em Python. Bibliotecas como a Matplotlib utilizam bastante esses tipos de parâmetros para fornecer maior flexibilidade na chamada de funções e métodos das funcionalidades providas por ela. Nas versões 3.6 e supoeriores de Python, os pares `chave-valor` (*key-value pairs*) serão informados em ordem pois a implimentação do tipo dicionário é ordenado. Em versões anteriores a essa, o tipo dicionário é um tipo não ordenado (*unordered*), o que significa que você receberá os parâmetros em ordem aleatória.\n",
        "\n",
        "Toda função em Python retorna algum valor. Caso o comando `return` seja usado sem valor, o valor `None` é retornado. Se você não incluir um comando `return` no bloco de comandos da função ou se por acaso algum caminho da sua função fizer com que a função termine sem uma insrução `return`, automaticamente será retornado o valor `None`.\n",
        "\n",
        "Quando definimos um parâmetro com valor default, devemos tomar cuidado ao usar valores \"mutáveis\". Observe o exemplo abaixo:"
      ]
    },
    {
      "cell_type": "code",
      "metadata": {
        "id": "eZPpkDH_FUfk"
      },
      "source": [
        "def MinhaFuncao(data=[]):\n",
        "    data.append(9)\n",
        "    \n",
        "    return data"
      ],
      "execution_count": null,
      "outputs": []
    },
    {
      "cell_type": "code",
      "metadata": {
        "id": "alCg3kU6FW0O"
      },
      "source": [
        "MinhaFuncao()"
      ],
      "execution_count": null,
      "outputs": []
    },
    {
      "cell_type": "code",
      "metadata": {
        "id": "CPBThFTTFXyN"
      },
      "source": [
        "MinhaFuncao()"
      ],
      "execution_count": null,
      "outputs": []
    },
    {
      "cell_type": "code",
      "metadata": {
        "id": "_SpnKQYBFZa4"
      },
      "source": [
        "MinhaFuncao()"
      ],
      "execution_count": null,
      "outputs": []
    },
    {
      "cell_type": "markdown",
      "metadata": {
        "id": "XfSSva9YFa8s"
      },
      "source": [
        "Como pode ser observado, a lista continua crescendo à medida que usamos a função `MinhaFuncaol`. Isso ocorre porque o valor da expressão com o valor *default* é realizado apenas uma única vez, quando a função é definida. Por conta dessa armadilha, em geral, definimos funções como essas da seguinte forma:"
      ]
    },
    {
      "cell_type": "code",
      "metadata": {
        "id": "f6iVyGCXFcBf"
      },
      "source": [
        "def MinhaFuncao2(data=None):\n",
        "\n",
        "    if data is None:\n",
        "        data = []\n",
        "    else:\n",
        "        data.append(9)\n",
        "    \n",
        "    return data"
      ],
      "execution_count": null,
      "outputs": []
    },
    {
      "cell_type": "code",
      "metadata": {
        "id": "iMTe-cezFdkz"
      },
      "source": [
        "MinhaFuncao2()"
      ],
      "execution_count": null,
      "outputs": []
    },
    {
      "cell_type": "code",
      "metadata": {
        "id": "1VihuW6oFe9K"
      },
      "source": [
        "MinhaFuncao2([3])"
      ],
      "execution_count": null,
      "outputs": []
    },
    {
      "cell_type": "code",
      "metadata": {
        "id": "GNNGUyDIFgEN"
      },
      "source": [
        "MinhaFuncao2([4])"
      ],
      "execution_count": null,
      "outputs": []
    },
    {
      "cell_type": "markdown",
      "metadata": {
        "id": "2PGgpzwcF9ZO"
      },
      "source": [
        "# Referências Bibliográficas\n",
        "---"
      ]
    },
    {
      "cell_type": "markdown",
      "metadata": {
        "id": "fD2hkrO1F-9Q"
      },
      "source": [
        "* [The Python Tutorial - 4.6. Defining Functions](https://docs.python.org/3/tutorial/controlflow.html#defining-functions). Acesso em: 24 de Maio de 2018.<br><br>\n",
        "\n",
        "* [The Python Tutorial - 4.7.6. Documentation Strings](https://docs.python.org/3/tutorial/controlflow.html#documentation-strings). Acesso em: 24 de Maio de 2018.<br><br>\n",
        "\n",
        "* [The Python Language Reference - 8.6. Function definitions](https://docs.python.org/3/reference/compound_stmts.html#function-definitions). Acesso em: 24 de Maio de 2018.<br><br>\n",
        "\n",
        "* [The Python Language Reference - 4.3. Exceptions](https://docs.python.org/3/reference/executionmodel.html#exceptions). Acesso em: 24 de Maio de 2018.<br><br>\n",
        "\n",
        "* [The Python Language Reference - 3.3.8. With Statement Context Managers](https://docs.python.org/3/reference/datamodel.html#context-managers). Acesso em: 24 de Maio de 2018.<br><br>\n",
        "\n",
        "* [The Python Tutorial - 9. Classes](https://docs.python.org/3/tutorial/classes.html#tut-classes). Acesso em: 24 de Maio de 2018.<br><br>\n",
        "\n",
        "* Lisa Tagliaferri. [How To Use *args and **kwargs in Python 3](https://www.digitalocean.com/community/tutorials/how-to-use-args-and-kwargs-in-python-3). Acesso em: 24 de Maio de 2018.<br><br>\n",
        "\n",
        "* [Common Gotchas](http://docs.python-guide.org/en/latest/writing/gotchas/). Acesso em: 24 de Maio de 2018.<br><br>\n",
        "\n",
        "* Fredrik Lundh. [Default Parameter Values in Python](http://effbot.org/zone/default-values.htm). Acesso em: 24 de Maio de 2018.<br><br>\n",
        "\n",
        "* Leonardo Giordani. [Default arguments in Python](http://blog.thedigitalcatonline.com/blog/2015/02/11/default-arguments-in-python/). Acesso em: 24 de Maio de 2018.<br><br>\n",
        "\n",
        "* [Lambda, filter, reduce and map](https://www.python-course.eu/python3_lambda.php). Acesso em: 24 de Maio de 2018."
      ]
    }
  ]
}