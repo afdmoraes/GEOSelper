{
  "nbformat": 4,
  "nbformat_minor": 0,
  "metadata": {
    "colab": {
      "provenance": [],
      "include_colab_link": true
    },
    "kernelspec": {
      "name": "python3",
      "display_name": "Python 3"
    }
  },
  "cells": [
    {
      "cell_type": "markdown",
      "metadata": {
        "id": "view-in-github",
        "colab_type": "text"
      },
      "source": [
        "<a href=\"https://colab.research.google.com/github/afdmoraes/GEOSelper/blob/main/Notebook-10_Semana_4_Aula_1_NumPy.ipynb\" target=\"_parent\"><img src=\"https://colab.research.google.com/assets/colab-badge.svg\" alt=\"Open In Colab\"/></a>"
      ]
    },
    {
      "cell_type": "markdown",
      "metadata": {
        "id": "2FrUDDadsNzU"
      },
      "source": [
        "# Curso de Programação para Sensoriamento Remoto\n",
        "---\n",
        "\n",
        "* Gilberto Ribeiro de Queiroz\n",
        "* Thales Sehn Körting\n",
        "\n",
        "## Tópicos desta aula\n",
        "\n",
        "* Manipulação de Matrizes com a biblioteca NumPy\n",
        "\n"
      ]
    },
    {
      "cell_type": "markdown",
      "metadata": {
        "id": "s7KVAkHCbkqN"
      },
      "source": [
        "# Introdução\n",
        "---"
      ]
    },
    {
      "cell_type": "markdown",
      "metadata": {
        "id": "v8NhkvJp-fBt"
      },
      "source": [
        "O principal objeto manipulado pela `NumPy` é o _homogeneous multidimensional array_:\n",
        "\n",
        "* Uma tabela de elementos de mesmo tipo (em geral números) indexados por uma tupla de inteiros positivos.\n",
        "\n",
        "* As dimensões são chamadas de _axes_.\n",
        "\n",
        "* O número de axes é chamado de _rank_.\n",
        "\n",
        "<br/>\n",
        "\n",
        "Exemplos:\n",
        "\n",
        "* um array ``[1, 2, 1]`` tem ``rank = 1``\n",
        "* já um array ``[[ 1.0, 0.0, 0.0], [0.0, 1.0, 2.0]]`` tem ``rank = 2``: a primeira dimensão tem tamanho 2, a segunda dimensão tem tamanho 3"
      ]
    },
    {
      "cell_type": "markdown",
      "metadata": {
        "id": "qEU4qxt7-sMY"
      },
      "source": [
        "A classe de `array` do `NumPy` é chamada `ndarray (numpy.array)`.\n",
        "\n",
        "<br/>\n",
        "\n",
        "Supondo um `ndarray` contendo uma matriz de `30 linhas` e `40 colunas`:\n",
        "\n",
        "* `ndarray.ndim`: é o número de axes do array.\n",
        "\n",
        "* `ndarray.shape`: é uma tupla de inteiros indicando o tamanho do array em cada dimensão (no exemplo acima, shape → 30, 40)\n",
        "\n",
        "* `ndarray.size`: é o total de elementos no array (no exemplo acima, size → 1200).\n",
        "\n",
        "* `ndarray.dtype`: é um objeto descrevendo o tipo dos elementos no array (por exemplo, numpy.int32, numpy.int16, numpy.float64).\n",
        "\n",
        "* `ndarray.itemsize`: é o tamanho em bytes de cada elemento no array (por exemplo, em um array de float64 itemsize → 8)\n",
        "\n",
        "* `ndarray.data`: é um buffer contendo os elementos do array, geralmente não é usado dessa forma pois temos facilidades de indexação"
      ]
    },
    {
      "cell_type": "markdown",
      "metadata": {
        "id": "yxSUE4ZI_26F"
      },
      "source": [
        "# Carregando a `NumPy`\n",
        "---"
      ]
    },
    {
      "cell_type": "markdown",
      "metadata": {
        "id": "BHDfi-Es_897"
      },
      "source": [
        "Para utilizar a NumPy devemos importar seu módulo `numpy`. Em geral, associamos esse módulo ao nome `np` da seguinte forma:"
      ]
    },
    {
      "cell_type": "code",
      "metadata": {
        "id": "ib16KieX_6nd"
      },
      "source": [
        "import numpy as np"
      ],
      "execution_count": null,
      "outputs": []
    },
    {
      "cell_type": "markdown",
      "metadata": {
        "id": "iLBsiPE0Bbdp"
      },
      "source": [
        "Para saber a versão dessa biblioteca, faça:"
      ]
    },
    {
      "cell_type": "code",
      "metadata": {
        "id": "BpjlJL5ZBe0D"
      },
      "source": [
        "np.__version__"
      ],
      "execution_count": null,
      "outputs": []
    },
    {
      "cell_type": "markdown",
      "metadata": {
        "id": "w2jHgL4aBnoL"
      },
      "source": [
        "# Criando Matrizes\n",
        "---"
      ]
    },
    {
      "cell_type": "markdown",
      "metadata": {
        "id": "N0xKEnMWBuUB"
      },
      "source": [
        "A NumPy fornece várias funções para criação das matrizes. Vamos começar utilizando a função `arange`, que permite criar um array a partir de um intervalo regular de valores:"
      ]
    },
    {
      "cell_type": "code",
      "metadata": {
        "id": "O2Sx9dxUBD8y"
      },
      "source": [
        "np.arange?"
      ],
      "execution_count": null,
      "outputs": []
    },
    {
      "cell_type": "markdown",
      "metadata": {
        "id": "B3K0BcOREKRc"
      },
      "source": [
        "A célula a seguir cria um array unidimensional, isto é, um vetor com 15 elementos:"
      ]
    },
    {
      "cell_type": "code",
      "metadata": {
        "id": "1CjruCofEGVU"
      },
      "source": [
        "a = np.arange(1, 16)\n",
        "\n",
        "a"
      ],
      "execution_count": null,
      "outputs": []
    },
    {
      "cell_type": "markdown",
      "metadata": {
        "id": "pogc1GqEEw4X"
      },
      "source": [
        "**Atenção:** Repare na saída da célula que a sequência é iniciada com o valor `1` e termina com o valor `15`, uma vez que o limite final (`16`) não é incluso no intervalo de valores gerados."
      ]
    },
    {
      "cell_type": "code",
      "metadata": {
        "id": "tI6h-mSlIcYD"
      },
      "source": [
        "type(a)"
      ],
      "execution_count": null,
      "outputs": []
    },
    {
      "cell_type": "markdown",
      "metadata": {
        "id": "ofBwlD7jIose"
      },
      "source": [
        "Vamos criar um segundo array denominado `b`, desta vez com a função `array`, que permite criar uma matriz a partir de uma sequência do Python:"
      ]
    },
    {
      "cell_type": "code",
      "metadata": {
        "id": "qefo78xUFJyR"
      },
      "source": [
        "np.array?"
      ],
      "execution_count": null,
      "outputs": []
    },
    {
      "cell_type": "code",
      "metadata": {
        "id": "OCZDk0P4FQT5"
      },
      "source": [
        "b = np.array([6, 7, 8])\n",
        "\n",
        "b"
      ],
      "execution_count": null,
      "outputs": []
    },
    {
      "cell_type": "markdown",
      "metadata": {
        "id": "n98-pzWOFegu"
      },
      "source": [
        "# Alterando o formato de uma matriz\n",
        "---"
      ]
    },
    {
      "cell_type": "markdown",
      "metadata": {
        "id": "7Ivh46aXFinY"
      },
      "source": [
        "Um array NumPy pode ser reestrutrado usando a operação `reshape`:"
      ]
    },
    {
      "cell_type": "code",
      "metadata": {
        "id": "a3KMhfkOHUgq"
      },
      "source": [
        "np.reshape?"
      ],
      "execution_count": null,
      "outputs": []
    },
    {
      "cell_type": "markdown",
      "metadata": {
        "id": "cGB57yisHktv"
      },
      "source": [
        "Vamos alterar o formato do array `a` para que ele se torne uma matriz `3 x 5`:"
      ]
    },
    {
      "cell_type": "code",
      "metadata": {
        "id": "E6BRL6TfD1n5"
      },
      "source": [
        "a = a.reshape(3, 5)\n",
        "\n",
        "a"
      ],
      "execution_count": null,
      "outputs": []
    },
    {
      "cell_type": "markdown",
      "metadata": {
        "id": "3vW41nAvICWq"
      },
      "source": [
        "## Informações sobre a Estrutura de uma Matriz\n",
        "---"
      ]
    },
    {
      "cell_type": "code",
      "metadata": {
        "id": "hZ86BEZWILVm"
      },
      "source": [
        "a.shape"
      ],
      "execution_count": null,
      "outputs": []
    },
    {
      "cell_type": "code",
      "metadata": {
        "id": "mbTN2xJ_ILwE"
      },
      "source": [
        "a.ndim"
      ],
      "execution_count": null,
      "outputs": []
    },
    {
      "cell_type": "code",
      "metadata": {
        "id": "MpVflwQOIVAY"
      },
      "source": [
        "a.dtype"
      ],
      "execution_count": null,
      "outputs": []
    },
    {
      "cell_type": "code",
      "metadata": {
        "id": "8pqofNzFIXkz"
      },
      "source": [
        "a.itemsize"
      ],
      "execution_count": null,
      "outputs": []
    },
    {
      "cell_type": "code",
      "metadata": {
        "id": "rKC-0a4vIY5K"
      },
      "source": [
        "a.size"
      ],
      "execution_count": null,
      "outputs": []
    },
    {
      "cell_type": "code",
      "metadata": {
        "id": "f8v8BGd5Iavq"
      },
      "source": [
        "type(a)"
      ],
      "execution_count": null,
      "outputs": []
    },
    {
      "cell_type": "code",
      "metadata": {
        "id": "WcfcnIu2Id2K"
      },
      "source": [
        "type(b)"
      ],
      "execution_count": null,
      "outputs": []
    },
    {
      "cell_type": "markdown",
      "metadata": {
        "id": "uNunOW5ZDaLh"
      },
      "source": [
        "# Operações com arrays\n",
        "---\n",
        "\n",
        "É possível realizar operações matemáticas com arrays. A NumPy permite que uma operação seja aplicada a todos os elementos de uma só vez."
      ]
    },
    {
      "cell_type": "code",
      "metadata": {
        "id": "FSup9_vaDq5j"
      },
      "source": [
        "# vamos imprimir o resultado\n",
        "# da soma de todos os elementos\n",
        "# do array com a constante 10\n",
        "\n",
        "print('matriz a + constante 10:')\n",
        "print(a + 10)"
      ],
      "execution_count": null,
      "outputs": []
    },
    {
      "cell_type": "markdown",
      "metadata": {
        "id": "3ozkV2EnIltW"
      },
      "source": [
        "Veja que a matriz original não foi alterada, pois não fizemos nenhuma atribuição."
      ]
    },
    {
      "cell_type": "code",
      "metadata": {
        "id": "DDpYiXc5Ip_r"
      },
      "source": [
        "print('matriz original:')\n",
        "print(a)"
      ],
      "execution_count": null,
      "outputs": []
    },
    {
      "cell_type": "markdown",
      "metadata": {
        "id": "XXu4sqmqIwi3"
      },
      "source": [
        "Podemos explorar outras operações aritméticas com constantes, e até com outras matrizes."
      ]
    },
    {
      "cell_type": "code",
      "metadata": {
        "id": "PGtRtgiFI0zt"
      },
      "source": [
        "# o comando a seguir cria uma\n",
        "# matriz c com 0's, com o mesmo\n",
        "# tamanho da matriz a\n",
        "\n",
        "c = np.zeros_like(a)\n",
        "print(c)"
      ],
      "execution_count": null,
      "outputs": []
    },
    {
      "cell_type": "markdown",
      "metadata": {
        "id": "e3mVbibBJJoV"
      },
      "source": [
        "**Observação:** O comando acima é muito útil quando temos uma banda com valores de uma imagem, e queremos criar uma cópia dessa banda, para realizar algum processamento. A nova matriz tem as mesmas propriedades da matriz da banda, mas não tem nenhum valor diferente de zero."
      ]
    },
    {
      "cell_type": "code",
      "metadata": {
        "id": "Msk4WGlZJl4F"
      },
      "source": [
        "# podemos combinar os arrays no\n",
        "# processamento\n",
        "\n",
        "c = a * 10\n",
        "print(c)"
      ],
      "execution_count": null,
      "outputs": []
    },
    {
      "cell_type": "code",
      "metadata": {
        "id": "DEjU1_DOJ1UI"
      },
      "source": [
        "# nesta operação, fazemos a divisão\n",
        "# elemento a elemento das matrizes,\n",
        "# por isso elas precisam ter o mesmo\n",
        "# shape\n",
        "\n",
        "array_divisao = a / c\n",
        "print(array_divisao)"
      ],
      "execution_count": null,
      "outputs": []
    },
    {
      "cell_type": "code",
      "metadata": {
        "id": "Nea7-rvlKATW"
      },
      "source": [
        "# aqui temos o produto elemento por \n",
        "# elemento da matriz (e não o produto \n",
        "# matricial)\n",
        "\n",
        "array_produto = a * c\n",
        "print(array_produto)"
      ],
      "execution_count": null,
      "outputs": []
    },
    {
      "cell_type": "code",
      "metadata": {
        "id": "hWcFNf1rKK2R"
      },
      "source": [
        "# para fazer o produto matricial precisamos\n",
        "# garantir as propriedades matemáticas\n",
        "# (número de colunas da primeira matriz =\n",
        "# número de linhas da segunda matriz), por\n",
        "# isso fizemos o transpose da segunda matriz\n",
        "\n",
        "array_produto_matricial = a.dot(c.transpose())\n",
        "print(array_produto_matricial)"
      ],
      "execution_count": null,
      "outputs": []
    },
    {
      "cell_type": "markdown",
      "metadata": {
        "id": "5RunVFhPlQxs"
      },
      "source": [
        "# Considerações Finais\n",
        "---"
      ]
    },
    {
      "cell_type": "markdown",
      "metadata": {
        "id": "Ou1x7YdMlbcg"
      },
      "source": [
        "Uma banda de uma imagem é facilmente processada como um array NumPy. Assim aproveitamos as funcionalidades desta biblioteca para realizar diversos tipos de processamentos com as bandas. Exemplos incluem a geração de índices espectrais, aplicação de contraste, fatiamento de bandas, entre outros.\n",
        "\n",
        "Na próxima aula iremos ver em detalhes o funcionamento da biblioteca `Matplotlib`."
      ]
    }
  ]
}