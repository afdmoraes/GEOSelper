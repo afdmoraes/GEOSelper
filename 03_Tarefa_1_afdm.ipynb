{
  "nbformat": 4,
  "nbformat_minor": 0,
  "metadata": {
    "colab": {
      "provenance": [],
      "collapsed_sections": [],
      "authorship_tag": "ABX9TyPBzZRMtY3oYJkrXXvzilve",
      "include_colab_link": true
    },
    "kernelspec": {
      "name": "python3",
      "display_name": "Python 3"
    },
    "language_info": {
      "name": "python"
    }
  },
  "cells": [
    {
      "cell_type": "markdown",
      "metadata": {
        "id": "view-in-github",
        "colab_type": "text"
      },
      "source": [
        "<a href=\"https://colab.research.google.com/github/afdmoraes/GEOSelper/blob/main/03_Tarefa_1_afdm.ipynb\" target=\"_parent\"><img src=\"https://colab.research.google.com/assets/colab-badge.svg\" alt=\"Open In Colab\"/></a>"
      ]
    },
    {
      "cell_type": "markdown",
      "source": [
        "## Tarefa 1 - \n",
        "Esta é a sua primeira tarefa do curso de Programação para Sensoriamento Remoto. As próximas tarefas também seguirão esta mesma estrutura. Crie um Jupyter Notebook no seu Google Colab para reportar os resultados obtidos. Inclua blocos de código e texto para informar as partes realizadas.\n",
        "\n",
        "Atividades\n",
        "\n",
        "    • (a) realize a leitura de 3 números, relativos aos valores de 1 pixel nas bandas do verde (green), vermelho (red) e infravermelho (nir)\n",
        "\n",
        "    • (b) com estes números, calcule e apresente os índices de vegetação (NDVI) e de água (NDWI), segundo as equações abaixo:\n",
        "\n",
        "Normalized Difference Vegetation Index\n",
        "    • NDVI = (nir - red) / (nir + red)\n",
        "\n",
        "Normalized Difference Water Index\n",
        "    • NDWI = (green - nir) / (green + nir)\n",
        "\n",
        "    • (c) com base nos valores de NDVI e NDWI calculados, informe a possível classificação do pixel, implementando uma árvore de decisão com as seguintes regras:\n",
        "\n",
        "![picture](https://opencgfw.eng.br/figures/geoselper/Figura1.png)\n",
        "\n",
        "\n",
        "    "
      ],
      "metadata": {
        "id": "YVQo1Mi_MPD2"
      }
    },
    {
      "cell_type": "code",
      "execution_count": 14,
      "metadata": {
        "colab": {
          "base_uri": "https://localhost:8080/"
        },
        "id": "kpK5D71GL6ii",
        "outputId": "e22c4419-5be3-49a9-8d65-172db5f494d3"
      },
      "outputs": [
        {
          "output_type": "stream",
          "name": "stdout",
          "text": [
            "0.2\n"
          ]
        }
      ],
      "source": [
        "#  (a) realize a leitura de 3 números, relativos aos valores de 1 pixel nas bandas do verde (green), vermelho (red) e infravermelho (nir)\n",
        "green = 1        # banda verde \n",
        "red = 2          # banda vermelho \n",
        "nir = 3          # banda infravermelho\n",
        "\n",
        "NDVI=(nir-red)/(nir+red)\n",
        "print(NDVI)"
      ]
    },
    {
      "cell_type": "code",
      "source": [
        "# (b) com estes números, calcule e apresente os índices de vegetação (NDVI) e de água (NDWI), segundo as equações abaixo:\n",
        "\n",
        "# indice de vegetação (NDVI)\n",
        "# Normalized Difference Vegetation Index • NDVI = (nir - red) / (nir + red)\n",
        "NDVI=(nir-red)/(nir+red)\n",
        "print(\"Index NDVI\", NDVI)\n",
        "\n",
        "# indice da água (NDWI)\n",
        "# Normalized Difference Water Index • NDWI = (green - nir) / (green + nir)\n",
        "NDWI=(green-nir)/(green+nir)\n",
        "print(\"Index NDWI\", NDWI)"
      ],
      "metadata": {
        "colab": {
          "base_uri": "https://localhost:8080/"
        },
        "id": "1h7gTEnwpZEb",
        "outputId": "9b7bb29c-7e24-4aa4-eba8-dcf34e42371e"
      },
      "execution_count": 15,
      "outputs": [
        {
          "output_type": "stream",
          "name": "stdout",
          "text": [
            "Index NDVI 0.2\n",
            "Index NDWI -0.5\n"
          ]
        }
      ]
    },
    {
      "cell_type": "code",
      "source": [
        "# (c) com base nos valores de NDVI e NDWI calculados, informe a possível classificação do pixel, implementando uma árvore de decisão com as seguintes regras:\n",
        "# leitura de um valor de NDVI\n",
        "#NDVI = 0.2\n",
        "#NDWI = -0,5\n",
        "ndwi = float(input(\"NDWI: \"))\n",
        "ndvi = float(input(\"NDVI: \"))\n",
        "\n",
        "if (ndwi > 0.0):\n",
        "     print(\"Resultado é água - valor\", ndwi)  \n",
        "elif (ndvi > 0.7):\n",
        "     print(\"Resultado é vegetação\", ndvi)\n",
        "else:\n",
        "     print(\"Resultado é outros\")  \n"
      ],
      "metadata": {
        "colab": {
          "base_uri": "https://localhost:8080/"
        },
        "id": "VUse1prvqs8A",
        "outputId": "58022d43-f9d4-47e0-fbca-71d74bb8f521"
      },
      "execution_count": 16,
      "outputs": [
        {
          "output_type": "stream",
          "name": "stdout",
          "text": [
            "NDWI: 1\n",
            "NDVI: 2\n",
            "Resultado é água - valor 1.0\n"
          ]
        }
      ]
    },
    {
      "cell_type": "markdown",
      "source": [
        "Dada uma lista de arquivos de imagens do CBERS-04A\n",
        "\n",
        "lista_cbers_04a = [\n",
        " 'CBERS_4A_WFI_20201019_230_124_L2_BAND13.tif',\n",
        "  'CBERS_4A_WFI_20201019_230_124_L2_BAND13.xml', \n",
        " 'CBERS_4A_WFI_20201019_230_124_L2_BAND14.tif', \n",
        " 'CBERS_4A_WFI_20201019_230_124_L2_BAND14.xml', \n",
        " 'CBERS_4A_WFI_20201019_230_124_L2_BAND15.tif', \n",
        " 'CBERS_4A_WFI_20201019_230_124_L2_BAND15.xml', \n",
        " 'CBERS_4A_WFI_20201019_230_124_L2_BAND16.tif', \n",
        " 'CBERS_4A_WFI_20201019_230_124_L2_BAND16.xml']\n",
        "\n",
        "\n",
        "    • (d) para cada nome de imagem, conte quantos caracteres são numéricos, e quantos não são\n",
        "\n",
        "    • (e) percorra a lista de nomes, e indique quais são de imagens (final .tif) e quais são de metadados (final .xml)\n",
        "\n",
        "\n",
        "Atenção: como resultado das tarefas, apresente no Moodle o link do seu Jupyter Notebook, através da opção Compartilhar do próprio Google Colab, da seguinte forma:\n",
        "\n",
        "    • Compartilhar\n",
        "    • Mudar para qualquer pessoa com o link\n",
        "    • Copiar link"
      ],
      "metadata": {
        "id": "DmZSNkWxMIst"
      }
    },
    {
      "cell_type": "code",
      "source": [
        "# (d) para cada nome de imagem, conte quantos caracteres são numéricos, e quantos não são\n",
        "# \n",
        "# lista_cbers_04a = ['CBERS_4A_WFI_20201019_230_124_L2_BAND13.tif',\n",
        "# 'CBERS_4A_WFI_20201019_230_124_L2_BAND13.xml',\n",
        "# 'CBERS_4A_WFI_20201019_230_124_L2_BAND14.tif',\n",
        "# 'CBERS_4A_WFI_20201019_230_124_L2_BAND14.xml',\n",
        "# 'CBERS_4A_WFI_20201019_230_124_L2_BAND15.tif',\n",
        "# 'CBERS_4A_WFI_20201019_230_124_L2_BAND15.xml', \n",
        "# 'CBERS_4A_WFI_20201019_230_124_L2_BAND16.tif', \n",
        "# 'CBERS_4A_WFI_20201019_230_124_L2_BAND16.xml']\n",
        "\n",
        "img1='CBERS_4A_WFI_20201019_230_124_L2_BAND13.tif'\n",
        "xml1='CBERS_4A_WFI_20201019_230_124_L2_BAND13.xml'\n",
        "img2='CBERS_4A_WFI_20201019_230_124_L2_BAND14.tif'\n",
        "xml2='CBERS_4A_WFI_20201019_230_124_L2_BAND14.xml'\n",
        "img3='CBERS_4A_WFI_20201019_230_124_L2_BAND15.tif'\n",
        "xml3='CBERS_4A_WFI_20201019_230_124_L2_BAND15.xml'\n",
        "img4='CBERS_4A_WFI_20201019_230_124_L2_BAND16.tif'\n",
        "xml4='CBERS_4A_WFI_20201019_230_124_L2_BAND16.xml'\n",
        "\n",
        "\n",
        "\n",
        "#print (img1)\n",
        "print(img1)\n",
        "print(\"tamanho total = \",len(img1),\"caracteres\")\n",
        "#print(str.casefold(img1))         #retorna minúsculo                 \n",
        "#print(str.isnumeric(img1))\n",
        "\n",
        "\n",
        "# \n",
        "#for letra in img1:\n",
        "#    print(letra)\n",
        "\n",
        "\n",
        "test_str = img1\n",
        "print(\"The original string is : \" + str(test_str))\n",
        "res = len([ele for ele in test_str if ele.isalpha()]) \n",
        "print(\"Contagem de caracteres do alfabeto : \" + str(res)) \n",
        "#print(\"Contagem de caracteres do alfanumericos : \" + (len(img1) - str(res))) \n",
        "num_total = int(len(img1))\n",
        "num_impg1_caractalfa = int(str(res))\n",
        "num_diferenca_caractnum = num_total - num_impg1_caractalfa\n",
        "print(\"Contagem de caracteres alfanumericos : \", num_diferenca_caractnum)\n",
        "\n",
        "\n",
        "\n",
        "\n"
      ],
      "metadata": {
        "colab": {
          "base_uri": "https://localhost:8080/"
        },
        "id": "3QKHGJ_MuUyO",
        "outputId": "e3f44dd4-0560-4fb7-a898-0da8ef0acb2d"
      },
      "execution_count": 28,
      "outputs": [
        {
          "output_type": "stream",
          "name": "stdout",
          "text": [
            "CBERS_4A_WFI_20201019_230_124_L2_BAND13.tif\n",
            "tamanho total =  43 caracteres\n",
            "The original string is : CBERS_4A_WFI_20201019_230_124_L2_BAND13.tif\n",
            "Contagem de caracteres do alfabeto : 17\n",
            "Contagem de caracteres alfanumericos :  26\n"
          ]
        }
      ]
    }
  ]
}