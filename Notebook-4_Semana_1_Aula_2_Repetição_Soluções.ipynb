{
  "nbformat": 4,
  "nbformat_minor": 0,
  "metadata": {
    "colab": {
      "provenance": [],
      "include_colab_link": true
    },
    "kernelspec": {
      "name": "python3",
      "display_name": "Python 3"
    }
  },
  "cells": [
    {
      "cell_type": "markdown",
      "metadata": {
        "id": "view-in-github",
        "colab_type": "text"
      },
      "source": [
        "<a href=\"https://colab.research.google.com/github/afdmoraes/GEOSelper/blob/main/Notebook-4_Semana_1_Aula_2_Repeti%C3%A7%C3%A3o_Solu%C3%A7%C3%B5es.ipynb\" target=\"_parent\"><img src=\"https://colab.research.google.com/assets/colab-badge.svg\" alt=\"Open In Colab\"/></a>"
      ]
    },
    {
      "cell_type": "markdown",
      "metadata": {
        "id": "6Bn0QMCuty1Q"
      },
      "source": [
        "## Prática"
      ]
    },
    {
      "cell_type": "markdown",
      "metadata": {
        "id": "xPpgG6IFt1sq"
      },
      "source": [
        "**1.** Escreva um programa em Python que leia um número inteiro $n$ entre `1` e `10` e compute o fatorial desse número. Lembre-se que o fatorial de um número $n$ é definindo como:​\n",
        "\n",
        "$$n! = \\prod_{i=1}^{n} i $$\n",
        "\n",
        "ou,\n",
        "\n",
        "$$\n",
        "\\begin{cases}\n",
        "fat(1) = 1, & \\text{se $n = 1$}\\\\\n",
        "fat(n) = n \\times fat(n - 1), & \\text{se $n > 1$}\n",
        "  \\end{cases}\n",
        "$$"
      ]
    },
    {
      "cell_type": "code",
      "metadata": {
        "id": "q-OUU7uGz27a"
      },
      "source": [
        "# 1\n",
        "n = int(input('digite um número inteiro entre 1 e 10: '))\n",
        "fatorial = 1\n",
        "i = 1\n",
        "while i <= n:\n",
        "  fatorial = fatorial * i\n",
        "  i = i + 1\n",
        "\n",
        "print('o fatorial de', n, 'é', fatorial)"
      ],
      "execution_count": null,
      "outputs": []
    },
    {
      "cell_type": "markdown",
      "metadata": {
        "id": "oDoOcSgsvOgH"
      },
      "source": [
        "**2.** A sequência de Fibonacci é uma sequência de números inteiros, começando por `0` e `1`, onde cada termo subsequente corresponde a soma dos dois anteriores:\n",
        "\n",
        "```\n",
        "0, 1, 1, 2, 3, 5, 8, 13, 21, 34, 55, 89, ...\n",
        "```\n",
        "\n",
        "A seguinte fórmula recursiva define esta sequência:​\n",
        "\n",
        "$F_n = F_{n-1} + F_{n-2}$, com $F_0 = 0$ e $F_1 = 1$\n",
        "\n",
        "​Faça um programa em Python que compute a sequência para um número $n$ qualquer."
      ]
    },
    {
      "cell_type": "code",
      "metadata": {
        "id": "W-usciCv4hhS"
      },
      "source": [
        "# 2\n",
        "q = int(input('digite um número inteiro maior que 1 para mostrar sua sequência de Fibonacci: '))\n",
        "\n",
        "# dá para definir termos iniciais antes da repetição\n",
        "n_menos_2 = 0\n",
        "print('F 0 :', n_menos_2)\n",
        "n_menos_1 = 1\n",
        "print('F 1 :', n_menos_1)\n",
        "n = 2\n",
        "\n",
        "# começamos a repetição do termo dependente\n",
        "while n <= q:\n",
        "  fibonacci = n_menos_1 + n_menos_2\n",
        "  print('F',n, ':', fibonacci)\n",
        "  n = n + 1\n",
        "  n_menos_2 = n_menos_1\n",
        "  n_menos_1 = fibonacci"
      ],
      "execution_count": null,
      "outputs": []
    },
    {
      "cell_type": "markdown",
      "metadata": {
        "id": "KkNTBGu4wGfF"
      },
      "source": [
        "**3.** Escreva um programa em Python que leia dois números, $x$ e $y$, e calcule a função potência $x^y$, sem utilizar o operador `**` de Python ou alguma função da biblioteca padrão.​"
      ]
    },
    {
      "cell_type": "code",
      "metadata": {
        "id": "AgaFdFYa4haV"
      },
      "source": [
        "# 3\n",
        "x = int(input('digite o valor de x: '))\n",
        "y = int(input('digite o valor de y: '))\n",
        "\n",
        "resultado = 1\n",
        "for i in range(y):\n",
        "  resultado = resultado * x\n",
        "print(x, 'elevado a', y, 'é igual a', resultado)"
      ],
      "execution_count": null,
      "outputs": []
    },
    {
      "cell_type": "markdown",
      "metadata": {
        "id": "0Fzn7dxbwVmH"
      },
      "source": [
        "**4.** Escreva um programa em Python que verifique se um número é primo ou não."
      ]
    },
    {
      "cell_type": "code",
      "metadata": {
        "id": "OoeMXMNX4hTM"
      },
      "source": [
        "# 4\n",
        "n = int(input(\"Digite um número: \"))\n",
        " \n",
        "primo = True\n",
        "i = 2\n",
        " \n",
        "while i < n:\n",
        "  if (n % i) == 0:\n",
        "    primo = False\n",
        "    break\n",
        "  i = i + 1\n",
        " \n",
        "if primo:\n",
        "  print(n, \"é primo!\")\n",
        "else:\n",
        "  print(n, \"não é primo!\")"
      ],
      "execution_count": null,
      "outputs": []
    },
    {
      "cell_type": "markdown",
      "metadata": {
        "id": "68xeHDgIwYvB"
      },
      "source": [
        "**5.** Escreva um programa em Python que gere a tabela de multiplicação dos números de `1` a `10`.​"
      ]
    },
    {
      "cell_type": "code",
      "metadata": {
        "id": "ZWXFkJqt4hI5"
      },
      "source": [
        "# 5\n",
        "for i in range(1, 11):\n",
        "  print(\"Tabela de multiplicação do número\", i)\n",
        "\n",
        "  for j in range(1, 11):\n",
        "    print(i, \"x\", j, \"=\", i * j)\n",
        "\n",
        "  print(\"\")"
      ],
      "execution_count": null,
      "outputs": []
    },
    {
      "cell_type": "markdown",
      "metadata": {
        "id": "q78_O-jJuLFZ"
      },
      "source": [
        "## Prática"
      ]
    },
    {
      "cell_type": "markdown",
      "metadata": {
        "id": "kUrVzAP3uOV9"
      },
      "source": [
        "**1.** Dada a lista de valores de NDVI:\n",
        "\n",
        "```\n",
        "serie_ndvi = [0.3, -0.3, 0.2, None, 0.9, 0.8, 0.8, None, 0.2, 0.2]\n",
        "```\n",
        "\n",
        "Apresente as seguintes informações:\n",
        "\n",
        "* Quantidade de valores inválidos (neste caso: `None`).\n",
        "\n",
        "* Quantidade de valores válidos​."
      ]
    },
    {
      "cell_type": "code",
      "metadata": {
        "id": "fxyJpJvwz8A8"
      },
      "source": [
        "# 1\n",
        "serie_ndvi = [0.3, -0.3, 0.2, None, 0.9, 0.8, 0.8, None, 0.2, 0.2]\n",
        "\n",
        "validos = 0\n",
        "invalidos = 0\n",
        "\n",
        "for valor in serie_ndvi:\n",
        "  if valor == None:\n",
        "    invalidos = invalidos + 1\n",
        "  else:\n",
        "    validos = validos + 1\n",
        "\n",
        "print('quantidade de valores válidos:', validos)\n",
        "print('quantidade de valores inválidos:', invalidos)"
      ],
      "execution_count": null,
      "outputs": []
    },
    {
      "cell_type": "markdown",
      "metadata": {
        "id": "279fSe9CucFD"
      },
      "source": [
        "**2.** Uma imagem MODIS em geral armazena seus valores multiplicados por `10.000`. Desta forma um valor `5.000` (inteiro) representa o valor real `0.5` (ponto flutuante) e ocupa menos espaço na memória.\n",
        "\n",
        "Dada uma lista de valores MODIS:\n",
        "\n",
        "```\n",
        "serie_modis = [7000, 6000, 3000, 3000, 10000, 2000, 5000, 500, 7500, 3000]\n",
        "```\n",
        "\n",
        "Calcule e apresente a lista de valores reais (divididos por `10.000`)"
      ]
    },
    {
      "cell_type": "code",
      "metadata": {
        "id": "GzaHJpgr2Rqq"
      },
      "source": [
        "# 2\n",
        "serie_modis = [7000, 6000, 3000, 3000, 10000, 2000, 5000, 500, 7500, 3000]\n",
        "for valor in serie_modis:\n",
        "  print(valor / 10000)"
      ],
      "execution_count": null,
      "outputs": []
    },
    {
      "cell_type": "markdown",
      "metadata": {
        "id": "ZoqWA_l4zI8e"
      },
      "source": [
        "### Prática"
      ]
    },
    {
      "cell_type": "markdown",
      "metadata": {
        "id": "lw3U4AxozKqz"
      },
      "source": [
        "**1.** Considere a seguinte lista:​\n",
        "\n",
        "```\n",
        "[ 0, 1, 1, 2, 3, 5, 8, 13, 21, 34, 55, 89 ]​\n",
        "```\n",
        "\n",
        "​Faça um programa em Python que realize a soma dessa lista e escreva o valor da soma.​"
      ]
    },
    {
      "cell_type": "code",
      "metadata": {
        "id": "Jjipj1ZF0Ow8"
      },
      "source": [
        "# 1\n",
        "lista = [0, 1, 1, 2, 3, 5, 8, 13, 21, 34, 55, 89]\n",
        "soma = 0\n",
        "for elemento in lista:\n",
        "  soma = soma + elemento\n",
        "\n",
        "print('soma dos elementos da lista:', soma)"
      ],
      "execution_count": null,
      "outputs": []
    },
    {
      "cell_type": "markdown",
      "metadata": {
        "id": "F5c0CXqezQ8d"
      },
      "source": [
        "**2.** Considere a série temporal mostrada abaixo, extraída de dados do sensor `MODIS`, produto `MOD13Q1`, para a localização `(-54,-12)` para o período de `01/01/2015` a `19/12/2015`:\n",
        "\n",
        "```\n",
        "red_values = (\n",
        "    168, 398, 451, 337,\n",
        "    186, 232, 262, 349,\n",
        "    189, 204, 220, 220,\n",
        "    207, 239, 259, 258,\n",
        "    242, 331, 251, 323,\n",
        "    106, 1055, 170\n",
        ")\n",
        "```\n",
        "\n",
        "```\n",
        "nir_values = (\n",
        "    2346, 4431, 4638, 4286,\n",
        "    2752, 3521, 2928, 3087,\n",
        "    2702, 2685, 2702, 2865,\n",
        "    2835, 2955, 3019, 3391,\n",
        "    2986, 4042, 3050, 3617,\n",
        "    2478, 3361, 2613\n",
        ")\n",
        "```\n",
        "\n",
        "```\n",
        "timeline = (\n",
        "    \"2015-01-01\", \"2015-01-17\", \"2015-02-02\", \"2015-02-18\",\n",
        "    \"2015-03-06\", \"2015-03-22\", \"2015-04-07\", \"2015-04-23\",\n",
        "    \"2015-05-09\", \"2015-05-25\", \"2015-06-10\", \"2015-06-26\",\n",
        "    \"2015-07-12\", \"2015-07-28\", \"2015-08-13\", \"2015-08-29\",\n",
        "    \"2015-09-14\", \"2015-09-30\", \"2015-10-16\", \"2015-11-01\",\n",
        "    \"2015-11-17\", \"2015-12-03\", \"2015-12-19\"\n",
        ")\n",
        "```\n",
        "\n",
        "Faça um programa que:\n",
        "* Crie a série temporal do `NDVI`.\n",
        "\n",
        "* Calcule a média do `NDVI` dessa série temporal.\n",
        "\n",
        "* Obtenha o maior e menor valores de `NDVI` e escreva a data em que eles ocorrem.\n",
        "\n",
        "\n",
        "**Obs.:** Multiplicar os valores de `red` e `nir` por $0.0001$ (ver [MOD13Q1](https://lpdaac.usgs.gov/dataset_discovery/modis/modis_products_table/mod13q1))"
      ]
    },
    {
      "cell_type": "code",
      "metadata": {
        "id": "qsr_TFi11hxt"
      },
      "source": [
        "# 2\n",
        "# definir valores de red\n",
        "red_values = ( 168, 398, 451, 337, 186, 232, 262,\n",
        "               349, 189, 204, 220, 220, 207, 239,\n",
        "               259, 258, 242, 331, 251, 323, 106,\n",
        "               1055, 170 )\n",
        "# definir valores de nir\n",
        "nir_values = ( 2346, 4431, 4638, 4286, 2752, 3521,\n",
        "               2928, 3087, 2702, 2685, 2702, 2865,\n",
        "               2835, 2955, 3019, 3391, 2986, 4042,\n",
        "               3050, 3617, 2478, 3361, 2613 )\n",
        "# definir valores da timeline\n",
        "timeline = ( \"2015-01-01\", \"2015-01-17\", \"2015-02-02\",\n",
        "             \"2015-02-18\", \"2015-03-06\", \"2015-03-22\",\n",
        "             \"2015-04-07\", \"2015-04-23\", \"2015-05-09\",\n",
        "             \"2015-05-25\", \"2015-06-10\", \"2015-06-26\",\n",
        "             \"2015-07-12\", \"2015-07-28\", \"2015-08-13\",\n",
        "             \"2015-08-29\", \"2015-09-14\", \"2015-09-30\",\n",
        "             \"2015-10-16\", \"2015-11-01\", \"2015-11-17\",\n",
        "             \"2015-12-03\", \"2015-12-19\" )\n",
        "\n",
        "# criar a serie temporal do NDVI\n",
        "ndvi_values = []\n",
        "for red, nir in zip(red_values, nir_values):\n",
        "\tndvi = (nir - red) / (nir + red)\n",
        "\tndvi_values.append(ndvi)\n",
        "print (\"serie temporal do ndvi: \", ndvi_values)\n",
        "\n",
        "# calcular a media do NDVI dessa serie temporal\n",
        "N = len(ndvi_values)\n",
        "ndvi_sum = 0.0\n",
        "for ndvi in ndvi_values:\n",
        "\tndvi_sum = ndvi_sum + ndvi\n",
        "average_ndvi = ndvi_sum / N\n",
        "print (\"media do ndvi: \", average_ndvi)\n",
        "\n",
        "# obter o maior e menor valores de NDVI e escrevar a data em que eles ocorreram\n",
        "ndvi_max = -2.0\n",
        "ndvi_min = 2.0\n",
        "date_max = \"\"\n",
        "date_min = \"\"\n",
        "for ndvi, date in zip(ndvi_values, timeline):\n",
        "\tif ndvi > ndvi_max:\n",
        "\t\tndvi_max = ndvi\n",
        "\t\tdate_max = date\n",
        "\tif ndvi < ndvi_min:\n",
        "\t\tndvi_min = ndvi\n",
        "\t\tdate_min = date\n",
        "print(\"maior ndvi: \", ndvi_max,  \" data: \", date_max)\n",
        "print(\"menor ndvi: \", ndvi_min, \" data: \", date_min)\n"
      ],
      "execution_count": null,
      "outputs": []
    }
  ]
}